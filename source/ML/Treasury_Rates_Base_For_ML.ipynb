{
 "cells": [
  {
   "cell_type": "code",
   "execution_count": 267,
   "id": "1121c81f",
   "metadata": {},
   "outputs": [],
   "source": [
    "import pandas as pd\n",
    "from fredapi import Fred\n",
    "import sys\n",
    "import os\n",
    "import hvplot.pandas as hvplot\n",
    "# Add config module to sys path\n",
    "sys.path.insert(0, os.path.abspath('../../config'))\n",
    "\n",
    "# Import API key\n",
    "from api_keys import fred_api_key\n"
   ]
  },
  {
   "cell_type": "code",
   "execution_count": 268,
   "id": "1ba4ed17",
   "metadata": {},
   "outputs": [],
   "source": [
    "#Set up API Key\n",
    "\n",
    "fred = Fred(api_key=f'{fred_api_key}')"
   ]
  },
  {
   "cell_type": "code",
   "execution_count": 269,
   "id": "3b6bd365",
   "metadata": {},
   "outputs": [],
   "source": [
    "#Retrieve 10 Year Treasury security rates (monthly) from FRED API\n",
    "\n",
    "data_10year_treasury = fred.get_series('GS10')"
   ]
  },
  {
   "cell_type": "code",
   "execution_count": 270,
   "id": "eab5336c",
   "metadata": {},
   "outputs": [],
   "source": [
    "# Retain only data since June 1976. This is to match with data available for 2 year Treasury securities\n",
    "data_10year_treasury = data_10year_treasury.loc[data_10year_treasury.index > '1958-12-31']"
   ]
  },
  {
   "cell_type": "code",
   "execution_count": 271,
   "id": "718b0610",
   "metadata": {},
   "outputs": [
    {
     "data": {
      "text/plain": [
       "1959-01-01    4.02\n",
       "1959-02-01    3.96\n",
       "1959-03-01    3.99\n",
       "1959-04-01    4.12\n",
       "1959-05-01    4.31\n",
       "dtype: float64"
      ]
     },
     "execution_count": 271,
     "metadata": {},
     "output_type": "execute_result"
    }
   ],
   "source": [
    "data_10year_treasury.head(5)"
   ]
  },
  {
   "cell_type": "code",
   "execution_count": 272,
   "id": "4fbccb23",
   "metadata": {},
   "outputs": [],
   "source": [
    "data_2year_treasury = fred.get_series('GS2')"
   ]
  },
  {
   "cell_type": "code",
   "execution_count": 273,
   "id": "9b5430fa",
   "metadata": {},
   "outputs": [
    {
     "data": {
      "text/plain": [
       "1976-06-01    7.06\n",
       "1976-07-01    6.85\n",
       "1976-08-01    6.63\n",
       "1976-09-01    6.42\n",
       "1976-10-01    5.98\n",
       "dtype: float64"
      ]
     },
     "execution_count": 273,
     "metadata": {},
     "output_type": "execute_result"
    }
   ],
   "source": [
    "data_2year_treasury.head()"
   ]
  },
  {
   "cell_type": "code",
   "execution_count": 274,
   "id": "ca89bc06",
   "metadata": {},
   "outputs": [],
   "source": [
    "data_1year_treasury = fred.get_series('GS1')"
   ]
  },
  {
   "cell_type": "code",
   "execution_count": 275,
   "id": "0808ee7b",
   "metadata": {},
   "outputs": [],
   "source": [
    "data_1year_treasury = data_1year_treasury.loc[data_1year_treasury.index > '1958-12-31']"
   ]
  },
  {
   "cell_type": "code",
   "execution_count": 276,
   "id": "04ee0eb4",
   "metadata": {},
   "outputs": [
    {
     "data": {
      "text/plain": [
       "1959-01-01    3.36\n",
       "1959-02-01    3.54\n",
       "1959-03-01    3.61\n",
       "1959-04-01    3.72\n",
       "1959-05-01    3.96\n",
       "dtype: float64"
      ]
     },
     "execution_count": 276,
     "metadata": {},
     "output_type": "execute_result"
    }
   ],
   "source": [
    "data_1year_treasury.head()"
   ]
  },
  {
   "cell_type": "code",
   "execution_count": 277,
   "id": "38e9d07f",
   "metadata": {},
   "outputs": [],
   "source": [
    "data_10year_treasury_df = pd.DataFrame(data_10year_treasury)\n",
    "\n",
    "data_2year_treasury_df = pd.DataFrame(data_2year_treasury)\n",
    "\n",
    "data_1year_treasury_df = pd.DataFrame(data_1year_treasury)\n"
   ]
  },
  {
   "cell_type": "code",
   "execution_count": 278,
   "id": "46c87250",
   "metadata": {},
   "outputs": [],
   "source": [
    "data_10year_treasury_df = data_10year_treasury_df.reset_index()"
   ]
  },
  {
   "cell_type": "code",
   "execution_count": 279,
   "id": "73aa16a9",
   "metadata": {},
   "outputs": [
    {
     "data": {
      "text/html": [
       "<div>\n",
       "<style scoped>\n",
       "    .dataframe tbody tr th:only-of-type {\n",
       "        vertical-align: middle;\n",
       "    }\n",
       "\n",
       "    .dataframe tbody tr th {\n",
       "        vertical-align: top;\n",
       "    }\n",
       "\n",
       "    .dataframe thead th {\n",
       "        text-align: right;\n",
       "    }\n",
       "</style>\n",
       "<table border=\"1\" class=\"dataframe\">\n",
       "  <thead>\n",
       "    <tr style=\"text-align: right;\">\n",
       "      <th></th>\n",
       "      <th>index</th>\n",
       "      <th>0</th>\n",
       "    </tr>\n",
       "  </thead>\n",
       "  <tbody>\n",
       "    <tr>\n",
       "      <th>0</th>\n",
       "      <td>1959-01-01</td>\n",
       "      <td>4.02</td>\n",
       "    </tr>\n",
       "    <tr>\n",
       "      <th>1</th>\n",
       "      <td>1959-02-01</td>\n",
       "      <td>3.96</td>\n",
       "    </tr>\n",
       "    <tr>\n",
       "      <th>2</th>\n",
       "      <td>1959-03-01</td>\n",
       "      <td>3.99</td>\n",
       "    </tr>\n",
       "    <tr>\n",
       "      <th>3</th>\n",
       "      <td>1959-04-01</td>\n",
       "      <td>4.12</td>\n",
       "    </tr>\n",
       "    <tr>\n",
       "      <th>4</th>\n",
       "      <td>1959-05-01</td>\n",
       "      <td>4.31</td>\n",
       "    </tr>\n",
       "  </tbody>\n",
       "</table>\n",
       "</div>"
      ],
      "text/plain": [
       "       index     0\n",
       "0 1959-01-01  4.02\n",
       "1 1959-02-01  3.96\n",
       "2 1959-03-01  3.99\n",
       "3 1959-04-01  4.12\n",
       "4 1959-05-01  4.31"
      ]
     },
     "execution_count": 279,
     "metadata": {},
     "output_type": "execute_result"
    }
   ],
   "source": [
    "data_10year_treasury_df.head()"
   ]
  },
  {
   "cell_type": "code",
   "execution_count": 280,
   "id": "5f67e94c",
   "metadata": {},
   "outputs": [],
   "source": [
    "data_2year_treasury_df = data_2year_treasury_df.reset_index()"
   ]
  },
  {
   "cell_type": "code",
   "execution_count": 281,
   "id": "4ab9078c",
   "metadata": {},
   "outputs": [
    {
     "data": {
      "text/html": [
       "<div>\n",
       "<style scoped>\n",
       "    .dataframe tbody tr th:only-of-type {\n",
       "        vertical-align: middle;\n",
       "    }\n",
       "\n",
       "    .dataframe tbody tr th {\n",
       "        vertical-align: top;\n",
       "    }\n",
       "\n",
       "    .dataframe thead th {\n",
       "        text-align: right;\n",
       "    }\n",
       "</style>\n",
       "<table border=\"1\" class=\"dataframe\">\n",
       "  <thead>\n",
       "    <tr style=\"text-align: right;\">\n",
       "      <th></th>\n",
       "      <th>index</th>\n",
       "      <th>0</th>\n",
       "    </tr>\n",
       "  </thead>\n",
       "  <tbody>\n",
       "    <tr>\n",
       "      <th>0</th>\n",
       "      <td>1976-06-01</td>\n",
       "      <td>7.06</td>\n",
       "    </tr>\n",
       "    <tr>\n",
       "      <th>1</th>\n",
       "      <td>1976-07-01</td>\n",
       "      <td>6.85</td>\n",
       "    </tr>\n",
       "    <tr>\n",
       "      <th>2</th>\n",
       "      <td>1976-08-01</td>\n",
       "      <td>6.63</td>\n",
       "    </tr>\n",
       "    <tr>\n",
       "      <th>3</th>\n",
       "      <td>1976-09-01</td>\n",
       "      <td>6.42</td>\n",
       "    </tr>\n",
       "    <tr>\n",
       "      <th>4</th>\n",
       "      <td>1976-10-01</td>\n",
       "      <td>5.98</td>\n",
       "    </tr>\n",
       "  </tbody>\n",
       "</table>\n",
       "</div>"
      ],
      "text/plain": [
       "       index     0\n",
       "0 1976-06-01  7.06\n",
       "1 1976-07-01  6.85\n",
       "2 1976-08-01  6.63\n",
       "3 1976-09-01  6.42\n",
       "4 1976-10-01  5.98"
      ]
     },
     "execution_count": 281,
     "metadata": {},
     "output_type": "execute_result"
    }
   ],
   "source": [
    "data_2year_treasury_df.head()"
   ]
  },
  {
   "cell_type": "code",
   "execution_count": 282,
   "id": "fa80c166",
   "metadata": {},
   "outputs": [],
   "source": [
    "data_1year_treasury_df = data_1year_treasury_df.reset_index()"
   ]
  },
  {
   "cell_type": "code",
   "execution_count": 283,
   "id": "c5781c94",
   "metadata": {},
   "outputs": [
    {
     "data": {
      "text/html": [
       "<div>\n",
       "<style scoped>\n",
       "    .dataframe tbody tr th:only-of-type {\n",
       "        vertical-align: middle;\n",
       "    }\n",
       "\n",
       "    .dataframe tbody tr th {\n",
       "        vertical-align: top;\n",
       "    }\n",
       "\n",
       "    .dataframe thead th {\n",
       "        text-align: right;\n",
       "    }\n",
       "</style>\n",
       "<table border=\"1\" class=\"dataframe\">\n",
       "  <thead>\n",
       "    <tr style=\"text-align: right;\">\n",
       "      <th></th>\n",
       "      <th>index</th>\n",
       "      <th>0</th>\n",
       "    </tr>\n",
       "  </thead>\n",
       "  <tbody>\n",
       "    <tr>\n",
       "      <th>0</th>\n",
       "      <td>1959-01-01</td>\n",
       "      <td>3.36</td>\n",
       "    </tr>\n",
       "    <tr>\n",
       "      <th>1</th>\n",
       "      <td>1959-02-01</td>\n",
       "      <td>3.54</td>\n",
       "    </tr>\n",
       "    <tr>\n",
       "      <th>2</th>\n",
       "      <td>1959-03-01</td>\n",
       "      <td>3.61</td>\n",
       "    </tr>\n",
       "    <tr>\n",
       "      <th>3</th>\n",
       "      <td>1959-04-01</td>\n",
       "      <td>3.72</td>\n",
       "    </tr>\n",
       "    <tr>\n",
       "      <th>4</th>\n",
       "      <td>1959-05-01</td>\n",
       "      <td>3.96</td>\n",
       "    </tr>\n",
       "  </tbody>\n",
       "</table>\n",
       "</div>"
      ],
      "text/plain": [
       "       index     0\n",
       "0 1959-01-01  3.36\n",
       "1 1959-02-01  3.54\n",
       "2 1959-03-01  3.61\n",
       "3 1959-04-01  3.72\n",
       "4 1959-05-01  3.96"
      ]
     },
     "execution_count": 283,
     "metadata": {},
     "output_type": "execute_result"
    }
   ],
   "source": [
    "data_1year_treasury_df.head()"
   ]
  },
  {
   "cell_type": "code",
   "execution_count": 284,
   "id": "25a12569",
   "metadata": {},
   "outputs": [],
   "source": [
    "treasury_df = pd.merge(data_10year_treasury_df,data_2year_treasury_df, on=\"index\", how=\"left\")"
   ]
  },
  {
   "cell_type": "code",
   "execution_count": 285,
   "id": "6fff47e3",
   "metadata": {},
   "outputs": [],
   "source": [
    "treasury_df = treasury_df.fillna(0)"
   ]
  },
  {
   "cell_type": "code",
   "execution_count": 286,
   "id": "1587efe7",
   "metadata": {},
   "outputs": [
    {
     "data": {
      "text/html": [
       "<div>\n",
       "<style scoped>\n",
       "    .dataframe tbody tr th:only-of-type {\n",
       "        vertical-align: middle;\n",
       "    }\n",
       "\n",
       "    .dataframe tbody tr th {\n",
       "        vertical-align: top;\n",
       "    }\n",
       "\n",
       "    .dataframe thead th {\n",
       "        text-align: right;\n",
       "    }\n",
       "</style>\n",
       "<table border=\"1\" class=\"dataframe\">\n",
       "  <thead>\n",
       "    <tr style=\"text-align: right;\">\n",
       "      <th></th>\n",
       "      <th>index</th>\n",
       "      <th>0_x</th>\n",
       "      <th>0_y</th>\n",
       "    </tr>\n",
       "  </thead>\n",
       "  <tbody>\n",
       "    <tr>\n",
       "      <th>0</th>\n",
       "      <td>1959-01-01</td>\n",
       "      <td>4.02</td>\n",
       "      <td>0.0</td>\n",
       "    </tr>\n",
       "    <tr>\n",
       "      <th>1</th>\n",
       "      <td>1959-02-01</td>\n",
       "      <td>3.96</td>\n",
       "      <td>0.0</td>\n",
       "    </tr>\n",
       "    <tr>\n",
       "      <th>2</th>\n",
       "      <td>1959-03-01</td>\n",
       "      <td>3.99</td>\n",
       "      <td>0.0</td>\n",
       "    </tr>\n",
       "    <tr>\n",
       "      <th>3</th>\n",
       "      <td>1959-04-01</td>\n",
       "      <td>4.12</td>\n",
       "      <td>0.0</td>\n",
       "    </tr>\n",
       "    <tr>\n",
       "      <th>4</th>\n",
       "      <td>1959-05-01</td>\n",
       "      <td>4.31</td>\n",
       "      <td>0.0</td>\n",
       "    </tr>\n",
       "  </tbody>\n",
       "</table>\n",
       "</div>"
      ],
      "text/plain": [
       "       index   0_x  0_y\n",
       "0 1959-01-01  4.02  0.0\n",
       "1 1959-02-01  3.96  0.0\n",
       "2 1959-03-01  3.99  0.0\n",
       "3 1959-04-01  4.12  0.0\n",
       "4 1959-05-01  4.31  0.0"
      ]
     },
     "execution_count": 286,
     "metadata": {},
     "output_type": "execute_result"
    }
   ],
   "source": [
    "treasury_df.head()"
   ]
  },
  {
   "cell_type": "code",
   "execution_count": 287,
   "id": "3a64b57c",
   "metadata": {},
   "outputs": [],
   "source": [
    "treasury_df = pd.merge(treasury_df, data_1year_treasury_df, on=\"index\")"
   ]
  },
  {
   "cell_type": "code",
   "execution_count": 288,
   "id": "784cefd2",
   "metadata": {},
   "outputs": [
    {
     "data": {
      "text/html": [
       "<div>\n",
       "<style scoped>\n",
       "    .dataframe tbody tr th:only-of-type {\n",
       "        vertical-align: middle;\n",
       "    }\n",
       "\n",
       "    .dataframe tbody tr th {\n",
       "        vertical-align: top;\n",
       "    }\n",
       "\n",
       "    .dataframe thead th {\n",
       "        text-align: right;\n",
       "    }\n",
       "</style>\n",
       "<table border=\"1\" class=\"dataframe\">\n",
       "  <thead>\n",
       "    <tr style=\"text-align: right;\">\n",
       "      <th></th>\n",
       "      <th>index</th>\n",
       "      <th>0_x</th>\n",
       "      <th>0_y</th>\n",
       "      <th>0</th>\n",
       "    </tr>\n",
       "  </thead>\n",
       "  <tbody>\n",
       "    <tr>\n",
       "      <th>0</th>\n",
       "      <td>1959-01-01</td>\n",
       "      <td>4.02</td>\n",
       "      <td>0.0</td>\n",
       "      <td>3.36</td>\n",
       "    </tr>\n",
       "    <tr>\n",
       "      <th>1</th>\n",
       "      <td>1959-02-01</td>\n",
       "      <td>3.96</td>\n",
       "      <td>0.0</td>\n",
       "      <td>3.54</td>\n",
       "    </tr>\n",
       "    <tr>\n",
       "      <th>2</th>\n",
       "      <td>1959-03-01</td>\n",
       "      <td>3.99</td>\n",
       "      <td>0.0</td>\n",
       "      <td>3.61</td>\n",
       "    </tr>\n",
       "    <tr>\n",
       "      <th>3</th>\n",
       "      <td>1959-04-01</td>\n",
       "      <td>4.12</td>\n",
       "      <td>0.0</td>\n",
       "      <td>3.72</td>\n",
       "    </tr>\n",
       "    <tr>\n",
       "      <th>4</th>\n",
       "      <td>1959-05-01</td>\n",
       "      <td>4.31</td>\n",
       "      <td>0.0</td>\n",
       "      <td>3.96</td>\n",
       "    </tr>\n",
       "  </tbody>\n",
       "</table>\n",
       "</div>"
      ],
      "text/plain": [
       "       index   0_x  0_y     0\n",
       "0 1959-01-01  4.02  0.0  3.36\n",
       "1 1959-02-01  3.96  0.0  3.54\n",
       "2 1959-03-01  3.99  0.0  3.61\n",
       "3 1959-04-01  4.12  0.0  3.72\n",
       "4 1959-05-01  4.31  0.0  3.96"
      ]
     },
     "execution_count": 288,
     "metadata": {},
     "output_type": "execute_result"
    }
   ],
   "source": [
    "treasury_df.head()"
   ]
  },
  {
   "cell_type": "code",
   "execution_count": 289,
   "id": "9fee56c0",
   "metadata": {},
   "outputs": [],
   "source": [
    "treasury_df = treasury_df.rename(columns={\"index\":\"date\", \n",
    "                                          \"0_x\":\"10 Years T Rates\", \n",
    "                                          \"0_y\": \"2 Years T Rates\",\n",
    "                                         0 : \"1 Year T Rates\"})"
   ]
  },
  {
   "cell_type": "code",
   "execution_count": 290,
   "id": "d1c5648a",
   "metadata": {},
   "outputs": [
    {
     "data": {
      "text/html": [
       "<div>\n",
       "<style scoped>\n",
       "    .dataframe tbody tr th:only-of-type {\n",
       "        vertical-align: middle;\n",
       "    }\n",
       "\n",
       "    .dataframe tbody tr th {\n",
       "        vertical-align: top;\n",
       "    }\n",
       "\n",
       "    .dataframe thead th {\n",
       "        text-align: right;\n",
       "    }\n",
       "</style>\n",
       "<table border=\"1\" class=\"dataframe\">\n",
       "  <thead>\n",
       "    <tr style=\"text-align: right;\">\n",
       "      <th></th>\n",
       "      <th>date</th>\n",
       "      <th>10 Years T Rates</th>\n",
       "      <th>2 Years T Rates</th>\n",
       "      <th>1 Year T Rates</th>\n",
       "    </tr>\n",
       "  </thead>\n",
       "  <tbody>\n",
       "    <tr>\n",
       "      <th>0</th>\n",
       "      <td>1959-01-01</td>\n",
       "      <td>4.02</td>\n",
       "      <td>0.0</td>\n",
       "      <td>3.36</td>\n",
       "    </tr>\n",
       "    <tr>\n",
       "      <th>1</th>\n",
       "      <td>1959-02-01</td>\n",
       "      <td>3.96</td>\n",
       "      <td>0.0</td>\n",
       "      <td>3.54</td>\n",
       "    </tr>\n",
       "    <tr>\n",
       "      <th>2</th>\n",
       "      <td>1959-03-01</td>\n",
       "      <td>3.99</td>\n",
       "      <td>0.0</td>\n",
       "      <td>3.61</td>\n",
       "    </tr>\n",
       "    <tr>\n",
       "      <th>3</th>\n",
       "      <td>1959-04-01</td>\n",
       "      <td>4.12</td>\n",
       "      <td>0.0</td>\n",
       "      <td>3.72</td>\n",
       "    </tr>\n",
       "    <tr>\n",
       "      <th>4</th>\n",
       "      <td>1959-05-01</td>\n",
       "      <td>4.31</td>\n",
       "      <td>0.0</td>\n",
       "      <td>3.96</td>\n",
       "    </tr>\n",
       "  </tbody>\n",
       "</table>\n",
       "</div>"
      ],
      "text/plain": [
       "        date  10 Years T Rates  2 Years T Rates  1 Year T Rates\n",
       "0 1959-01-01              4.02              0.0            3.36\n",
       "1 1959-02-01              3.96              0.0            3.54\n",
       "2 1959-03-01              3.99              0.0            3.61\n",
       "3 1959-04-01              4.12              0.0            3.72\n",
       "4 1959-05-01              4.31              0.0            3.96"
      ]
     },
     "execution_count": 290,
     "metadata": {},
     "output_type": "execute_result"
    }
   ],
   "source": [
    "treasury_df.head()"
   ]
  },
  {
   "cell_type": "code",
   "execution_count": 291,
   "id": "d2643671",
   "metadata": {},
   "outputs": [],
   "source": [
    "def adjust_2_year_missing_rates(twoYearValue, tenYearValue):\n",
    "    if twoYearValue == 0:\n",
    "        return tenYearValue\n",
    "    else:\n",
    "        return twoYearValue"
   ]
  },
  {
   "cell_type": "code",
   "execution_count": 292,
   "id": "18b573f3",
   "metadata": {},
   "outputs": [],
   "source": [
    "treasury_df[\"2 Years T Rates\"] = treasury_df.apply(lambda row :  adjust_2_year_missing_rates(row[\"2 Years T Rates\"], row[\"10 Years T Rates\"]), axis=1)"
   ]
  },
  {
   "cell_type": "code",
   "execution_count": 293,
   "id": "920f2172",
   "metadata": {},
   "outputs": [
    {
     "data": {
      "text/html": [
       "<div>\n",
       "<style scoped>\n",
       "    .dataframe tbody tr th:only-of-type {\n",
       "        vertical-align: middle;\n",
       "    }\n",
       "\n",
       "    .dataframe tbody tr th {\n",
       "        vertical-align: top;\n",
       "    }\n",
       "\n",
       "    .dataframe thead th {\n",
       "        text-align: right;\n",
       "    }\n",
       "</style>\n",
       "<table border=\"1\" class=\"dataframe\">\n",
       "  <thead>\n",
       "    <tr style=\"text-align: right;\">\n",
       "      <th></th>\n",
       "      <th>date</th>\n",
       "      <th>10 Years T Rates</th>\n",
       "      <th>2 Years T Rates</th>\n",
       "      <th>1 Year T Rates</th>\n",
       "    </tr>\n",
       "  </thead>\n",
       "  <tbody>\n",
       "    <tr>\n",
       "      <th>0</th>\n",
       "      <td>1959-01-01</td>\n",
       "      <td>4.02</td>\n",
       "      <td>4.02</td>\n",
       "      <td>3.36</td>\n",
       "    </tr>\n",
       "    <tr>\n",
       "      <th>1</th>\n",
       "      <td>1959-02-01</td>\n",
       "      <td>3.96</td>\n",
       "      <td>3.96</td>\n",
       "      <td>3.54</td>\n",
       "    </tr>\n",
       "    <tr>\n",
       "      <th>2</th>\n",
       "      <td>1959-03-01</td>\n",
       "      <td>3.99</td>\n",
       "      <td>3.99</td>\n",
       "      <td>3.61</td>\n",
       "    </tr>\n",
       "    <tr>\n",
       "      <th>3</th>\n",
       "      <td>1959-04-01</td>\n",
       "      <td>4.12</td>\n",
       "      <td>4.12</td>\n",
       "      <td>3.72</td>\n",
       "    </tr>\n",
       "    <tr>\n",
       "      <th>4</th>\n",
       "      <td>1959-05-01</td>\n",
       "      <td>4.31</td>\n",
       "      <td>4.31</td>\n",
       "      <td>3.96</td>\n",
       "    </tr>\n",
       "  </tbody>\n",
       "</table>\n",
       "</div>"
      ],
      "text/plain": [
       "        date  10 Years T Rates  2 Years T Rates  1 Year T Rates\n",
       "0 1959-01-01              4.02             4.02            3.36\n",
       "1 1959-02-01              3.96             3.96            3.54\n",
       "2 1959-03-01              3.99             3.99            3.61\n",
       "3 1959-04-01              4.12             4.12            3.72\n",
       "4 1959-05-01              4.31             4.31            3.96"
      ]
     },
     "execution_count": 293,
     "metadata": {},
     "output_type": "execute_result"
    }
   ],
   "source": [
    "treasury_df.head()"
   ]
  },
  {
   "cell_type": "code",
   "execution_count": 294,
   "id": "c78133a2",
   "metadata": {},
   "outputs": [],
   "source": [
    "treasury_df[\"10-2 Rate Diff\"] = treasury_df[\"10 Years T Rates\"] - treasury_df[\"2 Years T Rates\"]"
   ]
  },
  {
   "cell_type": "code",
   "execution_count": 295,
   "id": "8cbfd791",
   "metadata": {},
   "outputs": [],
   "source": [
    "treasury_df[\"10-1 Rate Diff\"] = treasury_df[\"10 Years T Rates\"] - treasury_df[\"1 Year T Rates\"]"
   ]
  },
  {
   "cell_type": "code",
   "execution_count": 296,
   "id": "c0ce654a",
   "metadata": {},
   "outputs": [
    {
     "data": {
      "text/html": [
       "<div>\n",
       "<style scoped>\n",
       "    .dataframe tbody tr th:only-of-type {\n",
       "        vertical-align: middle;\n",
       "    }\n",
       "\n",
       "    .dataframe tbody tr th {\n",
       "        vertical-align: top;\n",
       "    }\n",
       "\n",
       "    .dataframe thead th {\n",
       "        text-align: right;\n",
       "    }\n",
       "</style>\n",
       "<table border=\"1\" class=\"dataframe\">\n",
       "  <thead>\n",
       "    <tr style=\"text-align: right;\">\n",
       "      <th></th>\n",
       "      <th>date</th>\n",
       "      <th>10 Years T Rates</th>\n",
       "      <th>2 Years T Rates</th>\n",
       "      <th>1 Year T Rates</th>\n",
       "      <th>10-2 Rate Diff</th>\n",
       "      <th>10-1 Rate Diff</th>\n",
       "    </tr>\n",
       "  </thead>\n",
       "  <tbody>\n",
       "    <tr>\n",
       "      <th>0</th>\n",
       "      <td>1959-01-01</td>\n",
       "      <td>4.02</td>\n",
       "      <td>4.02</td>\n",
       "      <td>3.36</td>\n",
       "      <td>0.0</td>\n",
       "      <td>0.66</td>\n",
       "    </tr>\n",
       "    <tr>\n",
       "      <th>1</th>\n",
       "      <td>1959-02-01</td>\n",
       "      <td>3.96</td>\n",
       "      <td>3.96</td>\n",
       "      <td>3.54</td>\n",
       "      <td>0.0</td>\n",
       "      <td>0.42</td>\n",
       "    </tr>\n",
       "    <tr>\n",
       "      <th>2</th>\n",
       "      <td>1959-03-01</td>\n",
       "      <td>3.99</td>\n",
       "      <td>3.99</td>\n",
       "      <td>3.61</td>\n",
       "      <td>0.0</td>\n",
       "      <td>0.38</td>\n",
       "    </tr>\n",
       "    <tr>\n",
       "      <th>3</th>\n",
       "      <td>1959-04-01</td>\n",
       "      <td>4.12</td>\n",
       "      <td>4.12</td>\n",
       "      <td>3.72</td>\n",
       "      <td>0.0</td>\n",
       "      <td>0.40</td>\n",
       "    </tr>\n",
       "    <tr>\n",
       "      <th>4</th>\n",
       "      <td>1959-05-01</td>\n",
       "      <td>4.31</td>\n",
       "      <td>4.31</td>\n",
       "      <td>3.96</td>\n",
       "      <td>0.0</td>\n",
       "      <td>0.35</td>\n",
       "    </tr>\n",
       "  </tbody>\n",
       "</table>\n",
       "</div>"
      ],
      "text/plain": [
       "        date  10 Years T Rates  2 Years T Rates  1 Year T Rates  \\\n",
       "0 1959-01-01              4.02             4.02            3.36   \n",
       "1 1959-02-01              3.96             3.96            3.54   \n",
       "2 1959-03-01              3.99             3.99            3.61   \n",
       "3 1959-04-01              4.12             4.12            3.72   \n",
       "4 1959-05-01              4.31             4.31            3.96   \n",
       "\n",
       "   10-2 Rate Diff  10-1 Rate Diff  \n",
       "0             0.0            0.66  \n",
       "1             0.0            0.42  \n",
       "2             0.0            0.38  \n",
       "3             0.0            0.40  \n",
       "4             0.0            0.35  "
      ]
     },
     "execution_count": 296,
     "metadata": {},
     "output_type": "execute_result"
    }
   ],
   "source": [
    "treasury_df.head()"
   ]
  },
  {
   "cell_type": "code",
   "execution_count": 297,
   "id": "28ec46b1",
   "metadata": {},
   "outputs": [
    {
     "data": {
      "text/plain": [
       "date                datetime64[ns]\n",
       "10 Years T Rates           float64\n",
       "2 Years T Rates            float64\n",
       "1 Year T Rates             float64\n",
       "10-2 Rate Diff             float64\n",
       "10-1 Rate Diff             float64\n",
       "dtype: object"
      ]
     },
     "execution_count": 297,
     "metadata": {},
     "output_type": "execute_result"
    }
   ],
   "source": [
    "treasury_df.dtypes"
   ]
  },
  {
   "cell_type": "code",
   "execution_count": 298,
   "id": "45d009b3",
   "metadata": {},
   "outputs": [],
   "source": [
    "treasury_df['Year-Qtr'] = pd.PeriodIndex(treasury_df.date, freq='Q')"
   ]
  },
  {
   "cell_type": "code",
   "execution_count": 299,
   "id": "fbb53bbb",
   "metadata": {},
   "outputs": [],
   "source": [
    "treasury_df = treasury_df.groupby(['Year-Qtr']).mean()"
   ]
  },
  {
   "cell_type": "code",
   "execution_count": 300,
   "id": "b6898d30",
   "metadata": {},
   "outputs": [],
   "source": [
    "treasury_df = treasury_df.drop(columns=[\"date\", \"10 Years T Rates\", \"2 Years T Rates\", \"1 Year T Rates\"])"
   ]
  },
  {
   "cell_type": "code",
   "execution_count": 301,
   "id": "957e97c0",
   "metadata": {},
   "outputs": [],
   "source": [
    "treasury_df = treasury_df.reset_index()"
   ]
  },
  {
   "cell_type": "code",
   "execution_count": 302,
   "id": "02639a6f",
   "metadata": {},
   "outputs": [],
   "source": [
    "treasury_df = treasury_df.rename(columns={\"index\" : \"Year-Qtr\"})"
   ]
  },
  {
   "cell_type": "code",
   "execution_count": 303,
   "id": "724df54e",
   "metadata": {},
   "outputs": [],
   "source": [
    "treasury_df[\"Year-Qtr\"] = treasury_df[\"Year-Qtr\"].astype(\"str\")"
   ]
  },
  {
   "cell_type": "code",
   "execution_count": 304,
   "id": "a2261555",
   "metadata": {},
   "outputs": [
    {
     "data": {
      "text/html": [
       "<div>\n",
       "<style scoped>\n",
       "    .dataframe tbody tr th:only-of-type {\n",
       "        vertical-align: middle;\n",
       "    }\n",
       "\n",
       "    .dataframe tbody tr th {\n",
       "        vertical-align: top;\n",
       "    }\n",
       "\n",
       "    .dataframe thead th {\n",
       "        text-align: right;\n",
       "    }\n",
       "</style>\n",
       "<table border=\"1\" class=\"dataframe\">\n",
       "  <thead>\n",
       "    <tr style=\"text-align: right;\">\n",
       "      <th></th>\n",
       "      <th>Year-Qtr</th>\n",
       "      <th>10-2 Rate Diff</th>\n",
       "      <th>10-1 Rate Diff</th>\n",
       "    </tr>\n",
       "  </thead>\n",
       "  <tbody>\n",
       "    <tr>\n",
       "      <th>0</th>\n",
       "      <td>1959Q1</td>\n",
       "      <td>0.0</td>\n",
       "      <td>0.486667</td>\n",
       "    </tr>\n",
       "    <tr>\n",
       "      <th>1</th>\n",
       "      <td>1959Q2</td>\n",
       "      <td>0.0</td>\n",
       "      <td>0.340000</td>\n",
       "    </tr>\n",
       "    <tr>\n",
       "      <th>2</th>\n",
       "      <td>1959Q3</td>\n",
       "      <td>0.0</td>\n",
       "      <td>-0.100000</td>\n",
       "    </tr>\n",
       "    <tr>\n",
       "      <th>3</th>\n",
       "      <td>1959Q4</td>\n",
       "      <td>0.0</td>\n",
       "      <td>-0.333333</td>\n",
       "    </tr>\n",
       "    <tr>\n",
       "      <th>4</th>\n",
       "      <td>1960Q1</td>\n",
       "      <td>0.0</td>\n",
       "      <td>-0.083333</td>\n",
       "    </tr>\n",
       "  </tbody>\n",
       "</table>\n",
       "</div>"
      ],
      "text/plain": [
       "  Year-Qtr  10-2 Rate Diff  10-1 Rate Diff\n",
       "0   1959Q1             0.0        0.486667\n",
       "1   1959Q2             0.0        0.340000\n",
       "2   1959Q3             0.0       -0.100000\n",
       "3   1959Q4             0.0       -0.333333\n",
       "4   1960Q1             0.0       -0.083333"
      ]
     },
     "execution_count": 304,
     "metadata": {},
     "output_type": "execute_result"
    }
   ],
   "source": [
    "treasury_df.head()"
   ]
  },
  {
   "cell_type": "code",
   "execution_count": 305,
   "id": "26540a2e",
   "metadata": {},
   "outputs": [
    {
     "name": "stdout",
     "output_type": "stream",
     "text": [
      "Treasury_Rates_Base_For_ML completed. treasury_df is ready for use \n"
     ]
    }
   ],
   "source": [
    "print(\"Treasury_Rates_Base_For_ML completed. treasury_df is ready for use \")"
   ]
  },
  {
   "cell_type": "code",
   "execution_count": null,
   "id": "475e980a",
   "metadata": {},
   "outputs": [],
   "source": []
  }
 ],
 "metadata": {
  "kernelspec": {
   "display_name": "Python 3 (ipykernel)",
   "language": "python",
   "name": "python3"
  },
  "language_info": {
   "codemirror_mode": {
    "name": "ipython",
    "version": 3
   },
   "file_extension": ".py",
   "mimetype": "text/x-python",
   "name": "python",
   "nbconvert_exporter": "python",
   "pygments_lexer": "ipython3",
   "version": "3.10.13"
  }
 },
 "nbformat": 4,
 "nbformat_minor": 5
}
