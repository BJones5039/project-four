{
 "cells": [
  {
   "cell_type": "code",
   "execution_count": 125,
   "id": "73ef17bc",
   "metadata": {},
   "outputs": [],
   "source": [
    "import pandas as pd\n",
    "from fredapi import Fred\n",
    "import sys\n",
    "import os\n",
    "import hvplot.pandas as hvplot\n",
    "# Add config module to sys path\n",
    "sys.path.insert(0, os.path.abspath('../../config'))\n",
    "\n",
    "# Import API key\n",
    "from api_keys import fred_api_key\n"
   ]
  },
  {
   "cell_type": "code",
   "execution_count": 126,
   "id": "d3708c00",
   "metadata": {},
   "outputs": [],
   "source": [
    "#Set up API Key\n",
    "\n",
    "fred = Fred(api_key=f'{fred_api_key}')"
   ]
  },
  {
   "cell_type": "code",
   "execution_count": 127,
   "id": "dd858244",
   "metadata": {},
   "outputs": [],
   "source": [
    "#Retrieve 10 Year Treasury security rates (monthly) from FRED API\n",
    "\n",
    "data_10year_treasury = fred.get_series('GS10')"
   ]
  },
  {
   "cell_type": "code",
   "execution_count": 128,
   "id": "9f5b7bb8",
   "metadata": {},
   "outputs": [],
   "source": [
    "# Retain only data since June 1976. This is to match with data available for 2 year Treasury securities\n",
    "data_10year_treasury = data_10year_treasury.loc[data_10year_treasury.index > '1958-12-31']"
   ]
  },
  {
   "cell_type": "code",
   "execution_count": 129,
   "id": "d8dd2c07",
   "metadata": {},
   "outputs": [
    {
     "data": {
      "text/plain": [
       "1959-01-01    4.02\n",
       "1959-02-01    3.96\n",
       "1959-03-01    3.99\n",
       "1959-04-01    4.12\n",
       "1959-05-01    4.31\n",
       "dtype: float64"
      ]
     },
     "execution_count": 129,
     "metadata": {},
     "output_type": "execute_result"
    }
   ],
   "source": [
    "data_10year_treasury.head(5)"
   ]
  },
  {
   "cell_type": "code",
   "execution_count": 130,
   "id": "a32f6bc1",
   "metadata": {},
   "outputs": [],
   "source": [
    "data_2year_treasury = fred.get_series('GS2')"
   ]
  },
  {
   "cell_type": "code",
   "execution_count": 131,
   "id": "b76c13c7",
   "metadata": {},
   "outputs": [
    {
     "data": {
      "text/plain": [
       "1976-06-01    7.06\n",
       "1976-07-01    6.85\n",
       "1976-08-01    6.63\n",
       "1976-09-01    6.42\n",
       "1976-10-01    5.98\n",
       "dtype: float64"
      ]
     },
     "execution_count": 131,
     "metadata": {},
     "output_type": "execute_result"
    }
   ],
   "source": [
    "data_2year_treasury.head()"
   ]
  },
  {
   "cell_type": "code",
   "execution_count": 132,
   "id": "8a80271d",
   "metadata": {},
   "outputs": [],
   "source": [
    "data_1year_treasury = fred.get_series('GS1')"
   ]
  },
  {
   "cell_type": "code",
   "execution_count": 133,
   "id": "fc0af649",
   "metadata": {},
   "outputs": [],
   "source": [
    "data_1year_treasury = data_1year_treasury.loc[data_1year_treasury.index > '1958-12-31']"
   ]
  },
  {
   "cell_type": "code",
   "execution_count": 134,
   "id": "521a814e",
   "metadata": {},
   "outputs": [
    {
     "data": {
      "text/plain": [
       "1959-01-01    3.36\n",
       "1959-02-01    3.54\n",
       "1959-03-01    3.61\n",
       "1959-04-01    3.72\n",
       "1959-05-01    3.96\n",
       "dtype: float64"
      ]
     },
     "execution_count": 134,
     "metadata": {},
     "output_type": "execute_result"
    }
   ],
   "source": [
    "data_1year_treasury.head()"
   ]
  },
  {
   "cell_type": "code",
   "execution_count": 135,
   "id": "68d9100f",
   "metadata": {},
   "outputs": [],
   "source": [
    "data_10year_treasury_df = pd.DataFrame(data_10year_treasury)\n",
    "\n",
    "data_2year_treasury_df = pd.DataFrame(data_2year_treasury)\n",
    "\n",
    "data_1year_treasury_df = pd.DataFrame(data_1year_treasury)\n"
   ]
  },
  {
   "cell_type": "code",
   "execution_count": 136,
   "id": "39940b83",
   "metadata": {},
   "outputs": [],
   "source": [
    "data_10year_treasury_df = data_10year_treasury_df.reset_index()"
   ]
  },
  {
   "cell_type": "code",
   "execution_count": 137,
   "id": "b9eab05c",
   "metadata": {},
   "outputs": [
    {
     "data": {
      "text/html": [
       "<div>\n",
       "<style scoped>\n",
       "    .dataframe tbody tr th:only-of-type {\n",
       "        vertical-align: middle;\n",
       "    }\n",
       "\n",
       "    .dataframe tbody tr th {\n",
       "        vertical-align: top;\n",
       "    }\n",
       "\n",
       "    .dataframe thead th {\n",
       "        text-align: right;\n",
       "    }\n",
       "</style>\n",
       "<table border=\"1\" class=\"dataframe\">\n",
       "  <thead>\n",
       "    <tr style=\"text-align: right;\">\n",
       "      <th></th>\n",
       "      <th>index</th>\n",
       "      <th>0</th>\n",
       "    </tr>\n",
       "  </thead>\n",
       "  <tbody>\n",
       "    <tr>\n",
       "      <th>0</th>\n",
       "      <td>1959-01-01</td>\n",
       "      <td>4.02</td>\n",
       "    </tr>\n",
       "    <tr>\n",
       "      <th>1</th>\n",
       "      <td>1959-02-01</td>\n",
       "      <td>3.96</td>\n",
       "    </tr>\n",
       "    <tr>\n",
       "      <th>2</th>\n",
       "      <td>1959-03-01</td>\n",
       "      <td>3.99</td>\n",
       "    </tr>\n",
       "    <tr>\n",
       "      <th>3</th>\n",
       "      <td>1959-04-01</td>\n",
       "      <td>4.12</td>\n",
       "    </tr>\n",
       "    <tr>\n",
       "      <th>4</th>\n",
       "      <td>1959-05-01</td>\n",
       "      <td>4.31</td>\n",
       "    </tr>\n",
       "  </tbody>\n",
       "</table>\n",
       "</div>"
      ],
      "text/plain": [
       "       index     0\n",
       "0 1959-01-01  4.02\n",
       "1 1959-02-01  3.96\n",
       "2 1959-03-01  3.99\n",
       "3 1959-04-01  4.12\n",
       "4 1959-05-01  4.31"
      ]
     },
     "execution_count": 137,
     "metadata": {},
     "output_type": "execute_result"
    }
   ],
   "source": [
    "data_10year_treasury_df.head()"
   ]
  },
  {
   "cell_type": "code",
   "execution_count": 138,
   "id": "24a4749d",
   "metadata": {},
   "outputs": [],
   "source": [
    "data_2year_treasury_df = data_2year_treasury_df.reset_index()"
   ]
  },
  {
   "cell_type": "code",
   "execution_count": 139,
   "id": "e4783dd4",
   "metadata": {},
   "outputs": [
    {
     "data": {
      "text/html": [
       "<div>\n",
       "<style scoped>\n",
       "    .dataframe tbody tr th:only-of-type {\n",
       "        vertical-align: middle;\n",
       "    }\n",
       "\n",
       "    .dataframe tbody tr th {\n",
       "        vertical-align: top;\n",
       "    }\n",
       "\n",
       "    .dataframe thead th {\n",
       "        text-align: right;\n",
       "    }\n",
       "</style>\n",
       "<table border=\"1\" class=\"dataframe\">\n",
       "  <thead>\n",
       "    <tr style=\"text-align: right;\">\n",
       "      <th></th>\n",
       "      <th>index</th>\n",
       "      <th>0</th>\n",
       "    </tr>\n",
       "  </thead>\n",
       "  <tbody>\n",
       "    <tr>\n",
       "      <th>0</th>\n",
       "      <td>1976-06-01</td>\n",
       "      <td>7.06</td>\n",
       "    </tr>\n",
       "    <tr>\n",
       "      <th>1</th>\n",
       "      <td>1976-07-01</td>\n",
       "      <td>6.85</td>\n",
       "    </tr>\n",
       "    <tr>\n",
       "      <th>2</th>\n",
       "      <td>1976-08-01</td>\n",
       "      <td>6.63</td>\n",
       "    </tr>\n",
       "    <tr>\n",
       "      <th>3</th>\n",
       "      <td>1976-09-01</td>\n",
       "      <td>6.42</td>\n",
       "    </tr>\n",
       "    <tr>\n",
       "      <th>4</th>\n",
       "      <td>1976-10-01</td>\n",
       "      <td>5.98</td>\n",
       "    </tr>\n",
       "  </tbody>\n",
       "</table>\n",
       "</div>"
      ],
      "text/plain": [
       "       index     0\n",
       "0 1976-06-01  7.06\n",
       "1 1976-07-01  6.85\n",
       "2 1976-08-01  6.63\n",
       "3 1976-09-01  6.42\n",
       "4 1976-10-01  5.98"
      ]
     },
     "execution_count": 139,
     "metadata": {},
     "output_type": "execute_result"
    }
   ],
   "source": [
    "data_2year_treasury_df.head()"
   ]
  },
  {
   "cell_type": "code",
   "execution_count": 140,
   "id": "ddda2fc1",
   "metadata": {},
   "outputs": [],
   "source": [
    "data_1year_treasury_df = data_1year_treasury_df.reset_index()"
   ]
  },
  {
   "cell_type": "code",
   "execution_count": 141,
   "id": "c46e2db6",
   "metadata": {},
   "outputs": [
    {
     "data": {
      "text/html": [
       "<div>\n",
       "<style scoped>\n",
       "    .dataframe tbody tr th:only-of-type {\n",
       "        vertical-align: middle;\n",
       "    }\n",
       "\n",
       "    .dataframe tbody tr th {\n",
       "        vertical-align: top;\n",
       "    }\n",
       "\n",
       "    .dataframe thead th {\n",
       "        text-align: right;\n",
       "    }\n",
       "</style>\n",
       "<table border=\"1\" class=\"dataframe\">\n",
       "  <thead>\n",
       "    <tr style=\"text-align: right;\">\n",
       "      <th></th>\n",
       "      <th>index</th>\n",
       "      <th>0</th>\n",
       "    </tr>\n",
       "  </thead>\n",
       "  <tbody>\n",
       "    <tr>\n",
       "      <th>0</th>\n",
       "      <td>1959-01-01</td>\n",
       "      <td>3.36</td>\n",
       "    </tr>\n",
       "    <tr>\n",
       "      <th>1</th>\n",
       "      <td>1959-02-01</td>\n",
       "      <td>3.54</td>\n",
       "    </tr>\n",
       "    <tr>\n",
       "      <th>2</th>\n",
       "      <td>1959-03-01</td>\n",
       "      <td>3.61</td>\n",
       "    </tr>\n",
       "    <tr>\n",
       "      <th>3</th>\n",
       "      <td>1959-04-01</td>\n",
       "      <td>3.72</td>\n",
       "    </tr>\n",
       "    <tr>\n",
       "      <th>4</th>\n",
       "      <td>1959-05-01</td>\n",
       "      <td>3.96</td>\n",
       "    </tr>\n",
       "  </tbody>\n",
       "</table>\n",
       "</div>"
      ],
      "text/plain": [
       "       index     0\n",
       "0 1959-01-01  3.36\n",
       "1 1959-02-01  3.54\n",
       "2 1959-03-01  3.61\n",
       "3 1959-04-01  3.72\n",
       "4 1959-05-01  3.96"
      ]
     },
     "execution_count": 141,
     "metadata": {},
     "output_type": "execute_result"
    }
   ],
   "source": [
    "data_1year_treasury_df.head()"
   ]
  },
  {
   "cell_type": "code",
   "execution_count": 152,
   "id": "34c2bda6",
   "metadata": {},
   "outputs": [],
   "source": [
    "treasury_df = pd.merge(data_10year_treasury_df,data_2year_treasury_df, on=\"index\", how=\"left\")"
   ]
  },
  {
   "cell_type": "code",
   "execution_count": 155,
   "id": "a6a7fd84",
   "metadata": {},
   "outputs": [],
   "source": [
    "treasury_df = treasury_df.fillna(0)"
   ]
  },
  {
   "cell_type": "code",
   "execution_count": 156,
   "id": "33213f05",
   "metadata": {},
   "outputs": [
    {
     "data": {
      "text/html": [
       "<div>\n",
       "<style scoped>\n",
       "    .dataframe tbody tr th:only-of-type {\n",
       "        vertical-align: middle;\n",
       "    }\n",
       "\n",
       "    .dataframe tbody tr th {\n",
       "        vertical-align: top;\n",
       "    }\n",
       "\n",
       "    .dataframe thead th {\n",
       "        text-align: right;\n",
       "    }\n",
       "</style>\n",
       "<table border=\"1\" class=\"dataframe\">\n",
       "  <thead>\n",
       "    <tr style=\"text-align: right;\">\n",
       "      <th></th>\n",
       "      <th>index</th>\n",
       "      <th>0_x</th>\n",
       "      <th>0_y</th>\n",
       "    </tr>\n",
       "  </thead>\n",
       "  <tbody>\n",
       "    <tr>\n",
       "      <th>0</th>\n",
       "      <td>1959-01-01</td>\n",
       "      <td>4.02</td>\n",
       "      <td>0.0</td>\n",
       "    </tr>\n",
       "    <tr>\n",
       "      <th>1</th>\n",
       "      <td>1959-02-01</td>\n",
       "      <td>3.96</td>\n",
       "      <td>0.0</td>\n",
       "    </tr>\n",
       "    <tr>\n",
       "      <th>2</th>\n",
       "      <td>1959-03-01</td>\n",
       "      <td>3.99</td>\n",
       "      <td>0.0</td>\n",
       "    </tr>\n",
       "    <tr>\n",
       "      <th>3</th>\n",
       "      <td>1959-04-01</td>\n",
       "      <td>4.12</td>\n",
       "      <td>0.0</td>\n",
       "    </tr>\n",
       "    <tr>\n",
       "      <th>4</th>\n",
       "      <td>1959-05-01</td>\n",
       "      <td>4.31</td>\n",
       "      <td>0.0</td>\n",
       "    </tr>\n",
       "  </tbody>\n",
       "</table>\n",
       "</div>"
      ],
      "text/plain": [
       "       index   0_x  0_y\n",
       "0 1959-01-01  4.02  0.0\n",
       "1 1959-02-01  3.96  0.0\n",
       "2 1959-03-01  3.99  0.0\n",
       "3 1959-04-01  4.12  0.0\n",
       "4 1959-05-01  4.31  0.0"
      ]
     },
     "execution_count": 156,
     "metadata": {},
     "output_type": "execute_result"
    }
   ],
   "source": [
    "treasury_df.head()"
   ]
  },
  {
   "cell_type": "code",
   "execution_count": 157,
   "id": "f5340952",
   "metadata": {},
   "outputs": [],
   "source": [
    "treasury_df = pd.merge(treasury_df, data_1year_treasury_df, on=\"index\")"
   ]
  },
  {
   "cell_type": "code",
   "execution_count": 158,
   "id": "a9823c64",
   "metadata": {},
   "outputs": [
    {
     "data": {
      "text/html": [
       "<div>\n",
       "<style scoped>\n",
       "    .dataframe tbody tr th:only-of-type {\n",
       "        vertical-align: middle;\n",
       "    }\n",
       "\n",
       "    .dataframe tbody tr th {\n",
       "        vertical-align: top;\n",
       "    }\n",
       "\n",
       "    .dataframe thead th {\n",
       "        text-align: right;\n",
       "    }\n",
       "</style>\n",
       "<table border=\"1\" class=\"dataframe\">\n",
       "  <thead>\n",
       "    <tr style=\"text-align: right;\">\n",
       "      <th></th>\n",
       "      <th>index</th>\n",
       "      <th>0_x</th>\n",
       "      <th>0_y</th>\n",
       "      <th>0</th>\n",
       "    </tr>\n",
       "  </thead>\n",
       "  <tbody>\n",
       "    <tr>\n",
       "      <th>0</th>\n",
       "      <td>1959-01-01</td>\n",
       "      <td>4.02</td>\n",
       "      <td>0.0</td>\n",
       "      <td>3.36</td>\n",
       "    </tr>\n",
       "    <tr>\n",
       "      <th>1</th>\n",
       "      <td>1959-02-01</td>\n",
       "      <td>3.96</td>\n",
       "      <td>0.0</td>\n",
       "      <td>3.54</td>\n",
       "    </tr>\n",
       "    <tr>\n",
       "      <th>2</th>\n",
       "      <td>1959-03-01</td>\n",
       "      <td>3.99</td>\n",
       "      <td>0.0</td>\n",
       "      <td>3.61</td>\n",
       "    </tr>\n",
       "    <tr>\n",
       "      <th>3</th>\n",
       "      <td>1959-04-01</td>\n",
       "      <td>4.12</td>\n",
       "      <td>0.0</td>\n",
       "      <td>3.72</td>\n",
       "    </tr>\n",
       "    <tr>\n",
       "      <th>4</th>\n",
       "      <td>1959-05-01</td>\n",
       "      <td>4.31</td>\n",
       "      <td>0.0</td>\n",
       "      <td>3.96</td>\n",
       "    </tr>\n",
       "  </tbody>\n",
       "</table>\n",
       "</div>"
      ],
      "text/plain": [
       "       index   0_x  0_y     0\n",
       "0 1959-01-01  4.02  0.0  3.36\n",
       "1 1959-02-01  3.96  0.0  3.54\n",
       "2 1959-03-01  3.99  0.0  3.61\n",
       "3 1959-04-01  4.12  0.0  3.72\n",
       "4 1959-05-01  4.31  0.0  3.96"
      ]
     },
     "execution_count": 158,
     "metadata": {},
     "output_type": "execute_result"
    }
   ],
   "source": [
    "treasury_df.head()"
   ]
  },
  {
   "cell_type": "code",
   "execution_count": 159,
   "id": "e6ea0b91",
   "metadata": {},
   "outputs": [],
   "source": [
    "treasury_df = treasury_df.rename(columns={\"index\":\"date\", \n",
    "                                          \"0_x\":\"10 Years T Rates\", \n",
    "                                          \"0_y\": \"2 Years T Rates\",\n",
    "                                         0 : \"1 Year T Rates\"})"
   ]
  },
  {
   "cell_type": "code",
   "execution_count": 160,
   "id": "7ace791d",
   "metadata": {},
   "outputs": [
    {
     "data": {
      "text/html": [
       "<div>\n",
       "<style scoped>\n",
       "    .dataframe tbody tr th:only-of-type {\n",
       "        vertical-align: middle;\n",
       "    }\n",
       "\n",
       "    .dataframe tbody tr th {\n",
       "        vertical-align: top;\n",
       "    }\n",
       "\n",
       "    .dataframe thead th {\n",
       "        text-align: right;\n",
       "    }\n",
       "</style>\n",
       "<table border=\"1\" class=\"dataframe\">\n",
       "  <thead>\n",
       "    <tr style=\"text-align: right;\">\n",
       "      <th></th>\n",
       "      <th>date</th>\n",
       "      <th>10 Years T Rates</th>\n",
       "      <th>2 Years T Rates</th>\n",
       "      <th>1 Year T Rates</th>\n",
       "    </tr>\n",
       "  </thead>\n",
       "  <tbody>\n",
       "    <tr>\n",
       "      <th>0</th>\n",
       "      <td>1959-01-01</td>\n",
       "      <td>4.02</td>\n",
       "      <td>0.0</td>\n",
       "      <td>3.36</td>\n",
       "    </tr>\n",
       "    <tr>\n",
       "      <th>1</th>\n",
       "      <td>1959-02-01</td>\n",
       "      <td>3.96</td>\n",
       "      <td>0.0</td>\n",
       "      <td>3.54</td>\n",
       "    </tr>\n",
       "    <tr>\n",
       "      <th>2</th>\n",
       "      <td>1959-03-01</td>\n",
       "      <td>3.99</td>\n",
       "      <td>0.0</td>\n",
       "      <td>3.61</td>\n",
       "    </tr>\n",
       "    <tr>\n",
       "      <th>3</th>\n",
       "      <td>1959-04-01</td>\n",
       "      <td>4.12</td>\n",
       "      <td>0.0</td>\n",
       "      <td>3.72</td>\n",
       "    </tr>\n",
       "    <tr>\n",
       "      <th>4</th>\n",
       "      <td>1959-05-01</td>\n",
       "      <td>4.31</td>\n",
       "      <td>0.0</td>\n",
       "      <td>3.96</td>\n",
       "    </tr>\n",
       "  </tbody>\n",
       "</table>\n",
       "</div>"
      ],
      "text/plain": [
       "        date  10 Years T Rates  2 Years T Rates  1 Year T Rates\n",
       "0 1959-01-01              4.02              0.0            3.36\n",
       "1 1959-02-01              3.96              0.0            3.54\n",
       "2 1959-03-01              3.99              0.0            3.61\n",
       "3 1959-04-01              4.12              0.0            3.72\n",
       "4 1959-05-01              4.31              0.0            3.96"
      ]
     },
     "execution_count": 160,
     "metadata": {},
     "output_type": "execute_result"
    }
   ],
   "source": [
    "treasury_df.head()"
   ]
  },
  {
   "cell_type": "code",
   "execution_count": 169,
   "id": "7c9bb3a1",
   "metadata": {},
   "outputs": [],
   "source": [
    "def adjust_2_year_missing_rates(twoYearValue, tenYearValue):\n",
    "    if twoYearValue == 0:\n",
    "        return tenYearValue\n",
    "    else:\n",
    "        return twoYearValue"
   ]
  },
  {
   "cell_type": "code",
   "execution_count": 175,
   "id": "ffa0345d",
   "metadata": {},
   "outputs": [],
   "source": [
    "treasury_df[\"2 Years T Rates\"] = treasury_df.apply(lambda row :  adjust_2_year_missing_rates(row[\"2 Years T Rates\"], row[\"10 Years T Rates\"]), axis=1)"
   ]
  },
  {
   "cell_type": "code",
   "execution_count": 176,
   "id": "503a0c74",
   "metadata": {},
   "outputs": [
    {
     "data": {
      "text/html": [
       "<div>\n",
       "<style scoped>\n",
       "    .dataframe tbody tr th:only-of-type {\n",
       "        vertical-align: middle;\n",
       "    }\n",
       "\n",
       "    .dataframe tbody tr th {\n",
       "        vertical-align: top;\n",
       "    }\n",
       "\n",
       "    .dataframe thead th {\n",
       "        text-align: right;\n",
       "    }\n",
       "</style>\n",
       "<table border=\"1\" class=\"dataframe\">\n",
       "  <thead>\n",
       "    <tr style=\"text-align: right;\">\n",
       "      <th></th>\n",
       "      <th>date</th>\n",
       "      <th>10 Years T Rates</th>\n",
       "      <th>2 Years T Rates</th>\n",
       "      <th>1 Year T Rates</th>\n",
       "      <th>10-2 Rate Diff</th>\n",
       "      <th>10-1 Rate Diff</th>\n",
       "    </tr>\n",
       "  </thead>\n",
       "  <tbody>\n",
       "    <tr>\n",
       "      <th>0</th>\n",
       "      <td>1959-01-01</td>\n",
       "      <td>4.02</td>\n",
       "      <td>4.02</td>\n",
       "      <td>3.36</td>\n",
       "      <td>4.02</td>\n",
       "      <td>0.66</td>\n",
       "    </tr>\n",
       "    <tr>\n",
       "      <th>1</th>\n",
       "      <td>1959-02-01</td>\n",
       "      <td>3.96</td>\n",
       "      <td>3.96</td>\n",
       "      <td>3.54</td>\n",
       "      <td>3.96</td>\n",
       "      <td>0.42</td>\n",
       "    </tr>\n",
       "    <tr>\n",
       "      <th>2</th>\n",
       "      <td>1959-03-01</td>\n",
       "      <td>3.99</td>\n",
       "      <td>3.99</td>\n",
       "      <td>3.61</td>\n",
       "      <td>3.99</td>\n",
       "      <td>0.38</td>\n",
       "    </tr>\n",
       "    <tr>\n",
       "      <th>3</th>\n",
       "      <td>1959-04-01</td>\n",
       "      <td>4.12</td>\n",
       "      <td>4.12</td>\n",
       "      <td>3.72</td>\n",
       "      <td>4.12</td>\n",
       "      <td>0.40</td>\n",
       "    </tr>\n",
       "    <tr>\n",
       "      <th>4</th>\n",
       "      <td>1959-05-01</td>\n",
       "      <td>4.31</td>\n",
       "      <td>4.31</td>\n",
       "      <td>3.96</td>\n",
       "      <td>4.31</td>\n",
       "      <td>0.35</td>\n",
       "    </tr>\n",
       "  </tbody>\n",
       "</table>\n",
       "</div>"
      ],
      "text/plain": [
       "        date  10 Years T Rates  2 Years T Rates  1 Year T Rates  \\\n",
       "0 1959-01-01              4.02             4.02            3.36   \n",
       "1 1959-02-01              3.96             3.96            3.54   \n",
       "2 1959-03-01              3.99             3.99            3.61   \n",
       "3 1959-04-01              4.12             4.12            3.72   \n",
       "4 1959-05-01              4.31             4.31            3.96   \n",
       "\n",
       "   10-2 Rate Diff  10-1 Rate Diff  \n",
       "0            4.02            0.66  \n",
       "1            3.96            0.42  \n",
       "2            3.99            0.38  \n",
       "3            4.12            0.40  \n",
       "4            4.31            0.35  "
      ]
     },
     "execution_count": 176,
     "metadata": {},
     "output_type": "execute_result"
    }
   ],
   "source": [
    "treasury_df.head()"
   ]
  },
  {
   "cell_type": "code",
   "execution_count": 177,
   "id": "e759e064",
   "metadata": {},
   "outputs": [],
   "source": [
    "treasury_df[\"10-2 Rate Diff\"] = treasury_df[\"10 Years T Rates\"] - treasury_df[\"2 Years T Rates\"]"
   ]
  },
  {
   "cell_type": "code",
   "execution_count": 178,
   "id": "d104bba2",
   "metadata": {},
   "outputs": [],
   "source": [
    "treasury_df[\"10-1 Rate Diff\"] = treasury_df[\"10 Years T Rates\"] - treasury_df[\"1 Year T Rates\"]"
   ]
  },
  {
   "cell_type": "code",
   "execution_count": 179,
   "id": "80e786c7",
   "metadata": {},
   "outputs": [
    {
     "data": {
      "text/html": [
       "<div>\n",
       "<style scoped>\n",
       "    .dataframe tbody tr th:only-of-type {\n",
       "        vertical-align: middle;\n",
       "    }\n",
       "\n",
       "    .dataframe tbody tr th {\n",
       "        vertical-align: top;\n",
       "    }\n",
       "\n",
       "    .dataframe thead th {\n",
       "        text-align: right;\n",
       "    }\n",
       "</style>\n",
       "<table border=\"1\" class=\"dataframe\">\n",
       "  <thead>\n",
       "    <tr style=\"text-align: right;\">\n",
       "      <th></th>\n",
       "      <th>date</th>\n",
       "      <th>10 Years T Rates</th>\n",
       "      <th>2 Years T Rates</th>\n",
       "      <th>1 Year T Rates</th>\n",
       "      <th>10-2 Rate Diff</th>\n",
       "      <th>10-1 Rate Diff</th>\n",
       "    </tr>\n",
       "  </thead>\n",
       "  <tbody>\n",
       "    <tr>\n",
       "      <th>0</th>\n",
       "      <td>1959-01-01</td>\n",
       "      <td>4.02</td>\n",
       "      <td>4.02</td>\n",
       "      <td>3.36</td>\n",
       "      <td>0.0</td>\n",
       "      <td>0.66</td>\n",
       "    </tr>\n",
       "    <tr>\n",
       "      <th>1</th>\n",
       "      <td>1959-02-01</td>\n",
       "      <td>3.96</td>\n",
       "      <td>3.96</td>\n",
       "      <td>3.54</td>\n",
       "      <td>0.0</td>\n",
       "      <td>0.42</td>\n",
       "    </tr>\n",
       "    <tr>\n",
       "      <th>2</th>\n",
       "      <td>1959-03-01</td>\n",
       "      <td>3.99</td>\n",
       "      <td>3.99</td>\n",
       "      <td>3.61</td>\n",
       "      <td>0.0</td>\n",
       "      <td>0.38</td>\n",
       "    </tr>\n",
       "    <tr>\n",
       "      <th>3</th>\n",
       "      <td>1959-04-01</td>\n",
       "      <td>4.12</td>\n",
       "      <td>4.12</td>\n",
       "      <td>3.72</td>\n",
       "      <td>0.0</td>\n",
       "      <td>0.40</td>\n",
       "    </tr>\n",
       "    <tr>\n",
       "      <th>4</th>\n",
       "      <td>1959-05-01</td>\n",
       "      <td>4.31</td>\n",
       "      <td>4.31</td>\n",
       "      <td>3.96</td>\n",
       "      <td>0.0</td>\n",
       "      <td>0.35</td>\n",
       "    </tr>\n",
       "  </tbody>\n",
       "</table>\n",
       "</div>"
      ],
      "text/plain": [
       "        date  10 Years T Rates  2 Years T Rates  1 Year T Rates  \\\n",
       "0 1959-01-01              4.02             4.02            3.36   \n",
       "1 1959-02-01              3.96             3.96            3.54   \n",
       "2 1959-03-01              3.99             3.99            3.61   \n",
       "3 1959-04-01              4.12             4.12            3.72   \n",
       "4 1959-05-01              4.31             4.31            3.96   \n",
       "\n",
       "   10-2 Rate Diff  10-1 Rate Diff  \n",
       "0             0.0            0.66  \n",
       "1             0.0            0.42  \n",
       "2             0.0            0.38  \n",
       "3             0.0            0.40  \n",
       "4             0.0            0.35  "
      ]
     },
     "execution_count": 179,
     "metadata": {},
     "output_type": "execute_result"
    }
   ],
   "source": [
    "treasury_df.head()"
   ]
  },
  {
   "cell_type": "code",
   "execution_count": 180,
   "id": "5bf824d7",
   "metadata": {},
   "outputs": [
    {
     "data": {},
     "metadata": {},
     "output_type": "display_data"
    },
    {
     "data": {
      "application/vnd.holoviews_exec.v0+json": "",
      "text/html": [
       "<div id='p1290'>\n",
       "  <div id=\"a569b81b-11d3-49e9-8455-ccf865968424\" data-root-id=\"p1290\" style=\"display: contents;\"></div>\n",
       "</div>\n",
       "<script type=\"application/javascript\">(function(root) {\n",
       "  var docs_json = {\"9fa6145f-aa30-4112-b16e-8a2a1f6e5440\":{\"version\":\"3.2.1\",\"title\":\"Bokeh Application\",\"roots\":[{\"type\":\"object\",\"name\":\"Row\",\"id\":\"p1290\",\"attributes\":{\"name\":\"Row01385\",\"tags\":[\"embedded\"],\"stylesheets\":[\"\\n:host(.pn-loading.pn-arc):before, .pn-loading.pn-arc:before {\\n  background-image: url(\\\"data:image/svg+xml;base64,PHN2ZyB4bWxucz0iaHR0cDovL3d3dy53My5vcmcvMjAwMC9zdmciIHN0eWxlPSJtYXJnaW46IGF1dG87IGJhY2tncm91bmQ6IG5vbmU7IGRpc3BsYXk6IGJsb2NrOyBzaGFwZS1yZW5kZXJpbmc6IGF1dG87IiB2aWV3Qm94PSIwIDAgMTAwIDEwMCIgcHJlc2VydmVBc3BlY3RSYXRpbz0ieE1pZFlNaWQiPiAgPGNpcmNsZSBjeD0iNTAiIGN5PSI1MCIgZmlsbD0ibm9uZSIgc3Ryb2tlPSIjYzNjM2MzIiBzdHJva2Utd2lkdGg9IjEwIiByPSIzNSIgc3Ryb2tlLWRhc2hhcnJheT0iMTY0LjkzMzYxNDMxMzQ2NDE1IDU2Ljk3Nzg3MTQzNzgyMTM4Ij4gICAgPGFuaW1hdGVUcmFuc2Zvcm0gYXR0cmlidXRlTmFtZT0idHJhbnNmb3JtIiB0eXBlPSJyb3RhdGUiIHJlcGVhdENvdW50PSJpbmRlZmluaXRlIiBkdXI9IjFzIiB2YWx1ZXM9IjAgNTAgNTA7MzYwIDUwIDUwIiBrZXlUaW1lcz0iMDsxIj48L2FuaW1hdGVUcmFuc2Zvcm0+ICA8L2NpcmNsZT48L3N2Zz4=\\\");\\n  background-size: auto calc(min(50%, 400px));\\n}\",{\"type\":\"object\",\"name\":\"ImportedStyleSheet\",\"id\":\"p1293\",\"attributes\":{\"url\":\"https://cdn.holoviz.org/panel/1.2.3/dist/css/loading.css\"}},{\"type\":\"object\",\"name\":\"ImportedStyleSheet\",\"id\":\"p1357\",\"attributes\":{\"url\":\"https://cdn.holoviz.org/panel/1.2.3/dist/css/listpanel.css\"}},{\"type\":\"object\",\"name\":\"ImportedStyleSheet\",\"id\":\"p1291\",\"attributes\":{\"url\":\"https://cdn.holoviz.org/panel/1.2.3/dist/bundled/theme/default.css\"}},{\"type\":\"object\",\"name\":\"ImportedStyleSheet\",\"id\":\"p1292\",\"attributes\":{\"url\":\"https://cdn.holoviz.org/panel/1.2.3/dist/bundled/theme/native.css\"}}],\"min_width\":700,\"margin\":0,\"sizing_mode\":\"stretch_width\",\"align\":\"start\",\"children\":[{\"type\":\"object\",\"name\":\"Spacer\",\"id\":\"p1294\",\"attributes\":{\"name\":\"HSpacer01396\",\"stylesheets\":[\"\\n:host(.pn-loading.pn-arc):before, .pn-loading.pn-arc:before {\\n  background-image: url(\\\"data:image/svg+xml;base64,PHN2ZyB4bWxucz0iaHR0cDovL3d3dy53My5vcmcvMjAwMC9zdmciIHN0eWxlPSJtYXJnaW46IGF1dG87IGJhY2tncm91bmQ6IG5vbmU7IGRpc3BsYXk6IGJsb2NrOyBzaGFwZS1yZW5kZXJpbmc6IGF1dG87IiB2aWV3Qm94PSIwIDAgMTAwIDEwMCIgcHJlc2VydmVBc3BlY3RSYXRpbz0ieE1pZFlNaWQiPiAgPGNpcmNsZSBjeD0iNTAiIGN5PSI1MCIgZmlsbD0ibm9uZSIgc3Ryb2tlPSIjYzNjM2MzIiBzdHJva2Utd2lkdGg9IjEwIiByPSIzNSIgc3Ryb2tlLWRhc2hhcnJheT0iMTY0LjkzMzYxNDMxMzQ2NDE1IDU2Ljk3Nzg3MTQzNzgyMTM4Ij4gICAgPGFuaW1hdGVUcmFuc2Zvcm0gYXR0cmlidXRlTmFtZT0idHJhbnNmb3JtIiB0eXBlPSJyb3RhdGUiIHJlcGVhdENvdW50PSJpbmRlZmluaXRlIiBkdXI9IjFzIiB2YWx1ZXM9IjAgNTAgNTA7MzYwIDUwIDUwIiBrZXlUaW1lcz0iMDsxIj48L2FuaW1hdGVUcmFuc2Zvcm0+ICA8L2NpcmNsZT48L3N2Zz4=\\\");\\n  background-size: auto calc(min(50%, 400px));\\n}\",{\"id\":\"p1293\"},{\"id\":\"p1291\"},{\"id\":\"p1292\"}],\"margin\":0,\"sizing_mode\":\"stretch_width\",\"align\":\"start\"}},{\"type\":\"object\",\"name\":\"Figure\",\"id\":\"p1302\",\"attributes\":{\"width\":700,\"height\":300,\"margin\":[5,10],\"sizing_mode\":\"fixed\",\"align\":\"start\",\"x_range\":{\"type\":\"object\",\"name\":\"Range1d\",\"id\":\"p1295\",\"attributes\":{\"tags\":[[[\"date\",\"date\",null]],[]],\"start\":-347155200000.0,\"end\":1709251200000.0,\"reset_start\":-347155200000.0,\"reset_end\":1709251200000.0}},\"y_range\":{\"type\":\"object\",\"name\":\"Range1d\",\"id\":\"p1296\",\"attributes\":{\"tags\":[[[\"10-2 Rate Diff\",\"10-2 Rate Diff\",null]],{\"type\":\"map\",\"entries\":[[\"invert_yaxis\",false],[\"autorange\",false]]}],\"start\":-2.626000000000001,\"end\":3.326,\"reset_start\":-2.626000000000001,\"reset_end\":3.326}},\"x_scale\":{\"type\":\"object\",\"name\":\"LinearScale\",\"id\":\"p1312\"},\"y_scale\":{\"type\":\"object\",\"name\":\"LinearScale\",\"id\":\"p1313\"},\"title\":{\"type\":\"object\",\"name\":\"Title\",\"id\":\"p1305\",\"attributes\":{\"text_color\":\"black\",\"text_font_size\":\"12pt\"}},\"renderers\":[{\"type\":\"object\",\"name\":\"GlyphRenderer\",\"id\":\"p1350\",\"attributes\":{\"data_source\":{\"type\":\"object\",\"name\":\"ColumnDataSource\",\"id\":\"p1341\",\"attributes\":{\"selected\":{\"type\":\"object\",\"name\":\"Selection\",\"id\":\"p1342\",\"attributes\":{\"indices\":[],\"line_indices\":[]}},\"selection_policy\":{\"type\":\"object\",\"name\":\"UnionRenderers\",\"id\":\"p1343\"},\"data\":{\"type\":\"map\",\"entries\":[[\"date\",{\"type\":\"ndarray\",\"array\":{\"type\":\"bytes\",\"data\":\"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\"},\"shape\":[783],\"dtype\":\"float64\",\"order\":\"little\"}],[\"10-2 Rate Diff\",{\"type\":\"ndarray\",\"array\":{\"type\":\"bytes\",\"data\":\"AAAAAAAAAAAAAAAAAAAAAAAAAAAAAAAAAAAAAAAAAAAAAAAAAAAAAAAAAAAAAAAAAAAAAAAAAAAAAAAAAAAAAAAAAAAAAAAAAAAAAAAAAAAAAAAAAAAAAAAAAAAAAAAAAAAAAAAAAAAAAAAAAAAAAAAAAAAAAAAAAAAAAAAAAAAAAAAAAAAAAAAAAAAAAAAAAAAAAAAAAAAAAAAAAAAAAAAAAAAAAAAAAAAAAAAAAAAAAAAAAAAAAAAAAAAAAAAAAAAAAAAAAAAAAAAAAAAAAAAAAAAAAAAAAAAAAAAAAAAAAAAAAAAAAAAAAAAAAAAAAAAAAAAAAAAAAAAAAAAAAAAAAAAAAAAAAAAAAAAAAAAAAAAAAAAAAAAAAAAAAAAAAAAAAAAAAAAAAAAAAAAAAAAAAAAAAAAAAAAAAAAAAAAAAAAAAAAAAAAAAAAAAAAAAAAAAAAAAAAAAAAAAAAAAAAAAAAAAAAAAAAAAAAAAAAAAAAAAAAAAAAAAAAAAAAAAAAAAAAAAAAAAAAAAAAAAAAAAAAAAAAAAAAAAAAAAAAAAAAAAAAAAAAAAAAAAAAAAAAAAAAAAAAAAAAAAAAAAAAAAAAAAAAAAAAAAAAAAAAAAAAAAAAAAAAAAAAAAAAAAAAAAAAAAAAAAAAAAAAAAAAAAAAAAAAAAAAAAAAAAAAAAAAAAAAAAAAAAAAAAAAAAAAAAAAAAAAAAAAAAAAAAAAAAAAAAAAAAAAAAAAAAAAAAAAAAAAAAAAAAAAAAAAAAAAAAAAAAAAAAAAAAAAAAAAAAAAAAAAAAAAAAAAAAAAAAAAAAAAAAAAAAAAAAAAAAAAAAAAAAAAAAAAAAAAAAAAAAAAAAAAAAAAAAAAAAAAAAAAAAAAAAAAAAAAAAAAAAAAAAAAAAAAAAAAAAAAAAAAAAAAAAAAAAAAAAAAAAAAAAAAAAAAAAAAAAAAAAAAAAAAAAAAAAAAAAAAAAAAAAAAAAAAAAAAAAAAAAAAAAAAAAAAAAAAAAAAAAAAAAAAAAAAAAAAAAAAAAAAAAAAAAAAAAAAAAAAAAAAAAAAAAAAAAAAAAAAAAAAAAAAAAAAAAAAAAAAAAAAAAAAAAAAAAAAAAAAAAAAAAAAAAAAAAAAAAAAAAAAAAAAAAAAAAAAAAAAAAAAAAAAAAAAAAAAAAAAAAAAAAAAAAAAAAAAAAAAAAAAAAAAAAAAAAAAAAAAAAAAAAAAAAAAAAAAAAAAAAAAAAAAAAAAAAAAAAAAAAAAAAAAAAAAAAAAAAAAAAAAAAAAAAAAAAAAAAAAAAAAAAAAAAAAAAAAAAAAAAAAAAAAAAAAAAAAAAAAAAAAAAAAAAAAAAAAAAAAAAAAAAAAAAAAAAAAAAAAAAAAAAAAAAAAAAAAAAAAAAAAAAAAAAAAAAAAAAAAAAAAAAAAAAAAAAAAAAAAAAAAAAAAAAAAAAAAAAAAAAAAAAAAAAAAAAAAAAAAAAAAAAAAAAAAAAAAAAAAAAAAAAAAAAAAAAAAAAAAAAAAAAAAAAAAAAAAAAAAAAAAAAAAAAAAAAAAAAAAAAAAAAAAAAAAAAAAAAAAAAAAAAAAAAAAAAAAAAAAAAAAAAAAAAAAAAAAAAAAAAAAAAAAAAAAAAAAAAAAAAAAAAAAAAAAAAAAAAAAAAAAAAAAAAAAAAAAAAAAAAAAAAAAAAAAAAAAAAAAAAAAAAAAAAAAAAAAAAAAAAAAAAAAAAAAAAAAAAAAAAAAAAAAAAAAAAAAAAAAAAAAAAAAAAAAAAAAAAAAAAAAAAAAAAAAAAAAAAAAAAAAAAAAAAAAAAAAAAAAAAAAAAAAAAAAAAAAAAAAAAAAAAAAAAAAAAAAAAAAAAAAAAAAAAAAAAAAAAAAAAAAAAAAAAAAAAAAAAAAAAAAAAAAAAAAAAAAAAAAAAAAAAAAAAAAAAAAAAAAAAAAAAAAAAAAAAAAAAAAAAAAAAAAAAAAAAAAAAAAAAAAAAAAAAAAAAAAAAAAAAAAAAAAAAAAAAAAAAAAAAAAAAAAAAAAAAAAAAAAAAAAAAAAAAAAAAAAAAAAAAAAAAAAAAAAAAAAAAAAAAAAAAAAAAAAAAAAAAAAAAAAAAAAAAAAAAAAAAAAAAAAAAAAAAAAAAAAAAAAAAAAAAAAAAAAAAAAAAAAAAAAAAAAAAAAAAAAAAAAAAAAAAAAAAAAAAAAAAAAAAAAAAAAAAAAAAAAAAAAAAAAAAAAAAAAAAKCZmZmZmek/YI/C9Shc7z88CtejcD3yP7gehetRuPI/4HoUrkfh9j+wR+F6FK73P9ijcD0K1/c/9Chcj8L19D/MzMzMzMz0P+xRuB6F6/U/kML1KFyP9j9cj8L1KFzzP2hmZmZmZvI/+Chcj8L18D9I4XoUrkfpPyhcj8L1KOQ/MArXo3A92j8wXI/C9SjcP1i4HoXrUeA/EK5H4XoU3j9gPQrXo3DdP2A9CtejcN0/QArXo3A92j/A9Shcj8LVP0Bcj8L1KMw/QDMzMzMzwz8AFa5H4XqkP0AzMzMzM8O/wHoUrkfhyr+A61G4HoXjv8AehetRuOa/ULgehetR6L/go3A9Ctfjv3A9CtejcOW/MDMzMzMz47/wKFyPwvXgv+CjcD0K19O/gLgehetRyL+g61G4HoXbv2CPwvUoXOe/CNejcD0K87+QwvUoXI/yvwAAAAAAAPC/YGZmZmZm5r8oXI/C9SjwvwzXo3A9CgHAeBSuR+F68L9gj8L1KFznP8jMzMzMzPA/iOtRuB6F8z9ACtejcD3iPwAfhetRuK6/wPUoXI/C1b+QwvUoXI/qv9ijcD0K1/O/EK5H4XoU5r9gj8L1KFznv+DMzMzMzNy/IK5H4XoU3r/I9Shcj8L1v6BwPQrXo/C/IIXrUbge8b94PQrXo3D1v0AK16NwPfK/4Chcj8L12L9QuB6F61HgP6DrUbgehds/ABSuR+F6lD8AKVyPwvXYvyCF61G4HtW/IIXrUbge1b+AFK5H4XrEv8D1KFyPwsW/ADMzMzMzwz+wR+F6FK7nP/BRuB6F6+E/ENejcD0K5z8AAAAAAADoPyBcj8L1KOw/GK5H4XoU8j9I4XoUrkfxPzAzMzMzM+s/kML1KFyP6j+AFK5H4XrsP3A9CtejcOU/IK5H4XoU5j/wKFyPwvXoP5DrUbgehes/ANejcD0K7z94FK5H4XrwP7BH4XoUru8/eBSuR+F68D/QzMzMzMzwPyhcj8L1KPA/IK5H4XoU7j8QrkfhehTuP9DMzMzMzOQ/oB6F61G43j+gwvUoXI/SP4AUrkfhetQ/8FG4HoXr4T9wPQrXo3DtPyCF61G4HvU/ODMzMzMz9z9wPQrXo3D1P2BmZmZmZvI/cD0K16Nw9T9Yj8L1KFz3P4jrUbgehfc/qHA9Ctej+D9ACtejcD32PzgK16NwPfY/GK5H4XoU9j8wMzMzMzPzP8D1KFyPwvE/yMzMzMzM8D9Yj8L1KFznP0AK16NwPeI/MDMzMzMz4z94FK5H4XrkP9ijcD0K1+M/KFyPwvUo5D/gehSuR+HqP5yZmZmZmfE/ZGZmZmZm8j8I16NwPQrvP+h6FK5H4eo/MDMzMzMz6z8wMzMzMzPrP5DC9Shcj+o/AAAAAAAA8D8wMzMzMzPrP5DC9Shcj+o/JFyPwvUo8D8oXI/C9SjwP0jhehSuR/E/6FG4HoXr8T+0HoXrUbjyPxSuR+F6FPI/pHA9Ctej8D+AFK5H4XrwP5iZmZmZmfE/GK5H4XoU8j9wPQrXo3DxP4AUrkfheuw/AClcj8L16D8gXI/C9SjkP6BwPQrXo+A/4MzMzMzM3D+gwvUoXI/SPwAUrkfhepQ/ANejcD0Kt7+AmZmZmZnJv4AUrkfhetS/QOF6FK5H0b+AFK5H4XrEv8BwPQrXo8C/gJmZmZmZyT8AIIXrUbievwDXo3A9Cre/AB6F61G4nj8AUrgeheuxP4AehetRuK4/AB+F61G4vj8AmpmZmZm5PwAVrkfheqS/gFG4HoXrsT+AHoXrUbi+P8BwPQrXo8A/4KNwPQrX0z8QrkfhehTmP/BRuB6F6+k/6HoUrkfh6j9Q4XoUrkfpP6hwPQrXo+g/uB6F61G47j9Yj8L1KFzvPyhcj8L1KPA/bD0K16Nw8T+kcD0K16P0PxyF61G4HvU/mJmZmZmZ9T+I61G4HoX3P4jrUbgehfc/7FG4HoXr+T/E9Shcj8L9P3oUrkfhegBAkML1KFyPAEAK16NwPQoBQJiZmZmZmf0/IIXrUbgeAUBG4XoUrkcBQK5H4XoUrgFA1qNwPQrXA0AyMzMzMzMDQD0K16NwPQRAFK5H4XoUBEBSuB6F61ECQMzMzMzMzABArkfhehSuAUBI4XoUrkcBQD4K16NwPQBACtejcD0KAUB7FK5H4XoAQMzMzMzMzPw/1KNwPQrX+z/gehSuR+H6Pypcj8L1KPg/XI/C9Shc9z/0KFyPwvX4P/QoXI/C9fg/xPUoXI/C+T8AAAAAAAD4P7BH4XoUrvc/uB6F61G49j9cj8L1KFzzP7gehetRuPI/uB6F61G48j/4KFyPwvXwPyCF61G4HvE/KFyPwvUo8D/oUbgehevpPyBcj8L1KMw/UOF6FK5H0T8A16NwPQrXP+B6FK5H4do/UI/C9Shc3z9wPQrXo3DdP9DMzMzMzNw/AAAAAAAA4D9QuB6F61HgPwApXI/C9dg/wPUoXI/C1T/AzMzMzMzcP/AoXI/C9dg/SOF6FK5H4T/wKFyPwvXoP4DrUbgeheM/mJmZmZmZ4T+AFK5H4XrkP4jrUbgeheM/ODMzMzMz4z+A61G4HoXjPzAzMzMzM+M/2KNwPQrX4z8AAAAAAADgP6BwPQrXo+A/QArXo3A94j+gcD0K16PgPyCuR+F6FN4/IFyPwvUo3D+A61G4HoXbP6CZmZmZmdk/IIXrUbge1T8A16NwPQrXPyCF61G4HtU/sHA9Ctej0D/A9Shcj8LFPwDXo3A9Crc/ANejcD0Kxz9AMzMzMzPDP0DXo3A9Crc/gBSuR+F6tD8AH4XrUbiuPwAUrkfhepS/AAAAAAAAAAAAUrgeheuxP+BRuB6F68E/MFyPwvUo3D+QwvUoXI/SPwBSuB6F68E/gJmZmZmZuT/AHoXrUbi+PyDXo3A9Csc/gJmZmZmZyT+QwvUoXI/SP/BRuB6F69E/wB6F61G4zj+wcD0K16PQP6BwPQrXo9A/AAAAAAAA0D/A9Shcj8LFPyDXo3A9Csc/IFyPwvUozD9A16NwPQq3v1DhehSuR9G/QArXo3A92r+gR+F6FK7Xv2C4HoXrUdi/kML1KFyP0r+gmZmZmZnZv/BRuB6F69G/wPUoXI/Cxb+AFK5H4XrEvwBcj8L1KLy/oJmZmZmZ2T8gXI/C9SjcP5iZmZmZmeE/GIXrUbge7T8UrkfhehTyPzQzMzMzM/M/NDMzMzMz8z9cj8L1KFzzP8T1KFyPwvk/cj0K16Nw/T/uUbgehev9P65H4XoUrv8/Fa5H4XoUAEA+CtejcD3+P4brUbgehfs/pHA9Ctej/D9oZmZmZmb+PwjXo3A9Cv8/uR6F61G4AEAK16NwPQoBQOxRuB6F6/0/PgrXo3A9AEAK16NwPQoBQIbrUbgehQFAehSuR+F6AkApXI/C9SgCQOxRuB6F6wFAuB6F61G4AkAzMzMzMzMBQM3MzMzMzABAFK5H4XoUBEC4HoXrUbgEQHoUrkfhegRAUrgehetRBED2KFyPwvUCQOB6FK5H4QJAIIXrUbgeA0C4HoXrUbgCQAAAAAAAAAJAPQrXo3A9AkCF61G4HoUBQIjrUbgehf8/wvUoXI/C/T9UuB6F61H8P5qZmZmZmfk/ULgehetR+D9yPQrXo3D1P4jrUbgehfM//P//////7z9I4XoUrkfpP6RwPQrXo+g/FK5H4XoU5j/4///////fPwjXo3A9Ctc/0KNwPQrX0z8gXI/C9SjMPwAAAAAAANA/YLgehetRyD/AHoXrUbi+P8BRuB6F67E/ABSuR+F6lD+AmZmZmZm5vwAWrkfheoS/wJmZmZmZuT8AUrgehevBPwAUrkfheoS/AB+F61G4nr8AFa5H4XqUv4CZmZmZmam/wFG4HoXrsb8AUrgehevBv0Bcj8L1KLy/wB6F61G4vr+gcD0K16PAvwAWrkfheoS/ABWuR+F6lD8AFK5H4XqUv4AehetRuL4/ANejcD0Kxz8Q16NwPQrXP1C4HoXrUeA/7FG4HoXr4T/wUbgehevpP1iPwvUoXO8/KlyPwvUo9D9TuB6F61H8PzwK16NwPf4/Fq5H4XoU+j/gehSuR+H2P0bhehSuR/U/CtejcD0K9z+G61G4HoX3P8L1KFyPwvk/mpmZmZmZAUCPwvUoXI8CQJqZmZmZmfk/XI/C9Shc+z8+CtejcD3+PzwK16NwPf4/AAAAAAAAAEDhehSuR+ECQFK4HoXrUQRAUrgehetRBEDC9Shcj8IDQIXrUbgehQNAhutRuB6FA0DMzMzMzMwEQML1KFyPwgVAZmZmZmZmBkCkcD0K16MGQClcj8L1KAZAUrgehetRBkC4HoXrUbgEQNijcD0K1wNAHoXrUbgeA0BxPQrXo3ABQFyPwvUoXAFASOF6FK5HAUB6FK5H4XoCQFyPwvUoXAVAPgrXo3A9BkB7FK5H4XoGQK5H4XoUrgVA16NwPQrXBUDhehSuR+EEQLgehetRuARAuB6F61G4BECPwvUoXI8AQFK4HoXrUfw/61G4HoXr/T8oXI/C9Sj8P4XrUbgehfs/rkfhehSu+z8K16NwPQr7P0fhehSuR/0/KFyPwvUo/D8pXI/C9Sj4P0jhehSuR/U/exSuR+F69D+PwvUoXI/2P1yPwvUoXPc/hetRuB6F9z8UrkfhehT2P1yPwvUoXPc/PQrXo3A9+j9cj8L1KFz7PzMzMzMzM/s/exSuR+F6+D/hehSuR+H6P4TrUbgehf8/7FG4HoXrAUAL16NwPQoDQEjhehSuRwNAPgrXo3A9AkBdj8L1KFwDQHsUrkfhegRAwvUoXI/CA0AK16NwPQoDQJDC9ShcjwJAUrgehetRAkBcj8L1KFwBQDMzMzMzMwFAPgrXo3A9AEAzMzMzMzP/P1yPwvUoXP8/mZmZmZmZ/T/NzMzMzMz8Px6F61G4Hvk/R+F6FK5H9T/C9Shcj8L1P2ZmZmZmZvY/ZmZmZmZm9j9yPQrXo3D5P7gehetRuPo/ZmZmZmZm+j+F61G4HoX3P1yPwvUoXPc/4HoUrkfh9j8UrkfhehT2Pypcj8L1KPQ/CtejcD0K8z/NzMzMzMzwPyhcj8L1KPA/pHA9Ctej8D+vR+F6FK7vPx6F61G4Hu0/j8L1KFyP6j8+CtejcD3qP4TrUbgehes/cT0K16Nw7T+QwvUoXI/yP6VwPQrXo/Q/hutRuB6F8z+F61G4HoXzP7gehetRuPI/9Shcj8L18D/+///////vPzIzMzMzM+s/ZGZmZmZm7j/Wo3A9CtfrP0AK16NwPeo/6lG4HoXr6T/OzMzMzMzkP+pRuB6F6+E/nJmZmZmZ4T/A9Shcj8LlP+xRuB6F6+E/YI/C9Shc3z8YrkfhehTeP1i4HoXrUdg/8FG4HoXr0T8AAAAAAADQP3A9CtejcM0/kML1KFyP0j+ocD0K16PQPzAzMzMzM8M/wPUoXI/CxT8Q16NwPQrHP3AUrkfhesQ/ULgehetRyD9QuB6F61HIP6BwPQrXo9A/KFyPwvUozD+gHoXrUbiuP6CZmZmZmak/eBSuR+F6xD+YmZmZmZnJPwAAAAAAANA/uB6F61G4zj/A9Shcj8LFP+F6FK5H4do/KlyPwvUo3D8AAAAAAADgP0jhehSuR+E/FK5H4XoU3j9SuB6F61HgP5qZmZmZmeE/exSuR+F65D9mZmZmZmbmP0jhehSuR+k/Z2ZmZmZm7j8+CtejcD3yP12PwvUoXPc/rkfhehSu9z9dj8L1KFz3Px+F61G4HvU/mpmZmZmZ8T/2KFyPwvXwPxWuR+F6FPI/CtejcD0K8z/NzMzMzMzwP0fhehSuR+k/9ihcj8L16D9cj8L1KFzfPyhcj8L1KMw/4HoUrkfhyj/oUbgehevRP/BRuB6F68E/8FG4HoXrwb9oZmZmZmbWv8D1KFyPwtW/mJmZmZmZ2b+E61G4HoXjv3A9CtejcOW/xPUoXI/C5b/4KFyPwvXov3gUrkfheuS/6FG4HoXr4b/sUbgehevhv3gUrkfheuy/xPUoXI/C7b9gj8L1KFznv3gUrkfheuS/UOF6FK5H0b9QuB6F61HYvzBcj8L1KNy/sHA9Ctej0L8ghetRuB7Vv1C4HoXrUdi/\"},\"shape\":[783],\"dtype\":\"float64\",\"order\":\"little\"}],[\"A_10_hyphen_minus_2_Rate_Diff\",{\"type\":\"ndarray\",\"array\":{\"type\":\"bytes\",\"data\":\"AAAAAAAAAAAAAAAAAAAAAAAAAAAAAAAAAAAAAAAAAAAAAAAAAAAAAAAAAAAAAAAAAAAAAAAAAAAAAAAAAAAAAAAAAAAAAAAAAAAAAAAAAAAAAAAAAAAAAAAAAAAAAAAAAAAAAAAAAAAAAAAAAAAAAAAAAAAAAAAAAAAAAAAAAAAAAAAAAAAAAAAAAAAAAAAAAAAAAAAAAAAAAAAAAAAAAAAAAAAAAAAAAAAAAAAAAAAAAAAAAAAAAAAAAAAAAAAAAAAAAAAAAAAAAAAAAAAAAAAAAAAAAAAAAAAAAAAAAAAAAAAAAAAAAAAAAAAAAAAAAAAAAAAAAAAAAAAAAAAAAAAAAAAAAAAAAAAAAAAAAAAAAAAAAAAAAAAAAAAAAAAAAAAAAAAAAAAAAAAAAAAAAAAAAAAAAAAAAAAAAAAAAAAAAAAAAAAAAAAAAAAAAAAAAAAAAAAAAAAAAAAAAAAAAAAAAAAAAAAAAAAAAAAAAAAAAAAAAAAAAAAAAAAAAAAAAAAAAAAAAAAAAAAAAAAAAAAAAAAAAAAAAAAAAAAAAAAAAAAAAAAAAAAAAAAAAAAAAAAAAAAAAAAAAAAAAAAAAAAAAAAAAAAAAAAAAAAAAAAAAAAAAAAAAAAAAAAAAAAAAAAAAAAAAAAAAAAAAAAAAAAAAAAAAAAAAAAAAAAAAAAAAAAAAAAAAAAAAAAAAAAAAAAAAAAAAAAAAAAAAAAAAAAAAAAAAAAAAAAAAAAAAAAAAAAAAAAAAAAAAAAAAAAAAAAAAAAAAAAAAAAAAAAAAAAAAAAAAAAAAAAAAAAAAAAAAAAAAAAAAAAAAAAAAAAAAAAAAAAAAAAAAAAAAAAAAAAAAAAAAAAAAAAAAAAAAAAAAAAAAAAAAAAAAAAAAAAAAAAAAAAAAAAAAAAAAAAAAAAAAAAAAAAAAAAAAAAAAAAAAAAAAAAAAAAAAAAAAAAAAAAAAAAAAAAAAAAAAAAAAAAAAAAAAAAAAAAAAAAAAAAAAAAAAAAAAAAAAAAAAAAAAAAAAAAAAAAAAAAAAAAAAAAAAAAAAAAAAAAAAAAAAAAAAAAAAAAAAAAAAAAAAAAAAAAAAAAAAAAAAAAAAAAAAAAAAAAAAAAAAAAAAAAAAAAAAAAAAAAAAAAAAAAAAAAAAAAAAAAAAAAAAAAAAAAAAAAAAAAAAAAAAAAAAAAAAAAAAAAAAAAAAAAAAAAAAAAAAAAAAAAAAAAAAAAAAAAAAAAAAAAAAAAAAAAAAAAAAAAAAAAAAAAAAAAAAAAAAAAAAAAAAAAAAAAAAAAAAAAAAAAAAAAAAAAAAAAAAAAAAAAAAAAAAAAAAAAAAAAAAAAAAAAAAAAAAAAAAAAAAAAAAAAAAAAAAAAAAAAAAAAAAAAAAAAAAAAAAAAAAAAAAAAAAAAAAAAAAAAAAAAAAAAAAAAAAAAAAAAAAAAAAAAAAAAAAAAAAAAAAAAAAAAAAAAAAAAAAAAAAAAAAAAAAAAAAAAAAAAAAAAAAAAAAAAAAAAAAAAAAAAAAAAAAAAAAAAAAAAAAAAAAAAAAAAAAAAAAAAAAAAAAAAAAAAAAAAAAAAAAAAAAAAAAAAAAAAAAAAAAAAAAAAAAAAAAAAAAAAAAAAAAAAAAAAAAAAAAAAAAAAAAAAAAAAAAAAAAAAAAAAAAAAAAAAAAAAAAAAAAAAAAAAAAAAAAAAAAAAAAAAAAAAAAAAAAAAAAAAAAAAAAAAAAAAAAAAAAAAAAAAAAAAAAAAAAAAAAAAAAAAAAAAAAAAAAAAAAAAAAAAAAAAAAAAAAAAAAAAAAAAAAAAAAAAAAAAAAAAAAAAAAAAAAAAAAAAAAAAAAAAAAAAAAAAAAAAAAAAAAAAAAAAAAAAAAAAAAAAAAAAAAAAAAAAAAAAAAAAAAAAAAAAAAAAAAAAAAAAAAAAAAAAAAAAAAAAAAAAAAAAAAAAAAAAAAAAAAAAAAAAAAAAAAAAAAAAAAAAAAAAAAAAAAAAAAAAAAAAAAAAAAAAAAAAAAAAAAAAAAAAAAAAAAAAAAAAAAAAAAAAAAAAAAAAAAAAAAAAAAAAAAAAAAAAAAAAAAAAAAAAAAAAAAAAAAAAAAAAAAAAAAAAAAAAAAAAAAAAAAAAAAAAAAAAAAAAAAAAAAAAAAAAAAAAAAAAAAAAAAAAAAAAAAAAAAAAAAAAAAAAAAAAAAAAAAAAAAAAAAAAAAAAAAAAAAAAAAAAAAAAAAAAAAKCZmZmZmek/YI/C9Shc7z88CtejcD3yP7gehetRuPI/4HoUrkfh9j+wR+F6FK73P9ijcD0K1/c/9Chcj8L19D/MzMzMzMz0P+xRuB6F6/U/kML1KFyP9j9cj8L1KFzzP2hmZmZmZvI/+Chcj8L18D9I4XoUrkfpPyhcj8L1KOQ/MArXo3A92j8wXI/C9SjcP1i4HoXrUeA/EK5H4XoU3j9gPQrXo3DdP2A9CtejcN0/QArXo3A92j/A9Shcj8LVP0Bcj8L1KMw/QDMzMzMzwz8AFa5H4XqkP0AzMzMzM8O/wHoUrkfhyr+A61G4HoXjv8AehetRuOa/ULgehetR6L/go3A9Ctfjv3A9CtejcOW/MDMzMzMz47/wKFyPwvXgv+CjcD0K19O/gLgehetRyL+g61G4HoXbv2CPwvUoXOe/CNejcD0K87+QwvUoXI/yvwAAAAAAAPC/YGZmZmZm5r8oXI/C9SjwvwzXo3A9CgHAeBSuR+F68L9gj8L1KFznP8jMzMzMzPA/iOtRuB6F8z9ACtejcD3iPwAfhetRuK6/wPUoXI/C1b+QwvUoXI/qv9ijcD0K1/O/EK5H4XoU5r9gj8L1KFznv+DMzMzMzNy/IK5H4XoU3r/I9Shcj8L1v6BwPQrXo/C/IIXrUbge8b94PQrXo3D1v0AK16NwPfK/4Chcj8L12L9QuB6F61HgP6DrUbgehds/ABSuR+F6lD8AKVyPwvXYvyCF61G4HtW/IIXrUbge1b+AFK5H4XrEv8D1KFyPwsW/ADMzMzMzwz+wR+F6FK7nP/BRuB6F6+E/ENejcD0K5z8AAAAAAADoPyBcj8L1KOw/GK5H4XoU8j9I4XoUrkfxPzAzMzMzM+s/kML1KFyP6j+AFK5H4XrsP3A9CtejcOU/IK5H4XoU5j/wKFyPwvXoP5DrUbgehes/ANejcD0K7z94FK5H4XrwP7BH4XoUru8/eBSuR+F68D/QzMzMzMzwPyhcj8L1KPA/IK5H4XoU7j8QrkfhehTuP9DMzMzMzOQ/oB6F61G43j+gwvUoXI/SP4AUrkfhetQ/8FG4HoXr4T9wPQrXo3DtPyCF61G4HvU/ODMzMzMz9z9wPQrXo3D1P2BmZmZmZvI/cD0K16Nw9T9Yj8L1KFz3P4jrUbgehfc/qHA9Ctej+D9ACtejcD32PzgK16NwPfY/GK5H4XoU9j8wMzMzMzPzP8D1KFyPwvE/yMzMzMzM8D9Yj8L1KFznP0AK16NwPeI/MDMzMzMz4z94FK5H4XrkP9ijcD0K1+M/KFyPwvUo5D/gehSuR+HqP5yZmZmZmfE/ZGZmZmZm8j8I16NwPQrvP+h6FK5H4eo/MDMzMzMz6z8wMzMzMzPrP5DC9Shcj+o/AAAAAAAA8D8wMzMzMzPrP5DC9Shcj+o/JFyPwvUo8D8oXI/C9SjwP0jhehSuR/E/6FG4HoXr8T+0HoXrUbjyPxSuR+F6FPI/pHA9Ctej8D+AFK5H4XrwP5iZmZmZmfE/GK5H4XoU8j9wPQrXo3DxP4AUrkfheuw/AClcj8L16D8gXI/C9SjkP6BwPQrXo+A/4MzMzMzM3D+gwvUoXI/SPwAUrkfhepQ/ANejcD0Kt7+AmZmZmZnJv4AUrkfhetS/QOF6FK5H0b+AFK5H4XrEv8BwPQrXo8C/gJmZmZmZyT8AIIXrUbievwDXo3A9Cre/AB6F61G4nj8AUrgeheuxP4AehetRuK4/AB+F61G4vj8AmpmZmZm5PwAVrkfheqS/gFG4HoXrsT+AHoXrUbi+P8BwPQrXo8A/4KNwPQrX0z8QrkfhehTmP/BRuB6F6+k/6HoUrkfh6j9Q4XoUrkfpP6hwPQrXo+g/uB6F61G47j9Yj8L1KFzvPyhcj8L1KPA/bD0K16Nw8T+kcD0K16P0PxyF61G4HvU/mJmZmZmZ9T+I61G4HoX3P4jrUbgehfc/7FG4HoXr+T/E9Shcj8L9P3oUrkfhegBAkML1KFyPAEAK16NwPQoBQJiZmZmZmf0/IIXrUbgeAUBG4XoUrkcBQK5H4XoUrgFA1qNwPQrXA0AyMzMzMzMDQD0K16NwPQRAFK5H4XoUBEBSuB6F61ECQMzMzMzMzABArkfhehSuAUBI4XoUrkcBQD4K16NwPQBACtejcD0KAUB7FK5H4XoAQMzMzMzMzPw/1KNwPQrX+z/gehSuR+H6Pypcj8L1KPg/XI/C9Shc9z/0KFyPwvX4P/QoXI/C9fg/xPUoXI/C+T8AAAAAAAD4P7BH4XoUrvc/uB6F61G49j9cj8L1KFzzP7gehetRuPI/uB6F61G48j/4KFyPwvXwPyCF61G4HvE/KFyPwvUo8D/oUbgehevpPyBcj8L1KMw/UOF6FK5H0T8A16NwPQrXP+B6FK5H4do/UI/C9Shc3z9wPQrXo3DdP9DMzMzMzNw/AAAAAAAA4D9QuB6F61HgPwApXI/C9dg/wPUoXI/C1T/AzMzMzMzcP/AoXI/C9dg/SOF6FK5H4T/wKFyPwvXoP4DrUbgeheM/mJmZmZmZ4T+AFK5H4XrkP4jrUbgeheM/ODMzMzMz4z+A61G4HoXjPzAzMzMzM+M/2KNwPQrX4z8AAAAAAADgP6BwPQrXo+A/QArXo3A94j+gcD0K16PgPyCuR+F6FN4/IFyPwvUo3D+A61G4HoXbP6CZmZmZmdk/IIXrUbge1T8A16NwPQrXPyCF61G4HtU/sHA9Ctej0D/A9Shcj8LFPwDXo3A9Crc/ANejcD0Kxz9AMzMzMzPDP0DXo3A9Crc/gBSuR+F6tD8AH4XrUbiuPwAUrkfhepS/AAAAAAAAAAAAUrgeheuxP+BRuB6F68E/MFyPwvUo3D+QwvUoXI/SPwBSuB6F68E/gJmZmZmZuT/AHoXrUbi+PyDXo3A9Csc/gJmZmZmZyT+QwvUoXI/SP/BRuB6F69E/wB6F61G4zj+wcD0K16PQP6BwPQrXo9A/AAAAAAAA0D/A9Shcj8LFPyDXo3A9Csc/IFyPwvUozD9A16NwPQq3v1DhehSuR9G/QArXo3A92r+gR+F6FK7Xv2C4HoXrUdi/kML1KFyP0r+gmZmZmZnZv/BRuB6F69G/wPUoXI/Cxb+AFK5H4XrEvwBcj8L1KLy/oJmZmZmZ2T8gXI/C9SjcP5iZmZmZmeE/GIXrUbge7T8UrkfhehTyPzQzMzMzM/M/NDMzMzMz8z9cj8L1KFzzP8T1KFyPwvk/cj0K16Nw/T/uUbgehev9P65H4XoUrv8/Fa5H4XoUAEA+CtejcD3+P4brUbgehfs/pHA9Ctej/D9oZmZmZmb+PwjXo3A9Cv8/uR6F61G4AEAK16NwPQoBQOxRuB6F6/0/PgrXo3A9AEAK16NwPQoBQIbrUbgehQFAehSuR+F6AkApXI/C9SgCQOxRuB6F6wFAuB6F61G4AkAzMzMzMzMBQM3MzMzMzABAFK5H4XoUBEC4HoXrUbgEQHoUrkfhegRAUrgehetRBED2KFyPwvUCQOB6FK5H4QJAIIXrUbgeA0C4HoXrUbgCQAAAAAAAAAJAPQrXo3A9AkCF61G4HoUBQIjrUbgehf8/wvUoXI/C/T9UuB6F61H8P5qZmZmZmfk/ULgehetR+D9yPQrXo3D1P4jrUbgehfM//P//////7z9I4XoUrkfpP6RwPQrXo+g/FK5H4XoU5j/4///////fPwjXo3A9Ctc/0KNwPQrX0z8gXI/C9SjMPwAAAAAAANA/YLgehetRyD/AHoXrUbi+P8BRuB6F67E/ABSuR+F6lD+AmZmZmZm5vwAWrkfheoS/wJmZmZmZuT8AUrgehevBPwAUrkfheoS/AB+F61G4nr8AFa5H4XqUv4CZmZmZmam/wFG4HoXrsb8AUrgehevBv0Bcj8L1KLy/wB6F61G4vr+gcD0K16PAvwAWrkfheoS/ABWuR+F6lD8AFK5H4XqUv4AehetRuL4/ANejcD0Kxz8Q16NwPQrXP1C4HoXrUeA/7FG4HoXr4T/wUbgehevpP1iPwvUoXO8/KlyPwvUo9D9TuB6F61H8PzwK16NwPf4/Fq5H4XoU+j/gehSuR+H2P0bhehSuR/U/CtejcD0K9z+G61G4HoX3P8L1KFyPwvk/mpmZmZmZAUCPwvUoXI8CQJqZmZmZmfk/XI/C9Shc+z8+CtejcD3+PzwK16NwPf4/AAAAAAAAAEDhehSuR+ECQFK4HoXrUQRAUrgehetRBEDC9Shcj8IDQIXrUbgehQNAhutRuB6FA0DMzMzMzMwEQML1KFyPwgVAZmZmZmZmBkCkcD0K16MGQClcj8L1KAZAUrgehetRBkC4HoXrUbgEQNijcD0K1wNAHoXrUbgeA0BxPQrXo3ABQFyPwvUoXAFASOF6FK5HAUB6FK5H4XoCQFyPwvUoXAVAPgrXo3A9BkB7FK5H4XoGQK5H4XoUrgVA16NwPQrXBUDhehSuR+EEQLgehetRuARAuB6F61G4BECPwvUoXI8AQFK4HoXrUfw/61G4HoXr/T8oXI/C9Sj8P4XrUbgehfs/rkfhehSu+z8K16NwPQr7P0fhehSuR/0/KFyPwvUo/D8pXI/C9Sj4P0jhehSuR/U/exSuR+F69D+PwvUoXI/2P1yPwvUoXPc/hetRuB6F9z8UrkfhehT2P1yPwvUoXPc/PQrXo3A9+j9cj8L1KFz7PzMzMzMzM/s/exSuR+F6+D/hehSuR+H6P4TrUbgehf8/7FG4HoXrAUAL16NwPQoDQEjhehSuRwNAPgrXo3A9AkBdj8L1KFwDQHsUrkfhegRAwvUoXI/CA0AK16NwPQoDQJDC9ShcjwJAUrgehetRAkBcj8L1KFwBQDMzMzMzMwFAPgrXo3A9AEAzMzMzMzP/P1yPwvUoXP8/mZmZmZmZ/T/NzMzMzMz8Px6F61G4Hvk/R+F6FK5H9T/C9Shcj8L1P2ZmZmZmZvY/ZmZmZmZm9j9yPQrXo3D5P7gehetRuPo/ZmZmZmZm+j+F61G4HoX3P1yPwvUoXPc/4HoUrkfh9j8UrkfhehT2Pypcj8L1KPQ/CtejcD0K8z/NzMzMzMzwPyhcj8L1KPA/pHA9Ctej8D+vR+F6FK7vPx6F61G4Hu0/j8L1KFyP6j8+CtejcD3qP4TrUbgehes/cT0K16Nw7T+QwvUoXI/yP6VwPQrXo/Q/hutRuB6F8z+F61G4HoXzP7gehetRuPI/9Shcj8L18D/+///////vPzIzMzMzM+s/ZGZmZmZm7j/Wo3A9CtfrP0AK16NwPeo/6lG4HoXr6T/OzMzMzMzkP+pRuB6F6+E/nJmZmZmZ4T/A9Shcj8LlP+xRuB6F6+E/YI/C9Shc3z8YrkfhehTeP1i4HoXrUdg/8FG4HoXr0T8AAAAAAADQP3A9CtejcM0/kML1KFyP0j+ocD0K16PQPzAzMzMzM8M/wPUoXI/CxT8Q16NwPQrHP3AUrkfhesQ/ULgehetRyD9QuB6F61HIP6BwPQrXo9A/KFyPwvUozD+gHoXrUbiuP6CZmZmZmak/eBSuR+F6xD+YmZmZmZnJPwAAAAAAANA/uB6F61G4zj/A9Shcj8LFP+F6FK5H4do/KlyPwvUo3D8AAAAAAADgP0jhehSuR+E/FK5H4XoU3j9SuB6F61HgP5qZmZmZmeE/exSuR+F65D9mZmZmZmbmP0jhehSuR+k/Z2ZmZmZm7j8+CtejcD3yP12PwvUoXPc/rkfhehSu9z9dj8L1KFz3Px+F61G4HvU/mpmZmZmZ8T/2KFyPwvXwPxWuR+F6FPI/CtejcD0K8z/NzMzMzMzwP0fhehSuR+k/9ihcj8L16D9cj8L1KFzfPyhcj8L1KMw/4HoUrkfhyj/oUbgehevRP/BRuB6F68E/8FG4HoXrwb9oZmZmZmbWv8D1KFyPwtW/mJmZmZmZ2b+E61G4HoXjv3A9CtejcOW/xPUoXI/C5b/4KFyPwvXov3gUrkfheuS/6FG4HoXr4b/sUbgehevhv3gUrkfheuy/xPUoXI/C7b9gj8L1KFznv3gUrkfheuS/UOF6FK5H0b9QuB6F61HYvzBcj8L1KNy/sHA9Ctej0L8ghetRuB7Vv1C4HoXrUdi/\"},\"shape\":[783],\"dtype\":\"float64\",\"order\":\"little\"}]]}}},\"view\":{\"type\":\"object\",\"name\":\"CDSView\",\"id\":\"p1351\",\"attributes\":{\"filter\":{\"type\":\"object\",\"name\":\"AllIndices\",\"id\":\"p1352\"}}},\"glyph\":{\"type\":\"object\",\"name\":\"Line\",\"id\":\"p1347\",\"attributes\":{\"tags\":[\"apply_ranges\"],\"x\":{\"type\":\"field\",\"field\":\"date\"},\"y\":{\"type\":\"field\",\"field\":\"10-2 Rate Diff\"},\"line_color\":\"#30a2da\",\"line_width\":2}},\"selection_glyph\":{\"type\":\"object\",\"name\":\"Line\",\"id\":\"p1353\",\"attributes\":{\"tags\":[\"apply_ranges\"],\"x\":{\"type\":\"field\",\"field\":\"date\"},\"y\":{\"type\":\"field\",\"field\":\"10-2 Rate Diff\"},\"line_color\":\"#30a2da\",\"line_width\":2}},\"nonselection_glyph\":{\"type\":\"object\",\"name\":\"Line\",\"id\":\"p1348\",\"attributes\":{\"tags\":[\"apply_ranges\"],\"x\":{\"type\":\"field\",\"field\":\"date\"},\"y\":{\"type\":\"field\",\"field\":\"10-2 Rate Diff\"},\"line_color\":\"#30a2da\",\"line_alpha\":0.1,\"line_width\":2}},\"muted_glyph\":{\"type\":\"object\",\"name\":\"Line\",\"id\":\"p1349\",\"attributes\":{\"tags\":[\"apply_ranges\"],\"x\":{\"type\":\"field\",\"field\":\"date\"},\"y\":{\"type\":\"field\",\"field\":\"10-2 Rate Diff\"},\"line_color\":\"#30a2da\",\"line_alpha\":0.2,\"line_width\":2}}}}],\"toolbar\":{\"type\":\"object\",\"name\":\"Toolbar\",\"id\":\"p1311\",\"attributes\":{\"tools\":[{\"type\":\"object\",\"name\":\"WheelZoomTool\",\"id\":\"p1300\",\"attributes\":{\"tags\":[\"hv_created\"],\"zoom_together\":\"none\"}},{\"type\":\"object\",\"name\":\"HoverTool\",\"id\":\"p1301\",\"attributes\":{\"tags\":[\"hv_created\"],\"renderers\":[{\"id\":\"p1350\"}],\"tooltips\":[[\"date\",\"@{date}{%F %T}\"],[\"10-2 Rate Diff\",\"@{A_10_hyphen_minus_2_Rate_Diff}\"]],\"formatters\":{\"type\":\"map\",\"entries\":[[\"@{date}\",\"datetime\"]]}}},{\"type\":\"object\",\"name\":\"SaveTool\",\"id\":\"p1336\"},{\"type\":\"object\",\"name\":\"PanTool\",\"id\":\"p1337\"},{\"type\":\"object\",\"name\":\"BoxZoomTool\",\"id\":\"p1338\",\"attributes\":{\"overlay\":{\"type\":\"object\",\"name\":\"BoxAnnotation\",\"id\":\"p1339\",\"attributes\":{\"syncable\":false,\"level\":\"overlay\",\"visible\":false,\"left_units\":\"canvas\",\"right_units\":\"canvas\",\"bottom_units\":\"canvas\",\"top_units\":\"canvas\",\"line_color\":\"black\",\"line_alpha\":1.0,\"line_width\":2,\"line_dash\":[4,4],\"fill_color\":\"lightgrey\",\"fill_alpha\":0.5}}}},{\"type\":\"object\",\"name\":\"ResetTool\",\"id\":\"p1340\"}],\"active_drag\":{\"id\":\"p1337\"},\"active_scroll\":{\"id\":\"p1300\"}}},\"left\":[{\"type\":\"object\",\"name\":\"LinearAxis\",\"id\":\"p1331\",\"attributes\":{\"ticker\":{\"type\":\"object\",\"name\":\"BasicTicker\",\"id\":\"p1332\",\"attributes\":{\"mantissas\":[1,2,5]}},\"formatter\":{\"type\":\"object\",\"name\":\"BasicTickFormatter\",\"id\":\"p1333\"},\"axis_label\":\"10-2 Rate Diff\",\"major_label_policy\":{\"type\":\"object\",\"name\":\"AllLabels\",\"id\":\"p1334\"}}}],\"below\":[{\"type\":\"object\",\"name\":\"DatetimeAxis\",\"id\":\"p1314\",\"attributes\":{\"ticker\":{\"type\":\"object\",\"name\":\"DatetimeTicker\",\"id\":\"p1315\",\"attributes\":{\"num_minor_ticks\":5,\"tickers\":[{\"type\":\"object\",\"name\":\"AdaptiveTicker\",\"id\":\"p1316\",\"attributes\":{\"num_minor_ticks\":0,\"mantissas\":[1,2,5],\"max_interval\":500.0}},{\"type\":\"object\",\"name\":\"AdaptiveTicker\",\"id\":\"p1317\",\"attributes\":{\"num_minor_ticks\":0,\"base\":60,\"mantissas\":[1,2,5,10,15,20,30],\"min_interval\":1000.0,\"max_interval\":1800000.0}},{\"type\":\"object\",\"name\":\"AdaptiveTicker\",\"id\":\"p1318\",\"attributes\":{\"num_minor_ticks\":0,\"base\":24,\"mantissas\":[1,2,4,6,8,12],\"min_interval\":3600000.0,\"max_interval\":43200000.0}},{\"type\":\"object\",\"name\":\"DaysTicker\",\"id\":\"p1319\",\"attributes\":{\"days\":[1,2,3,4,5,6,7,8,9,10,11,12,13,14,15,16,17,18,19,20,21,22,23,24,25,26,27,28,29,30,31]}},{\"type\":\"object\",\"name\":\"DaysTicker\",\"id\":\"p1320\",\"attributes\":{\"days\":[1,4,7,10,13,16,19,22,25,28]}},{\"type\":\"object\",\"name\":\"DaysTicker\",\"id\":\"p1321\",\"attributes\":{\"days\":[1,8,15,22]}},{\"type\":\"object\",\"name\":\"DaysTicker\",\"id\":\"p1322\",\"attributes\":{\"days\":[1,15]}},{\"type\":\"object\",\"name\":\"MonthsTicker\",\"id\":\"p1323\",\"attributes\":{\"months\":[0,1,2,3,4,5,6,7,8,9,10,11]}},{\"type\":\"object\",\"name\":\"MonthsTicker\",\"id\":\"p1324\",\"attributes\":{\"months\":[0,2,4,6,8,10]}},{\"type\":\"object\",\"name\":\"MonthsTicker\",\"id\":\"p1325\",\"attributes\":{\"months\":[0,4,8]}},{\"type\":\"object\",\"name\":\"MonthsTicker\",\"id\":\"p1326\",\"attributes\":{\"months\":[0,6]}},{\"type\":\"object\",\"name\":\"YearsTicker\",\"id\":\"p1327\"}]}},\"formatter\":{\"type\":\"object\",\"name\":\"DatetimeTickFormatter\",\"id\":\"p1328\"},\"axis_label\":\"date\",\"major_label_policy\":{\"type\":\"object\",\"name\":\"AllLabels\",\"id\":\"p1329\"}}}],\"center\":[{\"type\":\"object\",\"name\":\"Grid\",\"id\":\"p1330\",\"attributes\":{\"axis\":{\"id\":\"p1314\"},\"grid_line_color\":null}},{\"type\":\"object\",\"name\":\"Grid\",\"id\":\"p1335\",\"attributes\":{\"dimension\":1,\"axis\":{\"id\":\"p1331\"},\"grid_line_color\":null}}],\"min_border_top\":10,\"min_border_bottom\":10,\"min_border_left\":10,\"min_border_right\":10,\"output_backend\":\"webgl\"}},{\"type\":\"object\",\"name\":\"Spacer\",\"id\":\"p1355\",\"attributes\":{\"name\":\"HSpacer01399\",\"stylesheets\":[\"\\n:host(.pn-loading.pn-arc):before, .pn-loading.pn-arc:before {\\n  background-image: url(\\\"data:image/svg+xml;base64,PHN2ZyB4bWxucz0iaHR0cDovL3d3dy53My5vcmcvMjAwMC9zdmciIHN0eWxlPSJtYXJnaW46IGF1dG87IGJhY2tncm91bmQ6IG5vbmU7IGRpc3BsYXk6IGJsb2NrOyBzaGFwZS1yZW5kZXJpbmc6IGF1dG87IiB2aWV3Qm94PSIwIDAgMTAwIDEwMCIgcHJlc2VydmVBc3BlY3RSYXRpbz0ieE1pZFlNaWQiPiAgPGNpcmNsZSBjeD0iNTAiIGN5PSI1MCIgZmlsbD0ibm9uZSIgc3Ryb2tlPSIjYzNjM2MzIiBzdHJva2Utd2lkdGg9IjEwIiByPSIzNSIgc3Ryb2tlLWRhc2hhcnJheT0iMTY0LjkzMzYxNDMxMzQ2NDE1IDU2Ljk3Nzg3MTQzNzgyMTM4Ij4gICAgPGFuaW1hdGVUcmFuc2Zvcm0gYXR0cmlidXRlTmFtZT0idHJhbnNmb3JtIiB0eXBlPSJyb3RhdGUiIHJlcGVhdENvdW50PSJpbmRlZmluaXRlIiBkdXI9IjFzIiB2YWx1ZXM9IjAgNTAgNTA7MzYwIDUwIDUwIiBrZXlUaW1lcz0iMDsxIj48L2FuaW1hdGVUcmFuc2Zvcm0+ICA8L2NpcmNsZT48L3N2Zz4=\\\");\\n  background-size: auto calc(min(50%, 400px));\\n}\",{\"id\":\"p1293\"},{\"id\":\"p1291\"},{\"id\":\"p1292\"}],\"margin\":0,\"sizing_mode\":\"stretch_width\",\"align\":\"start\"}}]}}],\"defs\":[{\"type\":\"model\",\"name\":\"ReactiveHTML1\"},{\"type\":\"model\",\"name\":\"FlexBox1\",\"properties\":[{\"name\":\"align_content\",\"kind\":\"Any\",\"default\":\"flex-start\"},{\"name\":\"align_items\",\"kind\":\"Any\",\"default\":\"flex-start\"},{\"name\":\"flex_direction\",\"kind\":\"Any\",\"default\":\"row\"},{\"name\":\"flex_wrap\",\"kind\":\"Any\",\"default\":\"wrap\"},{\"name\":\"justify_content\",\"kind\":\"Any\",\"default\":\"flex-start\"}]},{\"type\":\"model\",\"name\":\"FloatPanel1\",\"properties\":[{\"name\":\"config\",\"kind\":\"Any\",\"default\":{\"type\":\"map\"}},{\"name\":\"contained\",\"kind\":\"Any\",\"default\":true},{\"name\":\"position\",\"kind\":\"Any\",\"default\":\"right-top\"},{\"name\":\"offsetx\",\"kind\":\"Any\",\"default\":null},{\"name\":\"offsety\",\"kind\":\"Any\",\"default\":null},{\"name\":\"theme\",\"kind\":\"Any\",\"default\":\"primary\"},{\"name\":\"status\",\"kind\":\"Any\",\"default\":\"normalized\"}]},{\"type\":\"model\",\"name\":\"GridStack1\",\"properties\":[{\"name\":\"mode\",\"kind\":\"Any\",\"default\":\"warn\"},{\"name\":\"ncols\",\"kind\":\"Any\",\"default\":null},{\"name\":\"nrows\",\"kind\":\"Any\",\"default\":null},{\"name\":\"allow_resize\",\"kind\":\"Any\",\"default\":true},{\"name\":\"allow_drag\",\"kind\":\"Any\",\"default\":true},{\"name\":\"state\",\"kind\":\"Any\",\"default\":[]}]},{\"type\":\"model\",\"name\":\"drag1\",\"properties\":[{\"name\":\"slider_width\",\"kind\":\"Any\",\"default\":5},{\"name\":\"slider_color\",\"kind\":\"Any\",\"default\":\"black\"},{\"name\":\"value\",\"kind\":\"Any\",\"default\":50}]},{\"type\":\"model\",\"name\":\"click1\",\"properties\":[{\"name\":\"terminal_output\",\"kind\":\"Any\",\"default\":\"\"},{\"name\":\"debug_name\",\"kind\":\"Any\",\"default\":\"\"},{\"name\":\"clears\",\"kind\":\"Any\",\"default\":0}]},{\"type\":\"model\",\"name\":\"FastWrapper1\",\"properties\":[{\"name\":\"object\",\"kind\":\"Any\",\"default\":null},{\"name\":\"style\",\"kind\":\"Any\",\"default\":null}]},{\"type\":\"model\",\"name\":\"NotificationAreaBase1\",\"properties\":[{\"name\":\"js_events\",\"kind\":\"Any\",\"default\":{\"type\":\"map\"}},{\"name\":\"position\",\"kind\":\"Any\",\"default\":\"bottom-right\"},{\"name\":\"_clear\",\"kind\":\"Any\",\"default\":0}]},{\"type\":\"model\",\"name\":\"NotificationArea1\",\"properties\":[{\"name\":\"js_events\",\"kind\":\"Any\",\"default\":{\"type\":\"map\"}},{\"name\":\"notifications\",\"kind\":\"Any\",\"default\":[]},{\"name\":\"position\",\"kind\":\"Any\",\"default\":\"bottom-right\"},{\"name\":\"_clear\",\"kind\":\"Any\",\"default\":0},{\"name\":\"types\",\"kind\":\"Any\",\"default\":[{\"type\":\"map\",\"entries\":[[\"type\",\"warning\"],[\"background\",\"#ffc107\"],[\"icon\",{\"type\":\"map\",\"entries\":[[\"className\",\"fas fa-exclamation-triangle\"],[\"tagName\",\"i\"],[\"color\",\"white\"]]}]]},{\"type\":\"map\",\"entries\":[[\"type\",\"info\"],[\"background\",\"#007bff\"],[\"icon\",{\"type\":\"map\",\"entries\":[[\"className\",\"fas fa-info-circle\"],[\"tagName\",\"i\"],[\"color\",\"white\"]]}]]}]}]},{\"type\":\"model\",\"name\":\"Notification\",\"properties\":[{\"name\":\"background\",\"kind\":\"Any\",\"default\":null},{\"name\":\"duration\",\"kind\":\"Any\",\"default\":3000},{\"name\":\"icon\",\"kind\":\"Any\",\"default\":null},{\"name\":\"message\",\"kind\":\"Any\",\"default\":\"\"},{\"name\":\"notification_type\",\"kind\":\"Any\",\"default\":null},{\"name\":\"_destroyed\",\"kind\":\"Any\",\"default\":false}]},{\"type\":\"model\",\"name\":\"TemplateActions1\",\"properties\":[{\"name\":\"open_modal\",\"kind\":\"Any\",\"default\":0},{\"name\":\"close_modal\",\"kind\":\"Any\",\"default\":0}]},{\"type\":\"model\",\"name\":\"BootstrapTemplateActions1\",\"properties\":[{\"name\":\"open_modal\",\"kind\":\"Any\",\"default\":0},{\"name\":\"close_modal\",\"kind\":\"Any\",\"default\":0}]},{\"type\":\"model\",\"name\":\"MaterialTemplateActions1\",\"properties\":[{\"name\":\"open_modal\",\"kind\":\"Any\",\"default\":0},{\"name\":\"close_modal\",\"kind\":\"Any\",\"default\":0}]}]}};\n",
       "  var render_items = [{\"docid\":\"9fa6145f-aa30-4112-b16e-8a2a1f6e5440\",\"roots\":{\"p1290\":\"a569b81b-11d3-49e9-8455-ccf865968424\"},\"root_ids\":[\"p1290\"]}];\n",
       "  var docs = Object.values(docs_json)\n",
       "  if (!docs) {\n",
       "    return\n",
       "  }\n",
       "  const py_version = docs[0].version.replace('rc', '-rc.').replace('.dev', '-dev.')\n",
       "  const is_dev = py_version.indexOf(\"+\") !== -1 || py_version.indexOf(\"-\") !== -1\n",
       "  function embed_document(root) {\n",
       "    var Bokeh = get_bokeh(root)\n",
       "    Bokeh.embed.embed_items_notebook(docs_json, render_items);\n",
       "    for (const render_item of render_items) {\n",
       "      for (const root_id of render_item.root_ids) {\n",
       "\tconst id_el = document.getElementById(root_id)\n",
       "\tif (id_el.children.length && (id_el.children[0].className === 'bk-root')) {\n",
       "\t  const root_el = id_el.children[0]\n",
       "\t  root_el.id = root_el.id + '-rendered'\n",
       "\t}\n",
       "      }\n",
       "    }\n",
       "  }\n",
       "  function get_bokeh(root) {\n",
       "    if (root.Bokeh === undefined) {\n",
       "      return null\n",
       "    } else if (root.Bokeh.version !== py_version && !is_dev) {\n",
       "      if (root.Bokeh.versions === undefined || !root.Bokeh.versions.has(py_version)) {\n",
       "\treturn null\n",
       "      }\n",
       "      return root.Bokeh.versions.get(py_version);\n",
       "    } else if (root.Bokeh.version === py_version) {\n",
       "      return root.Bokeh\n",
       "    }\n",
       "    return null\n",
       "  }\n",
       "  function is_loaded(root) {\n",
       "    var Bokeh = get_bokeh(root)\n",
       "    return (Bokeh != null && Bokeh.Panel !== undefined)\n",
       "  }\n",
       "  if (is_loaded(root)) {\n",
       "    embed_document(root);\n",
       "  } else {\n",
       "    var attempts = 0;\n",
       "    var timer = setInterval(function(root) {\n",
       "      if (is_loaded(root)) {\n",
       "        clearInterval(timer);\n",
       "        embed_document(root);\n",
       "      } else if (document.readyState == \"complete\") {\n",
       "        attempts++;\n",
       "        if (attempts > 200) {\n",
       "          clearInterval(timer);\n",
       "\t  var Bokeh = get_bokeh(root)\n",
       "\t  if (Bokeh == null || Bokeh.Panel == null) {\n",
       "            console.warn(\"Panel: ERROR: Unable to run Panel code because Bokeh or Panel library is missing\");\n",
       "\t  } else {\n",
       "\t    console.warn(\"Panel: WARNING: Attempting to render but not all required libraries could be resolved.\")\n",
       "\t    embed_document(root)\n",
       "\t  }\n",
       "        }\n",
       "      }\n",
       "    }, 25, root)\n",
       "  }\n",
       "})(window);</script>"
      ],
      "text/plain": [
       ":Curve   [date]   (10-2 Rate Diff)"
      ]
     },
     "execution_count": 180,
     "metadata": {
      "application/vnd.holoviews_exec.v0+json": {
       "id": "p1290"
      }
     },
     "output_type": "execute_result"
    }
   ],
   "source": [
    "treasury_df.hvplot.line(x=\"date\", y=\"10-2 Rate Diff\")"
   ]
  },
  {
   "cell_type": "code",
   "execution_count": 181,
   "id": "9d152cbe",
   "metadata": {},
   "outputs": [
    {
     "data": {},
     "metadata": {},
     "output_type": "display_data"
    },
    {
     "data": {
      "application/vnd.holoviews_exec.v0+json": "",
      "text/html": [
       "<div id='p1362'>\n",
       "  <div id=\"dcffb43b-0b63-4e4f-b6b0-041678e980e5\" data-root-id=\"p1362\" style=\"display: contents;\"></div>\n",
       "</div>\n",
       "<script type=\"application/javascript\">(function(root) {\n",
       "  var docs_json = {\"6871518e-374a-4da4-9df3-a8d7cdb2b8b7\":{\"version\":\"3.2.1\",\"title\":\"Bokeh Application\",\"roots\":[{\"type\":\"object\",\"name\":\"Row\",\"id\":\"p1362\",\"attributes\":{\"name\":\"Row01513\",\"tags\":[\"embedded\"],\"stylesheets\":[\"\\n:host(.pn-loading.pn-arc):before, .pn-loading.pn-arc:before {\\n  background-image: url(\\\"data:image/svg+xml;base64,PHN2ZyB4bWxucz0iaHR0cDovL3d3dy53My5vcmcvMjAwMC9zdmciIHN0eWxlPSJtYXJnaW46IGF1dG87IGJhY2tncm91bmQ6IG5vbmU7IGRpc3BsYXk6IGJsb2NrOyBzaGFwZS1yZW5kZXJpbmc6IGF1dG87IiB2aWV3Qm94PSIwIDAgMTAwIDEwMCIgcHJlc2VydmVBc3BlY3RSYXRpbz0ieE1pZFlNaWQiPiAgPGNpcmNsZSBjeD0iNTAiIGN5PSI1MCIgZmlsbD0ibm9uZSIgc3Ryb2tlPSIjYzNjM2MzIiBzdHJva2Utd2lkdGg9IjEwIiByPSIzNSIgc3Ryb2tlLWRhc2hhcnJheT0iMTY0LjkzMzYxNDMxMzQ2NDE1IDU2Ljk3Nzg3MTQzNzgyMTM4Ij4gICAgPGFuaW1hdGVUcmFuc2Zvcm0gYXR0cmlidXRlTmFtZT0idHJhbnNmb3JtIiB0eXBlPSJyb3RhdGUiIHJlcGVhdENvdW50PSJpbmRlZmluaXRlIiBkdXI9IjFzIiB2YWx1ZXM9IjAgNTAgNTA7MzYwIDUwIDUwIiBrZXlUaW1lcz0iMDsxIj48L2FuaW1hdGVUcmFuc2Zvcm0+ICA8L2NpcmNsZT48L3N2Zz4=\\\");\\n  background-size: auto calc(min(50%, 400px));\\n}\",{\"type\":\"object\",\"name\":\"ImportedStyleSheet\",\"id\":\"p1365\",\"attributes\":{\"url\":\"https://cdn.holoviz.org/panel/1.2.3/dist/css/loading.css\"}},{\"type\":\"object\",\"name\":\"ImportedStyleSheet\",\"id\":\"p1429\",\"attributes\":{\"url\":\"https://cdn.holoviz.org/panel/1.2.3/dist/css/listpanel.css\"}},{\"type\":\"object\",\"name\":\"ImportedStyleSheet\",\"id\":\"p1363\",\"attributes\":{\"url\":\"https://cdn.holoviz.org/panel/1.2.3/dist/bundled/theme/default.css\"}},{\"type\":\"object\",\"name\":\"ImportedStyleSheet\",\"id\":\"p1364\",\"attributes\":{\"url\":\"https://cdn.holoviz.org/panel/1.2.3/dist/bundled/theme/native.css\"}}],\"min_width\":700,\"margin\":0,\"sizing_mode\":\"stretch_width\",\"align\":\"start\",\"children\":[{\"type\":\"object\",\"name\":\"Spacer\",\"id\":\"p1366\",\"attributes\":{\"name\":\"HSpacer01524\",\"stylesheets\":[\"\\n:host(.pn-loading.pn-arc):before, .pn-loading.pn-arc:before {\\n  background-image: url(\\\"data:image/svg+xml;base64,PHN2ZyB4bWxucz0iaHR0cDovL3d3dy53My5vcmcvMjAwMC9zdmciIHN0eWxlPSJtYXJnaW46IGF1dG87IGJhY2tncm91bmQ6IG5vbmU7IGRpc3BsYXk6IGJsb2NrOyBzaGFwZS1yZW5kZXJpbmc6IGF1dG87IiB2aWV3Qm94PSIwIDAgMTAwIDEwMCIgcHJlc2VydmVBc3BlY3RSYXRpbz0ieE1pZFlNaWQiPiAgPGNpcmNsZSBjeD0iNTAiIGN5PSI1MCIgZmlsbD0ibm9uZSIgc3Ryb2tlPSIjYzNjM2MzIiBzdHJva2Utd2lkdGg9IjEwIiByPSIzNSIgc3Ryb2tlLWRhc2hhcnJheT0iMTY0LjkzMzYxNDMxMzQ2NDE1IDU2Ljk3Nzg3MTQzNzgyMTM4Ij4gICAgPGFuaW1hdGVUcmFuc2Zvcm0gYXR0cmlidXRlTmFtZT0idHJhbnNmb3JtIiB0eXBlPSJyb3RhdGUiIHJlcGVhdENvdW50PSJpbmRlZmluaXRlIiBkdXI9IjFzIiB2YWx1ZXM9IjAgNTAgNTA7MzYwIDUwIDUwIiBrZXlUaW1lcz0iMDsxIj48L2FuaW1hdGVUcmFuc2Zvcm0+ICA8L2NpcmNsZT48L3N2Zz4=\\\");\\n  background-size: auto calc(min(50%, 400px));\\n}\",{\"id\":\"p1365\"},{\"id\":\"p1363\"},{\"id\":\"p1364\"}],\"margin\":0,\"sizing_mode\":\"stretch_width\",\"align\":\"start\"}},{\"type\":\"object\",\"name\":\"Figure\",\"id\":\"p1374\",\"attributes\":{\"width\":700,\"height\":300,\"margin\":[5,10],\"sizing_mode\":\"fixed\",\"align\":\"start\",\"x_range\":{\"type\":\"object\",\"name\":\"Range1d\",\"id\":\"p1367\",\"attributes\":{\"tags\":[[[\"date\",\"date\",null]],[]],\"start\":-347155200000.0,\"end\":1709251200000.0,\"reset_start\":-347155200000.0,\"reset_end\":1709251200000.0}},\"y_range\":{\"type\":\"object\",\"name\":\"Range1d\",\"id\":\"p1368\",\"attributes\":{\"tags\":[[[\"10-1 Rate Diff\",\"10-1 Rate Diff\",null]],{\"type\":\"map\",\"entries\":[[\"invert_yaxis\",false],[\"autorange\",false]]}],\"start\":-3.7170000000000005,\"end\":4.047,\"reset_start\":-3.7170000000000005,\"reset_end\":4.047}},\"x_scale\":{\"type\":\"object\",\"name\":\"LinearScale\",\"id\":\"p1384\"},\"y_scale\":{\"type\":\"object\",\"name\":\"LinearScale\",\"id\":\"p1385\"},\"title\":{\"type\":\"object\",\"name\":\"Title\",\"id\":\"p1377\",\"attributes\":{\"text_color\":\"black\",\"text_font_size\":\"12pt\"}},\"renderers\":[{\"type\":\"object\",\"name\":\"GlyphRenderer\",\"id\":\"p1422\",\"attributes\":{\"data_source\":{\"type\":\"object\",\"name\":\"ColumnDataSource\",\"id\":\"p1413\",\"attributes\":{\"selected\":{\"type\":\"object\",\"name\":\"Selection\",\"id\":\"p1414\",\"attributes\":{\"indices\":[],\"line_indices\":[]}},\"selection_policy\":{\"type\":\"object\",\"name\":\"UnionRenderers\",\"id\":\"p1415\"},\"data\":{\"type\":\"map\",\"entries\":[[\"date\",{\"type\":\"ndarray\",\"array\":{\"type\":\"bytes\",\"data\":\"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\"},\"shape\":[783],\"dtype\":\"float64\",\"order\":\"little\"}],[\"10-1 Rate Diff\",{\"type\":\"ndarray\",\"array\":{\"type\":\"bytes\",\"data\":\"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\"},\"shape\":[783],\"dtype\":\"float64\",\"order\":\"little\"}],[\"A_10_hyphen_minus_1_Rate_Diff\",{\"type\":\"ndarray\",\"array\":{\"type\":\"bytes\",\"data\":\"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\"},\"shape\":[783],\"dtype\":\"float64\",\"order\":\"little\"}]]}}},\"view\":{\"type\":\"object\",\"name\":\"CDSView\",\"id\":\"p1423\",\"attributes\":{\"filter\":{\"type\":\"object\",\"name\":\"AllIndices\",\"id\":\"p1424\"}}},\"glyph\":{\"type\":\"object\",\"name\":\"Line\",\"id\":\"p1419\",\"attributes\":{\"tags\":[\"apply_ranges\"],\"x\":{\"type\":\"field\",\"field\":\"date\"},\"y\":{\"type\":\"field\",\"field\":\"10-1 Rate Diff\"},\"line_color\":\"#30a2da\",\"line_width\":2}},\"selection_glyph\":{\"type\":\"object\",\"name\":\"Line\",\"id\":\"p1425\",\"attributes\":{\"tags\":[\"apply_ranges\"],\"x\":{\"type\":\"field\",\"field\":\"date\"},\"y\":{\"type\":\"field\",\"field\":\"10-1 Rate Diff\"},\"line_color\":\"#30a2da\",\"line_width\":2}},\"nonselection_glyph\":{\"type\":\"object\",\"name\":\"Line\",\"id\":\"p1420\",\"attributes\":{\"tags\":[\"apply_ranges\"],\"x\":{\"type\":\"field\",\"field\":\"date\"},\"y\":{\"type\":\"field\",\"field\":\"10-1 Rate Diff\"},\"line_color\":\"#30a2da\",\"line_alpha\":0.1,\"line_width\":2}},\"muted_glyph\":{\"type\":\"object\",\"name\":\"Line\",\"id\":\"p1421\",\"attributes\":{\"tags\":[\"apply_ranges\"],\"x\":{\"type\":\"field\",\"field\":\"date\"},\"y\":{\"type\":\"field\",\"field\":\"10-1 Rate Diff\"},\"line_color\":\"#30a2da\",\"line_alpha\":0.2,\"line_width\":2}}}}],\"toolbar\":{\"type\":\"object\",\"name\":\"Toolbar\",\"id\":\"p1383\",\"attributes\":{\"tools\":[{\"type\":\"object\",\"name\":\"WheelZoomTool\",\"id\":\"p1372\",\"attributes\":{\"tags\":[\"hv_created\"],\"zoom_together\":\"none\"}},{\"type\":\"object\",\"name\":\"HoverTool\",\"id\":\"p1373\",\"attributes\":{\"tags\":[\"hv_created\"],\"renderers\":[{\"id\":\"p1422\"}],\"tooltips\":[[\"date\",\"@{date}{%F %T}\"],[\"10-1 Rate Diff\",\"@{A_10_hyphen_minus_1_Rate_Diff}\"]],\"formatters\":{\"type\":\"map\",\"entries\":[[\"@{date}\",\"datetime\"]]}}},{\"type\":\"object\",\"name\":\"SaveTool\",\"id\":\"p1408\"},{\"type\":\"object\",\"name\":\"PanTool\",\"id\":\"p1409\"},{\"type\":\"object\",\"name\":\"BoxZoomTool\",\"id\":\"p1410\",\"attributes\":{\"overlay\":{\"type\":\"object\",\"name\":\"BoxAnnotation\",\"id\":\"p1411\",\"attributes\":{\"syncable\":false,\"level\":\"overlay\",\"visible\":false,\"left_units\":\"canvas\",\"right_units\":\"canvas\",\"bottom_units\":\"canvas\",\"top_units\":\"canvas\",\"line_color\":\"black\",\"line_alpha\":1.0,\"line_width\":2,\"line_dash\":[4,4],\"fill_color\":\"lightgrey\",\"fill_alpha\":0.5}}}},{\"type\":\"object\",\"name\":\"ResetTool\",\"id\":\"p1412\"}],\"active_drag\":{\"id\":\"p1409\"},\"active_scroll\":{\"id\":\"p1372\"}}},\"left\":[{\"type\":\"object\",\"name\":\"LinearAxis\",\"id\":\"p1403\",\"attributes\":{\"ticker\":{\"type\":\"object\",\"name\":\"BasicTicker\",\"id\":\"p1404\",\"attributes\":{\"mantissas\":[1,2,5]}},\"formatter\":{\"type\":\"object\",\"name\":\"BasicTickFormatter\",\"id\":\"p1405\"},\"axis_label\":\"10-1 Rate Diff\",\"major_label_policy\":{\"type\":\"object\",\"name\":\"AllLabels\",\"id\":\"p1406\"}}}],\"below\":[{\"type\":\"object\",\"name\":\"DatetimeAxis\",\"id\":\"p1386\",\"attributes\":{\"ticker\":{\"type\":\"object\",\"name\":\"DatetimeTicker\",\"id\":\"p1387\",\"attributes\":{\"num_minor_ticks\":5,\"tickers\":[{\"type\":\"object\",\"name\":\"AdaptiveTicker\",\"id\":\"p1388\",\"attributes\":{\"num_minor_ticks\":0,\"mantissas\":[1,2,5],\"max_interval\":500.0}},{\"type\":\"object\",\"name\":\"AdaptiveTicker\",\"id\":\"p1389\",\"attributes\":{\"num_minor_ticks\":0,\"base\":60,\"mantissas\":[1,2,5,10,15,20,30],\"min_interval\":1000.0,\"max_interval\":1800000.0}},{\"type\":\"object\",\"name\":\"AdaptiveTicker\",\"id\":\"p1390\",\"attributes\":{\"num_minor_ticks\":0,\"base\":24,\"mantissas\":[1,2,4,6,8,12],\"min_interval\":3600000.0,\"max_interval\":43200000.0}},{\"type\":\"object\",\"name\":\"DaysTicker\",\"id\":\"p1391\",\"attributes\":{\"days\":[1,2,3,4,5,6,7,8,9,10,11,12,13,14,15,16,17,18,19,20,21,22,23,24,25,26,27,28,29,30,31]}},{\"type\":\"object\",\"name\":\"DaysTicker\",\"id\":\"p1392\",\"attributes\":{\"days\":[1,4,7,10,13,16,19,22,25,28]}},{\"type\":\"object\",\"name\":\"DaysTicker\",\"id\":\"p1393\",\"attributes\":{\"days\":[1,8,15,22]}},{\"type\":\"object\",\"name\":\"DaysTicker\",\"id\":\"p1394\",\"attributes\":{\"days\":[1,15]}},{\"type\":\"object\",\"name\":\"MonthsTicker\",\"id\":\"p1395\",\"attributes\":{\"months\":[0,1,2,3,4,5,6,7,8,9,10,11]}},{\"type\":\"object\",\"name\":\"MonthsTicker\",\"id\":\"p1396\",\"attributes\":{\"months\":[0,2,4,6,8,10]}},{\"type\":\"object\",\"name\":\"MonthsTicker\",\"id\":\"p1397\",\"attributes\":{\"months\":[0,4,8]}},{\"type\":\"object\",\"name\":\"MonthsTicker\",\"id\":\"p1398\",\"attributes\":{\"months\":[0,6]}},{\"type\":\"object\",\"name\":\"YearsTicker\",\"id\":\"p1399\"}]}},\"formatter\":{\"type\":\"object\",\"name\":\"DatetimeTickFormatter\",\"id\":\"p1400\"},\"axis_label\":\"date\",\"major_label_policy\":{\"type\":\"object\",\"name\":\"AllLabels\",\"id\":\"p1401\"}}}],\"center\":[{\"type\":\"object\",\"name\":\"Grid\",\"id\":\"p1402\",\"attributes\":{\"axis\":{\"id\":\"p1386\"},\"grid_line_color\":null}},{\"type\":\"object\",\"name\":\"Grid\",\"id\":\"p1407\",\"attributes\":{\"dimension\":1,\"axis\":{\"id\":\"p1403\"},\"grid_line_color\":null}}],\"min_border_top\":10,\"min_border_bottom\":10,\"min_border_left\":10,\"min_border_right\":10,\"output_backend\":\"webgl\"}},{\"type\":\"object\",\"name\":\"Spacer\",\"id\":\"p1427\",\"attributes\":{\"name\":\"HSpacer01527\",\"stylesheets\":[\"\\n:host(.pn-loading.pn-arc):before, .pn-loading.pn-arc:before {\\n  background-image: url(\\\"data:image/svg+xml;base64,PHN2ZyB4bWxucz0iaHR0cDovL3d3dy53My5vcmcvMjAwMC9zdmciIHN0eWxlPSJtYXJnaW46IGF1dG87IGJhY2tncm91bmQ6IG5vbmU7IGRpc3BsYXk6IGJsb2NrOyBzaGFwZS1yZW5kZXJpbmc6IGF1dG87IiB2aWV3Qm94PSIwIDAgMTAwIDEwMCIgcHJlc2VydmVBc3BlY3RSYXRpbz0ieE1pZFlNaWQiPiAgPGNpcmNsZSBjeD0iNTAiIGN5PSI1MCIgZmlsbD0ibm9uZSIgc3Ryb2tlPSIjYzNjM2MzIiBzdHJva2Utd2lkdGg9IjEwIiByPSIzNSIgc3Ryb2tlLWRhc2hhcnJheT0iMTY0LjkzMzYxNDMxMzQ2NDE1IDU2Ljk3Nzg3MTQzNzgyMTM4Ij4gICAgPGFuaW1hdGVUcmFuc2Zvcm0gYXR0cmlidXRlTmFtZT0idHJhbnNmb3JtIiB0eXBlPSJyb3RhdGUiIHJlcGVhdENvdW50PSJpbmRlZmluaXRlIiBkdXI9IjFzIiB2YWx1ZXM9IjAgNTAgNTA7MzYwIDUwIDUwIiBrZXlUaW1lcz0iMDsxIj48L2FuaW1hdGVUcmFuc2Zvcm0+ICA8L2NpcmNsZT48L3N2Zz4=\\\");\\n  background-size: auto calc(min(50%, 400px));\\n}\",{\"id\":\"p1365\"},{\"id\":\"p1363\"},{\"id\":\"p1364\"}],\"margin\":0,\"sizing_mode\":\"stretch_width\",\"align\":\"start\"}}]}}],\"defs\":[{\"type\":\"model\",\"name\":\"ReactiveHTML1\"},{\"type\":\"model\",\"name\":\"FlexBox1\",\"properties\":[{\"name\":\"align_content\",\"kind\":\"Any\",\"default\":\"flex-start\"},{\"name\":\"align_items\",\"kind\":\"Any\",\"default\":\"flex-start\"},{\"name\":\"flex_direction\",\"kind\":\"Any\",\"default\":\"row\"},{\"name\":\"flex_wrap\",\"kind\":\"Any\",\"default\":\"wrap\"},{\"name\":\"justify_content\",\"kind\":\"Any\",\"default\":\"flex-start\"}]},{\"type\":\"model\",\"name\":\"FloatPanel1\",\"properties\":[{\"name\":\"config\",\"kind\":\"Any\",\"default\":{\"type\":\"map\"}},{\"name\":\"contained\",\"kind\":\"Any\",\"default\":true},{\"name\":\"position\",\"kind\":\"Any\",\"default\":\"right-top\"},{\"name\":\"offsetx\",\"kind\":\"Any\",\"default\":null},{\"name\":\"offsety\",\"kind\":\"Any\",\"default\":null},{\"name\":\"theme\",\"kind\":\"Any\",\"default\":\"primary\"},{\"name\":\"status\",\"kind\":\"Any\",\"default\":\"normalized\"}]},{\"type\":\"model\",\"name\":\"GridStack1\",\"properties\":[{\"name\":\"mode\",\"kind\":\"Any\",\"default\":\"warn\"},{\"name\":\"ncols\",\"kind\":\"Any\",\"default\":null},{\"name\":\"nrows\",\"kind\":\"Any\",\"default\":null},{\"name\":\"allow_resize\",\"kind\":\"Any\",\"default\":true},{\"name\":\"allow_drag\",\"kind\":\"Any\",\"default\":true},{\"name\":\"state\",\"kind\":\"Any\",\"default\":[]}]},{\"type\":\"model\",\"name\":\"drag1\",\"properties\":[{\"name\":\"slider_width\",\"kind\":\"Any\",\"default\":5},{\"name\":\"slider_color\",\"kind\":\"Any\",\"default\":\"black\"},{\"name\":\"value\",\"kind\":\"Any\",\"default\":50}]},{\"type\":\"model\",\"name\":\"click1\",\"properties\":[{\"name\":\"terminal_output\",\"kind\":\"Any\",\"default\":\"\"},{\"name\":\"debug_name\",\"kind\":\"Any\",\"default\":\"\"},{\"name\":\"clears\",\"kind\":\"Any\",\"default\":0}]},{\"type\":\"model\",\"name\":\"FastWrapper1\",\"properties\":[{\"name\":\"object\",\"kind\":\"Any\",\"default\":null},{\"name\":\"style\",\"kind\":\"Any\",\"default\":null}]},{\"type\":\"model\",\"name\":\"NotificationAreaBase1\",\"properties\":[{\"name\":\"js_events\",\"kind\":\"Any\",\"default\":{\"type\":\"map\"}},{\"name\":\"position\",\"kind\":\"Any\",\"default\":\"bottom-right\"},{\"name\":\"_clear\",\"kind\":\"Any\",\"default\":0}]},{\"type\":\"model\",\"name\":\"NotificationArea1\",\"properties\":[{\"name\":\"js_events\",\"kind\":\"Any\",\"default\":{\"type\":\"map\"}},{\"name\":\"notifications\",\"kind\":\"Any\",\"default\":[]},{\"name\":\"position\",\"kind\":\"Any\",\"default\":\"bottom-right\"},{\"name\":\"_clear\",\"kind\":\"Any\",\"default\":0},{\"name\":\"types\",\"kind\":\"Any\",\"default\":[{\"type\":\"map\",\"entries\":[[\"type\",\"warning\"],[\"background\",\"#ffc107\"],[\"icon\",{\"type\":\"map\",\"entries\":[[\"className\",\"fas fa-exclamation-triangle\"],[\"tagName\",\"i\"],[\"color\",\"white\"]]}]]},{\"type\":\"map\",\"entries\":[[\"type\",\"info\"],[\"background\",\"#007bff\"],[\"icon\",{\"type\":\"map\",\"entries\":[[\"className\",\"fas fa-info-circle\"],[\"tagName\",\"i\"],[\"color\",\"white\"]]}]]}]}]},{\"type\":\"model\",\"name\":\"Notification\",\"properties\":[{\"name\":\"background\",\"kind\":\"Any\",\"default\":null},{\"name\":\"duration\",\"kind\":\"Any\",\"default\":3000},{\"name\":\"icon\",\"kind\":\"Any\",\"default\":null},{\"name\":\"message\",\"kind\":\"Any\",\"default\":\"\"},{\"name\":\"notification_type\",\"kind\":\"Any\",\"default\":null},{\"name\":\"_destroyed\",\"kind\":\"Any\",\"default\":false}]},{\"type\":\"model\",\"name\":\"TemplateActions1\",\"properties\":[{\"name\":\"open_modal\",\"kind\":\"Any\",\"default\":0},{\"name\":\"close_modal\",\"kind\":\"Any\",\"default\":0}]},{\"type\":\"model\",\"name\":\"BootstrapTemplateActions1\",\"properties\":[{\"name\":\"open_modal\",\"kind\":\"Any\",\"default\":0},{\"name\":\"close_modal\",\"kind\":\"Any\",\"default\":0}]},{\"type\":\"model\",\"name\":\"MaterialTemplateActions1\",\"properties\":[{\"name\":\"open_modal\",\"kind\":\"Any\",\"default\":0},{\"name\":\"close_modal\",\"kind\":\"Any\",\"default\":0}]}]}};\n",
       "  var render_items = [{\"docid\":\"6871518e-374a-4da4-9df3-a8d7cdb2b8b7\",\"roots\":{\"p1362\":\"dcffb43b-0b63-4e4f-b6b0-041678e980e5\"},\"root_ids\":[\"p1362\"]}];\n",
       "  var docs = Object.values(docs_json)\n",
       "  if (!docs) {\n",
       "    return\n",
       "  }\n",
       "  const py_version = docs[0].version.replace('rc', '-rc.').replace('.dev', '-dev.')\n",
       "  const is_dev = py_version.indexOf(\"+\") !== -1 || py_version.indexOf(\"-\") !== -1\n",
       "  function embed_document(root) {\n",
       "    var Bokeh = get_bokeh(root)\n",
       "    Bokeh.embed.embed_items_notebook(docs_json, render_items);\n",
       "    for (const render_item of render_items) {\n",
       "      for (const root_id of render_item.root_ids) {\n",
       "\tconst id_el = document.getElementById(root_id)\n",
       "\tif (id_el.children.length && (id_el.children[0].className === 'bk-root')) {\n",
       "\t  const root_el = id_el.children[0]\n",
       "\t  root_el.id = root_el.id + '-rendered'\n",
       "\t}\n",
       "      }\n",
       "    }\n",
       "  }\n",
       "  function get_bokeh(root) {\n",
       "    if (root.Bokeh === undefined) {\n",
       "      return null\n",
       "    } else if (root.Bokeh.version !== py_version && !is_dev) {\n",
       "      if (root.Bokeh.versions === undefined || !root.Bokeh.versions.has(py_version)) {\n",
       "\treturn null\n",
       "      }\n",
       "      return root.Bokeh.versions.get(py_version);\n",
       "    } else if (root.Bokeh.version === py_version) {\n",
       "      return root.Bokeh\n",
       "    }\n",
       "    return null\n",
       "  }\n",
       "  function is_loaded(root) {\n",
       "    var Bokeh = get_bokeh(root)\n",
       "    return (Bokeh != null && Bokeh.Panel !== undefined)\n",
       "  }\n",
       "  if (is_loaded(root)) {\n",
       "    embed_document(root);\n",
       "  } else {\n",
       "    var attempts = 0;\n",
       "    var timer = setInterval(function(root) {\n",
       "      if (is_loaded(root)) {\n",
       "        clearInterval(timer);\n",
       "        embed_document(root);\n",
       "      } else if (document.readyState == \"complete\") {\n",
       "        attempts++;\n",
       "        if (attempts > 200) {\n",
       "          clearInterval(timer);\n",
       "\t  var Bokeh = get_bokeh(root)\n",
       "\t  if (Bokeh == null || Bokeh.Panel == null) {\n",
       "            console.warn(\"Panel: ERROR: Unable to run Panel code because Bokeh or Panel library is missing\");\n",
       "\t  } else {\n",
       "\t    console.warn(\"Panel: WARNING: Attempting to render but not all required libraries could be resolved.\")\n",
       "\t    embed_document(root)\n",
       "\t  }\n",
       "        }\n",
       "      }\n",
       "    }, 25, root)\n",
       "  }\n",
       "})(window);</script>"
      ],
      "text/plain": [
       ":Curve   [date]   (10-1 Rate Diff)"
      ]
     },
     "execution_count": 181,
     "metadata": {
      "application/vnd.holoviews_exec.v0+json": {
       "id": "p1362"
      }
     },
     "output_type": "execute_result"
    }
   ],
   "source": [
    "treasury_df.hvplot.line(x=\"date\", y=\"10-1 Rate Diff\")"
   ]
  },
  {
   "cell_type": "code",
   "execution_count": null,
   "id": "deaf69ca",
   "metadata": {},
   "outputs": [],
   "source": []
  }
 ],
 "metadata": {
  "kernelspec": {
   "display_name": "Python 3 (ipykernel)",
   "language": "python",
   "name": "python3"
  },
  "language_info": {
   "codemirror_mode": {
    "name": "ipython",
    "version": 3
   },
   "file_extension": ".py",
   "mimetype": "text/x-python",
   "name": "python",
   "nbconvert_exporter": "python",
   "pygments_lexer": "ipython3",
   "version": "3.10.13"
  }
 },
 "nbformat": 4,
 "nbformat_minor": 5
}
