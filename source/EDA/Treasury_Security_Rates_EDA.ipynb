{
 "cells": [
  {
   "cell_type": "code",
   "execution_count": 98,
   "id": "73ef17bc",
   "metadata": {},
   "outputs": [],
   "source": [
    "import pandas as pd\n",
    "from fredapi import Fred\n",
    "import sys\n",
    "import os\n",
    "import hvplot.pandas as hvplot\n",
    "\n",
    "# Add config module to sys path\n",
    "sys.path.insert(0, os.path.abspath('../../config'))\n",
    "\n",
    "# Import API key\n",
    "from api_keys import fred_api_key\n"
   ]
  },
  {
   "cell_type": "code",
   "execution_count": 99,
   "id": "d3708c00",
   "metadata": {},
   "outputs": [],
   "source": [
    "# Set up API Key\n",
    "\n",
    "fred = Fred(api_key=f'{fred_api_key}')"
   ]
  },
  {
   "cell_type": "code",
   "execution_count": 100,
   "id": "dd858244",
   "metadata": {},
   "outputs": [],
   "source": [
    "# Retrieve 10 Year Treasury security rates (monthly) from FRED API\n",
    "\n",
    "data_10year_treasury = fred.get_series('GS10')"
   ]
  },
  {
   "cell_type": "code",
   "execution_count": 101,
   "id": "9f5b7bb8",
   "metadata": {},
   "outputs": [],
   "source": [
    "# Retain only data since Jan 1959\n",
    "\n",
    "data_10year_treasury = data_10year_treasury.loc[data_10year_treasury.index > '1958-12-31']"
   ]
  },
  {
   "cell_type": "code",
   "execution_count": 102,
   "id": "d8dd2c07",
   "metadata": {},
   "outputs": [
    {
     "data": {
      "text/plain": [
       "1959-01-01    4.02\n",
       "1959-02-01    3.96\n",
       "1959-03-01    3.99\n",
       "1959-04-01    4.12\n",
       "1959-05-01    4.31\n",
       "dtype: float64"
      ]
     },
     "execution_count": 102,
     "metadata": {},
     "output_type": "execute_result"
    }
   ],
   "source": [
    "# View the 10 year Series\n",
    "data_10year_treasury.head(5)"
   ]
  },
  {
   "cell_type": "code",
   "execution_count": 103,
   "id": "a32f6bc1",
   "metadata": {},
   "outputs": [],
   "source": [
    "# Retrieve 2 Year Treasury security rates (monthly) from FRED API\n",
    "\n",
    "data_2year_treasury = fred.get_series('GS2')"
   ]
  },
  {
   "cell_type": "code",
   "execution_count": 104,
   "id": "b76c13c7",
   "metadata": {},
   "outputs": [
    {
     "data": {
      "text/plain": [
       "1976-06-01    7.06\n",
       "1976-07-01    6.85\n",
       "1976-08-01    6.63\n",
       "1976-09-01    6.42\n",
       "1976-10-01    5.98\n",
       "dtype: float64"
      ]
     },
     "execution_count": 104,
     "metadata": {},
     "output_type": "execute_result"
    }
   ],
   "source": [
    "# View the 2 year Series\n",
    "\n",
    "data_2year_treasury.head()"
   ]
  },
  {
   "cell_type": "code",
   "execution_count": 105,
   "id": "8a80271d",
   "metadata": {},
   "outputs": [],
   "source": [
    "# Retrieve 1 Year Treasury security rates (monthly) from FRED API\n",
    "\n",
    "data_1year_treasury = fred.get_series('GS1')"
   ]
  },
  {
   "cell_type": "code",
   "execution_count": 106,
   "id": "fc0af649",
   "metadata": {},
   "outputs": [],
   "source": [
    "# Retain only data since Jan 1959\n",
    "\n",
    "data_1year_treasury = data_1year_treasury.loc[data_1year_treasury.index > '1958-12-31']"
   ]
  },
  {
   "cell_type": "code",
   "execution_count": 107,
   "id": "521a814e",
   "metadata": {},
   "outputs": [
    {
     "data": {
      "text/plain": [
       "1959-01-01    3.36\n",
       "1959-02-01    3.54\n",
       "1959-03-01    3.61\n",
       "1959-04-01    3.72\n",
       "1959-05-01    3.96\n",
       "dtype: float64"
      ]
     },
     "execution_count": 107,
     "metadata": {},
     "output_type": "execute_result"
    }
   ],
   "source": [
    "# View the 1 year Series\n",
    "\n",
    "data_1year_treasury.head()"
   ]
  },
  {
   "cell_type": "code",
   "execution_count": 108,
   "id": "68d9100f",
   "metadata": {},
   "outputs": [],
   "source": [
    "# Create DataFrame for each Series downloaded from Fred API\n",
    "\n",
    "data_10year_treasury_df = pd.DataFrame(data_10year_treasury)\n",
    "\n",
    "data_2year_treasury_df = pd.DataFrame(data_2year_treasury)\n",
    "\n",
    "data_1year_treasury_df = pd.DataFrame(data_1year_treasury)\n"
   ]
  },
  {
   "cell_type": "code",
   "execution_count": 109,
   "id": "39940b83",
   "metadata": {},
   "outputs": [],
   "source": [
    "# Reset Index of 10 Year DataFrame\n",
    "\n",
    "data_10year_treasury_df = data_10year_treasury_df.reset_index()"
   ]
  },
  {
   "cell_type": "code",
   "execution_count": 110,
   "id": "b9eab05c",
   "metadata": {},
   "outputs": [
    {
     "data": {
      "text/html": [
       "<div>\n",
       "<style scoped>\n",
       "    .dataframe tbody tr th:only-of-type {\n",
       "        vertical-align: middle;\n",
       "    }\n",
       "\n",
       "    .dataframe tbody tr th {\n",
       "        vertical-align: top;\n",
       "    }\n",
       "\n",
       "    .dataframe thead th {\n",
       "        text-align: right;\n",
       "    }\n",
       "</style>\n",
       "<table border=\"1\" class=\"dataframe\">\n",
       "  <thead>\n",
       "    <tr style=\"text-align: right;\">\n",
       "      <th></th>\n",
       "      <th>index</th>\n",
       "      <th>0</th>\n",
       "    </tr>\n",
       "  </thead>\n",
       "  <tbody>\n",
       "    <tr>\n",
       "      <th>0</th>\n",
       "      <td>1959-01-01</td>\n",
       "      <td>4.02</td>\n",
       "    </tr>\n",
       "    <tr>\n",
       "      <th>1</th>\n",
       "      <td>1959-02-01</td>\n",
       "      <td>3.96</td>\n",
       "    </tr>\n",
       "    <tr>\n",
       "      <th>2</th>\n",
       "      <td>1959-03-01</td>\n",
       "      <td>3.99</td>\n",
       "    </tr>\n",
       "    <tr>\n",
       "      <th>3</th>\n",
       "      <td>1959-04-01</td>\n",
       "      <td>4.12</td>\n",
       "    </tr>\n",
       "    <tr>\n",
       "      <th>4</th>\n",
       "      <td>1959-05-01</td>\n",
       "      <td>4.31</td>\n",
       "    </tr>\n",
       "  </tbody>\n",
       "</table>\n",
       "</div>"
      ],
      "text/plain": [
       "       index     0\n",
       "0 1959-01-01  4.02\n",
       "1 1959-02-01  3.96\n",
       "2 1959-03-01  3.99\n",
       "3 1959-04-01  4.12\n",
       "4 1959-05-01  4.31"
      ]
     },
     "execution_count": 110,
     "metadata": {},
     "output_type": "execute_result"
    }
   ],
   "source": [
    "# View 10 Year DataFrame\n",
    "\n",
    "data_10year_treasury_df.head()"
   ]
  },
  {
   "cell_type": "code",
   "execution_count": 111,
   "id": "24a4749d",
   "metadata": {},
   "outputs": [],
   "source": [
    "# Reset index of 2 year DataFrame\n",
    "\n",
    "data_2year_treasury_df = data_2year_treasury_df.reset_index()"
   ]
  },
  {
   "cell_type": "code",
   "execution_count": 112,
   "id": "e4783dd4",
   "metadata": {},
   "outputs": [
    {
     "data": {
      "text/html": [
       "<div>\n",
       "<style scoped>\n",
       "    .dataframe tbody tr th:only-of-type {\n",
       "        vertical-align: middle;\n",
       "    }\n",
       "\n",
       "    .dataframe tbody tr th {\n",
       "        vertical-align: top;\n",
       "    }\n",
       "\n",
       "    .dataframe thead th {\n",
       "        text-align: right;\n",
       "    }\n",
       "</style>\n",
       "<table border=\"1\" class=\"dataframe\">\n",
       "  <thead>\n",
       "    <tr style=\"text-align: right;\">\n",
       "      <th></th>\n",
       "      <th>index</th>\n",
       "      <th>0</th>\n",
       "    </tr>\n",
       "  </thead>\n",
       "  <tbody>\n",
       "    <tr>\n",
       "      <th>0</th>\n",
       "      <td>1976-06-01</td>\n",
       "      <td>7.06</td>\n",
       "    </tr>\n",
       "    <tr>\n",
       "      <th>1</th>\n",
       "      <td>1976-07-01</td>\n",
       "      <td>6.85</td>\n",
       "    </tr>\n",
       "    <tr>\n",
       "      <th>2</th>\n",
       "      <td>1976-08-01</td>\n",
       "      <td>6.63</td>\n",
       "    </tr>\n",
       "    <tr>\n",
       "      <th>3</th>\n",
       "      <td>1976-09-01</td>\n",
       "      <td>6.42</td>\n",
       "    </tr>\n",
       "    <tr>\n",
       "      <th>4</th>\n",
       "      <td>1976-10-01</td>\n",
       "      <td>5.98</td>\n",
       "    </tr>\n",
       "  </tbody>\n",
       "</table>\n",
       "</div>"
      ],
      "text/plain": [
       "       index     0\n",
       "0 1976-06-01  7.06\n",
       "1 1976-07-01  6.85\n",
       "2 1976-08-01  6.63\n",
       "3 1976-09-01  6.42\n",
       "4 1976-10-01  5.98"
      ]
     },
     "execution_count": 112,
     "metadata": {},
     "output_type": "execute_result"
    }
   ],
   "source": [
    "# View 2 Year DataFrame\n",
    "\n",
    "data_2year_treasury_df.head()"
   ]
  },
  {
   "cell_type": "code",
   "execution_count": 113,
   "id": "ddda2fc1",
   "metadata": {},
   "outputs": [],
   "source": [
    "# Reset index of 1 year DataFrame \n",
    "\n",
    "data_1year_treasury_df = data_1year_treasury_df.reset_index()"
   ]
  },
  {
   "cell_type": "code",
   "execution_count": 114,
   "id": "c46e2db6",
   "metadata": {},
   "outputs": [
    {
     "data": {
      "text/html": [
       "<div>\n",
       "<style scoped>\n",
       "    .dataframe tbody tr th:only-of-type {\n",
       "        vertical-align: middle;\n",
       "    }\n",
       "\n",
       "    .dataframe tbody tr th {\n",
       "        vertical-align: top;\n",
       "    }\n",
       "\n",
       "    .dataframe thead th {\n",
       "        text-align: right;\n",
       "    }\n",
       "</style>\n",
       "<table border=\"1\" class=\"dataframe\">\n",
       "  <thead>\n",
       "    <tr style=\"text-align: right;\">\n",
       "      <th></th>\n",
       "      <th>index</th>\n",
       "      <th>0</th>\n",
       "    </tr>\n",
       "  </thead>\n",
       "  <tbody>\n",
       "    <tr>\n",
       "      <th>0</th>\n",
       "      <td>1959-01-01</td>\n",
       "      <td>3.36</td>\n",
       "    </tr>\n",
       "    <tr>\n",
       "      <th>1</th>\n",
       "      <td>1959-02-01</td>\n",
       "      <td>3.54</td>\n",
       "    </tr>\n",
       "    <tr>\n",
       "      <th>2</th>\n",
       "      <td>1959-03-01</td>\n",
       "      <td>3.61</td>\n",
       "    </tr>\n",
       "    <tr>\n",
       "      <th>3</th>\n",
       "      <td>1959-04-01</td>\n",
       "      <td>3.72</td>\n",
       "    </tr>\n",
       "    <tr>\n",
       "      <th>4</th>\n",
       "      <td>1959-05-01</td>\n",
       "      <td>3.96</td>\n",
       "    </tr>\n",
       "  </tbody>\n",
       "</table>\n",
       "</div>"
      ],
      "text/plain": [
       "       index     0\n",
       "0 1959-01-01  3.36\n",
       "1 1959-02-01  3.54\n",
       "2 1959-03-01  3.61\n",
       "3 1959-04-01  3.72\n",
       "4 1959-05-01  3.96"
      ]
     },
     "execution_count": 114,
     "metadata": {},
     "output_type": "execute_result"
    }
   ],
   "source": [
    "# View 1 year DataFrame\n",
    "\n",
    "data_1year_treasury_df.head()"
   ]
  },
  {
   "cell_type": "code",
   "execution_count": 115,
   "id": "34c2bda6",
   "metadata": {},
   "outputs": [],
   "source": [
    "# Merge 10 Year and 2 Year DataFrame to create Treasury DataFrame\n",
    "\n",
    "treasury_df = pd.merge(data_10year_treasury_df,data_2year_treasury_df, on=\"index\", how=\"left\")"
   ]
  },
  {
   "cell_type": "code",
   "execution_count": 116,
   "id": "a6a7fd84",
   "metadata": {},
   "outputs": [],
   "source": [
    "# Fill 0 for missing values\n",
    "\n",
    "treasury_df = treasury_df.fillna(0)"
   ]
  },
  {
   "cell_type": "code",
   "execution_count": 117,
   "id": "33213f05",
   "metadata": {},
   "outputs": [
    {
     "data": {
      "text/html": [
       "<div>\n",
       "<style scoped>\n",
       "    .dataframe tbody tr th:only-of-type {\n",
       "        vertical-align: middle;\n",
       "    }\n",
       "\n",
       "    .dataframe tbody tr th {\n",
       "        vertical-align: top;\n",
       "    }\n",
       "\n",
       "    .dataframe thead th {\n",
       "        text-align: right;\n",
       "    }\n",
       "</style>\n",
       "<table border=\"1\" class=\"dataframe\">\n",
       "  <thead>\n",
       "    <tr style=\"text-align: right;\">\n",
       "      <th></th>\n",
       "      <th>index</th>\n",
       "      <th>0_x</th>\n",
       "      <th>0_y</th>\n",
       "    </tr>\n",
       "  </thead>\n",
       "  <tbody>\n",
       "    <tr>\n",
       "      <th>0</th>\n",
       "      <td>1959-01-01</td>\n",
       "      <td>4.02</td>\n",
       "      <td>0.0</td>\n",
       "    </tr>\n",
       "    <tr>\n",
       "      <th>1</th>\n",
       "      <td>1959-02-01</td>\n",
       "      <td>3.96</td>\n",
       "      <td>0.0</td>\n",
       "    </tr>\n",
       "    <tr>\n",
       "      <th>2</th>\n",
       "      <td>1959-03-01</td>\n",
       "      <td>3.99</td>\n",
       "      <td>0.0</td>\n",
       "    </tr>\n",
       "    <tr>\n",
       "      <th>3</th>\n",
       "      <td>1959-04-01</td>\n",
       "      <td>4.12</td>\n",
       "      <td>0.0</td>\n",
       "    </tr>\n",
       "    <tr>\n",
       "      <th>4</th>\n",
       "      <td>1959-05-01</td>\n",
       "      <td>4.31</td>\n",
       "      <td>0.0</td>\n",
       "    </tr>\n",
       "  </tbody>\n",
       "</table>\n",
       "</div>"
      ],
      "text/plain": [
       "       index   0_x  0_y\n",
       "0 1959-01-01  4.02  0.0\n",
       "1 1959-02-01  3.96  0.0\n",
       "2 1959-03-01  3.99  0.0\n",
       "3 1959-04-01  4.12  0.0\n",
       "4 1959-05-01  4.31  0.0"
      ]
     },
     "execution_count": 117,
     "metadata": {},
     "output_type": "execute_result"
    }
   ],
   "source": [
    "# View the Treasury DataFrame\n",
    "\n",
    "treasury_df.head()"
   ]
  },
  {
   "cell_type": "code",
   "execution_count": 118,
   "id": "f5340952",
   "metadata": {},
   "outputs": [],
   "source": [
    "# Merge Treasury DataFrame  and 1 Year Data Frame\n",
    "\n",
    "treasury_df = pd.merge(treasury_df, data_1year_treasury_df, on=\"index\")"
   ]
  },
  {
   "cell_type": "code",
   "execution_count": 119,
   "id": "a9823c64",
   "metadata": {},
   "outputs": [
    {
     "data": {
      "text/html": [
       "<div>\n",
       "<style scoped>\n",
       "    .dataframe tbody tr th:only-of-type {\n",
       "        vertical-align: middle;\n",
       "    }\n",
       "\n",
       "    .dataframe tbody tr th {\n",
       "        vertical-align: top;\n",
       "    }\n",
       "\n",
       "    .dataframe thead th {\n",
       "        text-align: right;\n",
       "    }\n",
       "</style>\n",
       "<table border=\"1\" class=\"dataframe\">\n",
       "  <thead>\n",
       "    <tr style=\"text-align: right;\">\n",
       "      <th></th>\n",
       "      <th>index</th>\n",
       "      <th>0_x</th>\n",
       "      <th>0_y</th>\n",
       "      <th>0</th>\n",
       "    </tr>\n",
       "  </thead>\n",
       "  <tbody>\n",
       "    <tr>\n",
       "      <th>0</th>\n",
       "      <td>1959-01-01</td>\n",
       "      <td>4.02</td>\n",
       "      <td>0.0</td>\n",
       "      <td>3.36</td>\n",
       "    </tr>\n",
       "    <tr>\n",
       "      <th>1</th>\n",
       "      <td>1959-02-01</td>\n",
       "      <td>3.96</td>\n",
       "      <td>0.0</td>\n",
       "      <td>3.54</td>\n",
       "    </tr>\n",
       "    <tr>\n",
       "      <th>2</th>\n",
       "      <td>1959-03-01</td>\n",
       "      <td>3.99</td>\n",
       "      <td>0.0</td>\n",
       "      <td>3.61</td>\n",
       "    </tr>\n",
       "    <tr>\n",
       "      <th>3</th>\n",
       "      <td>1959-04-01</td>\n",
       "      <td>4.12</td>\n",
       "      <td>0.0</td>\n",
       "      <td>3.72</td>\n",
       "    </tr>\n",
       "    <tr>\n",
       "      <th>4</th>\n",
       "      <td>1959-05-01</td>\n",
       "      <td>4.31</td>\n",
       "      <td>0.0</td>\n",
       "      <td>3.96</td>\n",
       "    </tr>\n",
       "  </tbody>\n",
       "</table>\n",
       "</div>"
      ],
      "text/plain": [
       "       index   0_x  0_y     0\n",
       "0 1959-01-01  4.02  0.0  3.36\n",
       "1 1959-02-01  3.96  0.0  3.54\n",
       "2 1959-03-01  3.99  0.0  3.61\n",
       "3 1959-04-01  4.12  0.0  3.72\n",
       "4 1959-05-01  4.31  0.0  3.96"
      ]
     },
     "execution_count": 119,
     "metadata": {},
     "output_type": "execute_result"
    }
   ],
   "source": [
    "# View the Treasury DataFrame\n",
    "\n",
    "treasury_df.head()"
   ]
  },
  {
   "cell_type": "code",
   "execution_count": 120,
   "id": "e6ea0b91",
   "metadata": {},
   "outputs": [],
   "source": [
    "# Rename columns of Treasury DataFrame \n",
    "\n",
    "treasury_df = treasury_df.rename(columns={\"index\":\"date\", \n",
    "                                          \"0_x\":\"10 Years T Rates\", \n",
    "                                          \"0_y\": \"2 Years T Rates\",\n",
    "                                         0 : \"1 Year T Rates\"})"
   ]
  },
  {
   "cell_type": "code",
   "execution_count": 121,
   "id": "7ace791d",
   "metadata": {},
   "outputs": [
    {
     "data": {
      "text/html": [
       "<div>\n",
       "<style scoped>\n",
       "    .dataframe tbody tr th:only-of-type {\n",
       "        vertical-align: middle;\n",
       "    }\n",
       "\n",
       "    .dataframe tbody tr th {\n",
       "        vertical-align: top;\n",
       "    }\n",
       "\n",
       "    .dataframe thead th {\n",
       "        text-align: right;\n",
       "    }\n",
       "</style>\n",
       "<table border=\"1\" class=\"dataframe\">\n",
       "  <thead>\n",
       "    <tr style=\"text-align: right;\">\n",
       "      <th></th>\n",
       "      <th>date</th>\n",
       "      <th>10 Years T Rates</th>\n",
       "      <th>2 Years T Rates</th>\n",
       "      <th>1 Year T Rates</th>\n",
       "    </tr>\n",
       "  </thead>\n",
       "  <tbody>\n",
       "    <tr>\n",
       "      <th>0</th>\n",
       "      <td>1959-01-01</td>\n",
       "      <td>4.02</td>\n",
       "      <td>0.0</td>\n",
       "      <td>3.36</td>\n",
       "    </tr>\n",
       "    <tr>\n",
       "      <th>1</th>\n",
       "      <td>1959-02-01</td>\n",
       "      <td>3.96</td>\n",
       "      <td>0.0</td>\n",
       "      <td>3.54</td>\n",
       "    </tr>\n",
       "    <tr>\n",
       "      <th>2</th>\n",
       "      <td>1959-03-01</td>\n",
       "      <td>3.99</td>\n",
       "      <td>0.0</td>\n",
       "      <td>3.61</td>\n",
       "    </tr>\n",
       "    <tr>\n",
       "      <th>3</th>\n",
       "      <td>1959-04-01</td>\n",
       "      <td>4.12</td>\n",
       "      <td>0.0</td>\n",
       "      <td>3.72</td>\n",
       "    </tr>\n",
       "    <tr>\n",
       "      <th>4</th>\n",
       "      <td>1959-05-01</td>\n",
       "      <td>4.31</td>\n",
       "      <td>0.0</td>\n",
       "      <td>3.96</td>\n",
       "    </tr>\n",
       "  </tbody>\n",
       "</table>\n",
       "</div>"
      ],
      "text/plain": [
       "        date  10 Years T Rates  2 Years T Rates  1 Year T Rates\n",
       "0 1959-01-01              4.02              0.0            3.36\n",
       "1 1959-02-01              3.96              0.0            3.54\n",
       "2 1959-03-01              3.99              0.0            3.61\n",
       "3 1959-04-01              4.12              0.0            3.72\n",
       "4 1959-05-01              4.31              0.0            3.96"
      ]
     },
     "execution_count": 121,
     "metadata": {},
     "output_type": "execute_result"
    }
   ],
   "source": [
    "# View the Treasury DataFrame\n",
    "\n",
    "treasury_df.head()"
   ]
  },
  {
   "cell_type": "code",
   "execution_count": 122,
   "id": "7c9bb3a1",
   "metadata": {},
   "outputs": [],
   "source": [
    "# Create a function to fill missing 2 Year Rates with 10 Year rates.\n",
    "# This will make the rate differnece zero for the period data for 2 year rates are missing\n",
    "\n",
    "def adjust_2_year_missing_rates(twoYearValue, tenYearValue):\n",
    "    if twoYearValue == 0:\n",
    "        return tenYearValue\n",
    "    else:\n",
    "        return twoYearValue"
   ]
  },
  {
   "cell_type": "code",
   "execution_count": 123,
   "id": "ffa0345d",
   "metadata": {},
   "outputs": [],
   "source": [
    "# Adjust missing data for 2 year treasury\n",
    "\n",
    "treasury_df[\"2 Years T Rates(Adj)\"] = treasury_df.apply(lambda row :  \n",
    "                                                   adjust_2_year_missing_rates(row[\"2 Years T Rates\"], \n",
    "                                                                               row[\"10 Years T Rates\"]), \n",
    "                                                   axis=1)"
   ]
  },
  {
   "cell_type": "code",
   "execution_count": 124,
   "id": "503a0c74",
   "metadata": {},
   "outputs": [
    {
     "data": {
      "text/html": [
       "<div>\n",
       "<style scoped>\n",
       "    .dataframe tbody tr th:only-of-type {\n",
       "        vertical-align: middle;\n",
       "    }\n",
       "\n",
       "    .dataframe tbody tr th {\n",
       "        vertical-align: top;\n",
       "    }\n",
       "\n",
       "    .dataframe thead th {\n",
       "        text-align: right;\n",
       "    }\n",
       "</style>\n",
       "<table border=\"1\" class=\"dataframe\">\n",
       "  <thead>\n",
       "    <tr style=\"text-align: right;\">\n",
       "      <th></th>\n",
       "      <th>date</th>\n",
       "      <th>10 Years T Rates</th>\n",
       "      <th>2 Years T Rates</th>\n",
       "      <th>1 Year T Rates</th>\n",
       "      <th>2 Years T Rates(Adj)</th>\n",
       "    </tr>\n",
       "  </thead>\n",
       "  <tbody>\n",
       "    <tr>\n",
       "      <th>0</th>\n",
       "      <td>1959-01-01</td>\n",
       "      <td>4.02</td>\n",
       "      <td>0.0</td>\n",
       "      <td>3.36</td>\n",
       "      <td>4.02</td>\n",
       "    </tr>\n",
       "    <tr>\n",
       "      <th>1</th>\n",
       "      <td>1959-02-01</td>\n",
       "      <td>3.96</td>\n",
       "      <td>0.0</td>\n",
       "      <td>3.54</td>\n",
       "      <td>3.96</td>\n",
       "    </tr>\n",
       "    <tr>\n",
       "      <th>2</th>\n",
       "      <td>1959-03-01</td>\n",
       "      <td>3.99</td>\n",
       "      <td>0.0</td>\n",
       "      <td>3.61</td>\n",
       "      <td>3.99</td>\n",
       "    </tr>\n",
       "    <tr>\n",
       "      <th>3</th>\n",
       "      <td>1959-04-01</td>\n",
       "      <td>4.12</td>\n",
       "      <td>0.0</td>\n",
       "      <td>3.72</td>\n",
       "      <td>4.12</td>\n",
       "    </tr>\n",
       "    <tr>\n",
       "      <th>4</th>\n",
       "      <td>1959-05-01</td>\n",
       "      <td>4.31</td>\n",
       "      <td>0.0</td>\n",
       "      <td>3.96</td>\n",
       "      <td>4.31</td>\n",
       "    </tr>\n",
       "  </tbody>\n",
       "</table>\n",
       "</div>"
      ],
      "text/plain": [
       "        date  10 Years T Rates  2 Years T Rates  1 Year T Rates  \\\n",
       "0 1959-01-01              4.02              0.0            3.36   \n",
       "1 1959-02-01              3.96              0.0            3.54   \n",
       "2 1959-03-01              3.99              0.0            3.61   \n",
       "3 1959-04-01              4.12              0.0            3.72   \n",
       "4 1959-05-01              4.31              0.0            3.96   \n",
       "\n",
       "   2 Years T Rates(Adj)  \n",
       "0                  4.02  \n",
       "1                  3.96  \n",
       "2                  3.99  \n",
       "3                  4.12  \n",
       "4                  4.31  "
      ]
     },
     "execution_count": 124,
     "metadata": {},
     "output_type": "execute_result"
    }
   ],
   "source": [
    "# View the Treasury DataFrame\n",
    "\n",
    "treasury_df.head()"
   ]
  },
  {
   "cell_type": "code",
   "execution_count": 125,
   "id": "e759e064",
   "metadata": {},
   "outputs": [],
   "source": [
    "# Create 10 - 2 years Rate Difference column\n",
    "\n",
    "treasury_df[\"10-2 Rate Diff\"] = treasury_df[\"10 Years T Rates\"] - treasury_df[\"2 Years T Rates(Adj)\"]"
   ]
  },
  {
   "cell_type": "code",
   "execution_count": 126,
   "id": "d104bba2",
   "metadata": {},
   "outputs": [],
   "source": [
    "# Create 10 - 1 year Rate Difference column\n",
    "\n",
    "treasury_df[\"10-1 Rate Diff\"] = treasury_df[\"10 Years T Rates\"] - treasury_df[\"1 Year T Rates\"]"
   ]
  },
  {
   "cell_type": "code",
   "execution_count": 127,
   "id": "80e786c7",
   "metadata": {},
   "outputs": [
    {
     "data": {
      "text/html": [
       "<div>\n",
       "<style scoped>\n",
       "    .dataframe tbody tr th:only-of-type {\n",
       "        vertical-align: middle;\n",
       "    }\n",
       "\n",
       "    .dataframe tbody tr th {\n",
       "        vertical-align: top;\n",
       "    }\n",
       "\n",
       "    .dataframe thead th {\n",
       "        text-align: right;\n",
       "    }\n",
       "</style>\n",
       "<table border=\"1\" class=\"dataframe\">\n",
       "  <thead>\n",
       "    <tr style=\"text-align: right;\">\n",
       "      <th></th>\n",
       "      <th>date</th>\n",
       "      <th>10 Years T Rates</th>\n",
       "      <th>2 Years T Rates</th>\n",
       "      <th>1 Year T Rates</th>\n",
       "      <th>2 Years T Rates(Adj)</th>\n",
       "      <th>10-2 Rate Diff</th>\n",
       "      <th>10-1 Rate Diff</th>\n",
       "    </tr>\n",
       "  </thead>\n",
       "  <tbody>\n",
       "    <tr>\n",
       "      <th>0</th>\n",
       "      <td>1959-01-01</td>\n",
       "      <td>4.02</td>\n",
       "      <td>0.0</td>\n",
       "      <td>3.36</td>\n",
       "      <td>4.02</td>\n",
       "      <td>0.0</td>\n",
       "      <td>0.66</td>\n",
       "    </tr>\n",
       "    <tr>\n",
       "      <th>1</th>\n",
       "      <td>1959-02-01</td>\n",
       "      <td>3.96</td>\n",
       "      <td>0.0</td>\n",
       "      <td>3.54</td>\n",
       "      <td>3.96</td>\n",
       "      <td>0.0</td>\n",
       "      <td>0.42</td>\n",
       "    </tr>\n",
       "    <tr>\n",
       "      <th>2</th>\n",
       "      <td>1959-03-01</td>\n",
       "      <td>3.99</td>\n",
       "      <td>0.0</td>\n",
       "      <td>3.61</td>\n",
       "      <td>3.99</td>\n",
       "      <td>0.0</td>\n",
       "      <td>0.38</td>\n",
       "    </tr>\n",
       "    <tr>\n",
       "      <th>3</th>\n",
       "      <td>1959-04-01</td>\n",
       "      <td>4.12</td>\n",
       "      <td>0.0</td>\n",
       "      <td>3.72</td>\n",
       "      <td>4.12</td>\n",
       "      <td>0.0</td>\n",
       "      <td>0.40</td>\n",
       "    </tr>\n",
       "    <tr>\n",
       "      <th>4</th>\n",
       "      <td>1959-05-01</td>\n",
       "      <td>4.31</td>\n",
       "      <td>0.0</td>\n",
       "      <td>3.96</td>\n",
       "      <td>4.31</td>\n",
       "      <td>0.0</td>\n",
       "      <td>0.35</td>\n",
       "    </tr>\n",
       "  </tbody>\n",
       "</table>\n",
       "</div>"
      ],
      "text/plain": [
       "        date  10 Years T Rates  2 Years T Rates  1 Year T Rates  \\\n",
       "0 1959-01-01              4.02              0.0            3.36   \n",
       "1 1959-02-01              3.96              0.0            3.54   \n",
       "2 1959-03-01              3.99              0.0            3.61   \n",
       "3 1959-04-01              4.12              0.0            3.72   \n",
       "4 1959-05-01              4.31              0.0            3.96   \n",
       "\n",
       "   2 Years T Rates(Adj)  10-2 Rate Diff  10-1 Rate Diff  \n",
       "0                  4.02             0.0            0.66  \n",
       "1                  3.96             0.0            0.42  \n",
       "2                  3.99             0.0            0.38  \n",
       "3                  4.12             0.0            0.40  \n",
       "4                  4.31             0.0            0.35  "
      ]
     },
     "execution_count": 127,
     "metadata": {},
     "output_type": "execute_result"
    }
   ],
   "source": [
    "# View the Treasury DataFrame\n",
    "\n",
    "treasury_df.head()"
   ]
  },
  {
   "cell_type": "code",
   "execution_count": 128,
   "id": "ad5a29ff",
   "metadata": {},
   "outputs": [],
   "source": [
    "# Chart Treasury Securities rates for 10 Years \n",
    "\n",
    "plot_10_years_rates = treasury_df.hvplot.line(x=\"date\", y=\"10 Years T Rates\", \n",
    "                                              width = 300, title = \"Treasury - 10 Years Rates\")"
   ]
  },
  {
   "cell_type": "code",
   "execution_count": 129,
   "id": "e6c369af",
   "metadata": {},
   "outputs": [],
   "source": [
    "# Chart Treasury Securities rates for 2 Years \n",
    "\n",
    "plot_2_years_rates = treasury_df.hvplot.line(x=\"date\", y=\"2 Years T Rates\", \n",
    "                                             width = 300, title = \"Treasury - 2 Years Rates\")\n"
   ]
  },
  {
   "cell_type": "code",
   "execution_count": 130,
   "id": "54790726",
   "metadata": {},
   "outputs": [],
   "source": [
    "# Chart Treasury Securities rates for 1 Year\n",
    "\n",
    "plot_1_year_rates = treasury_df.hvplot.line(x=\"date\", y=\"1 Year T Rates\",\n",
    "                                            width = 300, title = \"Treasury - 1 Years Rates\")\n"
   ]
  },
  {
   "cell_type": "code",
   "execution_count": 131,
   "id": "a1951973",
   "metadata": {},
   "outputs": [
    {
     "data": {},
     "metadata": {},
     "output_type": "display_data"
    },
    {
     "data": {
      "application/vnd.holoviews_exec.v0+json": "",
      "text/html": [
       "<div id='p2520'>\n",
       "  <div id=\"dfce1ff2-74a0-4422-a088-f362af347a9c\" data-root-id=\"p2520\" style=\"display: contents;\"></div>\n",
       "</div>\n",
       "<script type=\"application/javascript\">(function(root) {\n",
       "  var docs_json = {\"8e9ec517-fb91-4a5e-8a40-f1a8d54f6d8b\":{\"version\":\"3.2.1\",\"title\":\"Bokeh Application\",\"roots\":[{\"type\":\"object\",\"name\":\"Row\",\"id\":\"p2520\",\"attributes\":{\"name\":\"Row04266\",\"tags\":[\"embedded\"],\"stylesheets\":[\"\\n:host(.pn-loading.pn-arc):before, .pn-loading.pn-arc:before {\\n  background-image: url(\\\"data:image/svg+xml;base64,PHN2ZyB4bWxucz0iaHR0cDovL3d3dy53My5vcmcvMjAwMC9zdmciIHN0eWxlPSJtYXJnaW46IGF1dG87IGJhY2tncm91bmQ6IG5vbmU7IGRpc3BsYXk6IGJsb2NrOyBzaGFwZS1yZW5kZXJpbmc6IGF1dG87IiB2aWV3Qm94PSIwIDAgMTAwIDEwMCIgcHJlc2VydmVBc3BlY3RSYXRpbz0ieE1pZFlNaWQiPiAgPGNpcmNsZSBjeD0iNTAiIGN5PSI1MCIgZmlsbD0ibm9uZSIgc3Ryb2tlPSIjYzNjM2MzIiBzdHJva2Utd2lkdGg9IjEwIiByPSIzNSIgc3Ryb2tlLWRhc2hhcnJheT0iMTY0LjkzMzYxNDMxMzQ2NDE1IDU2Ljk3Nzg3MTQzNzgyMTM4Ij4gICAgPGFuaW1hdGVUcmFuc2Zvcm0gYXR0cmlidXRlTmFtZT0idHJhbnNmb3JtIiB0eXBlPSJyb3RhdGUiIHJlcGVhdENvdW50PSJpbmRlZmluaXRlIiBkdXI9IjFzIiB2YWx1ZXM9IjAgNTAgNTA7MzYwIDUwIDUwIiBrZXlUaW1lcz0iMDsxIj48L2FuaW1hdGVUcmFuc2Zvcm0+ICA8L2NpcmNsZT48L3N2Zz4=\\\");\\n  background-size: auto calc(min(50%, 400px));\\n}\",{\"type\":\"object\",\"name\":\"ImportedStyleSheet\",\"id\":\"p2523\",\"attributes\":{\"url\":\"https://cdn.holoviz.org/panel/1.2.3/dist/css/loading.css\"}},{\"type\":\"object\",\"name\":\"ImportedStyleSheet\",\"id\":\"p2718\",\"attributes\":{\"url\":\"https://cdn.holoviz.org/panel/1.2.3/dist/css/listpanel.css\"}},{\"type\":\"object\",\"name\":\"ImportedStyleSheet\",\"id\":\"p2521\",\"attributes\":{\"url\":\"https://cdn.holoviz.org/panel/1.2.3/dist/bundled/theme/default.css\"}},{\"type\":\"object\",\"name\":\"ImportedStyleSheet\",\"id\":\"p2522\",\"attributes\":{\"url\":\"https://cdn.holoviz.org/panel/1.2.3/dist/bundled/theme/native.css\"}}],\"margin\":0,\"sizing_mode\":\"stretch_width\",\"align\":\"start\",\"children\":[{\"type\":\"object\",\"name\":\"Spacer\",\"id\":\"p2524\",\"attributes\":{\"name\":\"HSpacer04276\",\"stylesheets\":[\"\\n:host(.pn-loading.pn-arc):before, .pn-loading.pn-arc:before {\\n  background-image: url(\\\"data:image/svg+xml;base64,PHN2ZyB4bWxucz0iaHR0cDovL3d3dy53My5vcmcvMjAwMC9zdmciIHN0eWxlPSJtYXJnaW46IGF1dG87IGJhY2tncm91bmQ6IG5vbmU7IGRpc3BsYXk6IGJsb2NrOyBzaGFwZS1yZW5kZXJpbmc6IGF1dG87IiB2aWV3Qm94PSIwIDAgMTAwIDEwMCIgcHJlc2VydmVBc3BlY3RSYXRpbz0ieE1pZFlNaWQiPiAgPGNpcmNsZSBjeD0iNTAiIGN5PSI1MCIgZmlsbD0ibm9uZSIgc3Ryb2tlPSIjYzNjM2MzIiBzdHJva2Utd2lkdGg9IjEwIiByPSIzNSIgc3Ryb2tlLWRhc2hhcnJheT0iMTY0LjkzMzYxNDMxMzQ2NDE1IDU2Ljk3Nzg3MTQzNzgyMTM4Ij4gICAgPGFuaW1hdGVUcmFuc2Zvcm0gYXR0cmlidXRlTmFtZT0idHJhbnNmb3JtIiB0eXBlPSJyb3RhdGUiIHJlcGVhdENvdW50PSJpbmRlZmluaXRlIiBkdXI9IjFzIiB2YWx1ZXM9IjAgNTAgNTA7MzYwIDUwIDUwIiBrZXlUaW1lcz0iMDsxIj48L2FuaW1hdGVUcmFuc2Zvcm0+ICA8L2NpcmNsZT48L3N2Zz4=\\\");\\n  background-size: auto calc(min(50%, 400px));\\n}\",{\"id\":\"p2523\"},{\"id\":\"p2521\"},{\"id\":\"p2522\"}],\"margin\":0,\"sizing_mode\":\"stretch_width\",\"align\":\"start\"}},{\"type\":\"object\",\"name\":\"GridPlot\",\"id\":\"p2706\",\"attributes\":{\"rows\":null,\"cols\":null,\"toolbar\":{\"type\":\"object\",\"name\":\"Toolbar\",\"id\":\"p2714\",\"attributes\":{\"tools\":[{\"type\":\"object\",\"name\":\"ToolProxy\",\"id\":\"p2708\",\"attributes\":{\"tools\":[{\"type\":\"object\",\"name\":\"WheelZoomTool\",\"id\":\"p2530\",\"attributes\":{\"tags\":[\"hv_created\"],\"zoom_together\":\"none\"}},{\"type\":\"object\",\"name\":\"WheelZoomTool\",\"id\":\"p2588\",\"attributes\":{\"tags\":[\"hv_created\"],\"zoom_together\":\"none\"}},{\"type\":\"object\",\"name\":\"WheelZoomTool\",\"id\":\"p2646\",\"attributes\":{\"tags\":[\"hv_created\"],\"zoom_together\":\"none\"}}]}},{\"type\":\"object\",\"name\":\"ToolProxy\",\"id\":\"p2709\",\"attributes\":{\"tools\":[{\"type\":\"object\",\"name\":\"HoverTool\",\"id\":\"p2531\",\"attributes\":{\"tags\":[\"hv_created\"],\"renderers\":[{\"type\":\"object\",\"name\":\"GlyphRenderer\",\"id\":\"p2580\",\"attributes\":{\"data_source\":{\"type\":\"object\",\"name\":\"ColumnDataSource\",\"id\":\"p2571\",\"attributes\":{\"selected\":{\"type\":\"object\",\"name\":\"Selection\",\"id\":\"p2572\",\"attributes\":{\"indices\":[],\"line_indices\":[]}},\"selection_policy\":{\"type\":\"object\",\"name\":\"UnionRenderers\",\"id\":\"p2573\"},\"data\":{\"type\":\"map\",\"entries\":[[\"date\",{\"type\":\"ndarray\",\"array\":{\"type\":\"bytes\",\"data\":\"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\"},\"shape\":[783],\"dtype\":\"float64\",\"order\":\"little\"}],[\"10 Years T Rates\",{\"type\":\"ndarray\",\"array\":{\"type\":\"bytes\",\"data\":\"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\"},\"shape\":[783],\"dtype\":\"float64\",\"order\":\"little\"}],[\"A_10_Years_T_Rates\",{\"type\":\"ndarray\",\"array\":{\"type\":\"bytes\",\"data\":\"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\"},\"shape\":[783],\"dtype\":\"float64\",\"order\":\"little\"}]]}}},\"view\":{\"type\":\"object\",\"name\":\"CDSView\",\"id\":\"p2581\",\"attributes\":{\"filter\":{\"type\":\"object\",\"name\":\"AllIndices\",\"id\":\"p2582\"}}},\"glyph\":{\"type\":\"object\",\"name\":\"Line\",\"id\":\"p2577\",\"attributes\":{\"tags\":[\"apply_ranges\"],\"x\":{\"type\":\"field\",\"field\":\"date\"},\"y\":{\"type\":\"field\",\"field\":\"10 Years T Rates\"},\"line_color\":\"#30a2da\",\"line_width\":2}},\"selection_glyph\":{\"type\":\"object\",\"name\":\"Line\",\"id\":\"p2583\",\"attributes\":{\"tags\":[\"apply_ranges\"],\"x\":{\"type\":\"field\",\"field\":\"date\"},\"y\":{\"type\":\"field\",\"field\":\"10 Years T Rates\"},\"line_color\":\"#30a2da\",\"line_width\":2}},\"nonselection_glyph\":{\"type\":\"object\",\"name\":\"Line\",\"id\":\"p2578\",\"attributes\":{\"tags\":[\"apply_ranges\"],\"x\":{\"type\":\"field\",\"field\":\"date\"},\"y\":{\"type\":\"field\",\"field\":\"10 Years T Rates\"},\"line_color\":\"#30a2da\",\"line_alpha\":0.1,\"line_width\":2}},\"muted_glyph\":{\"type\":\"object\",\"name\":\"Line\",\"id\":\"p2579\",\"attributes\":{\"tags\":[\"apply_ranges\"],\"x\":{\"type\":\"field\",\"field\":\"date\"},\"y\":{\"type\":\"field\",\"field\":\"10 Years T Rates\"},\"line_color\":\"#30a2da\",\"line_alpha\":0.2,\"line_width\":2}}}}],\"tooltips\":[[\"date\",\"@{date}{%F %T}\"],[\"10 Years T Rates\",\"@{A_10_Years_T_Rates}\"]],\"formatters\":{\"type\":\"map\",\"entries\":[[\"@{date}\",\"datetime\"]]}}},{\"type\":\"object\",\"name\":\"HoverTool\",\"id\":\"p2589\",\"attributes\":{\"tags\":[\"hv_created\"],\"renderers\":[{\"type\":\"object\",\"name\":\"GlyphRenderer\",\"id\":\"p2638\",\"attributes\":{\"data_source\":{\"type\":\"object\",\"name\":\"ColumnDataSource\",\"id\":\"p2629\",\"attributes\":{\"selected\":{\"type\":\"object\",\"name\":\"Selection\",\"id\":\"p2630\",\"attributes\":{\"indices\":[],\"line_indices\":[]}},\"selection_policy\":{\"type\":\"object\",\"name\":\"UnionRenderers\",\"id\":\"p2631\"},\"data\":{\"type\":\"map\",\"entries\":[[\"date\",{\"type\":\"ndarray\",\"array\":{\"type\":\"bytes\",\"data\":\"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\"},\"shape\":[783],\"dtype\":\"float64\",\"order\":\"little\"}],[\"2 Years T Rates\",{\"type\":\"ndarray\",\"array\":{\"type\":\"bytes\",\"data\":\"AAAAAAAAAAAAAAAAAAAAAAAAAAAAAAAAAAAAAAAAAAAAAAAAAAAAAAAAAAAAAAAAAAAAAAAAAAAAAAAAAAAAAAAAAAAAAAAAAAAAAAAAAAAAAAAAAAAAAAAAAAAAAAAAAAAAAAAAAAAAAAAAAAAAAAAAAAAAAAAAAAAAAAAAAAAAAAAAAAAAAAAAAAAAAAAAAAAAAAAAAAAAAAAAAAAAAAAAAAAAAAAAAAAAAAAAAAAAAAAAAAAAAAAAAAAAAAAAAAAAAAAAAAAAAAAAAAAAAAAAAAAAAAAAAAAAAAAAAAAAAAAAAAAAAAAAAAAAAAAAAAAAAAAAAAAAAAAAAAAAAAAAAAAAAAAAAAAAAAAAAAAAAAAAAAAAAAAAAAAAAAAAAAAAAAAAAAAAAAAAAAAAAAAAAAAAAAAAAAAAAAAAAAAAAAAAAAAAAAAAAAAAAAAAAAAAAAAAAAAAAAAAAAAAAAAAAAAAAAAAAAAAAAAAAAAAAAAAAAAAAAAAAAAAAAAAAAAAAAAAAAAAAAAAAAAAAAAAAAAAAAAAAAAAAAAAAAAAAAAAAAAAAAAAAAAAAAAAAAAAAAAAAAAAAAAAAAAAAAAAAAAAAAAAAAAAAAAAAAAAAAAAAAAAAAAAAAAAAAAAAAAAAAAAAAAAAAAAAAAAAAAAAAAAAAAAAAAAAAAAAAAAAAAAAAAAAAAAAAAAAAAAAAAAAAAAAAAAAAAAAAAAAAAAAAAAAAAAAAAAAAAAAAAAAAAAAAAAAAAAAAAAAAAAAAAAAAAAAAAAAAAAAAAAAAAAAAAAAAAAAAAAAAAAAAAAAAAAAAAAAAAAAAAAAAAAAAAAAAAAAAAAAAAAAAAAAAAAAAAAAAAAAAAAAAAAAAAAAAAAAAAAAAAAAAAAAAAAAAAAAAAAAAAAAAAAAAAAAAAAAAAAAAAAAAAAAAAAAAAAAAAAAAAAAAAAAAAAAAAAAAAAAAAAAAAAAAAAAAAAAAAAAAAAAAAAAAAAAAAAAAAAAAAAAAAAAAAAAAAAAAAAAAAAAAAAAAAAAAAAAAAAAAAAAAAAAAAAAAAAAAAAAAAAAAAAAAAAAAAAAAAAAAAAAAAAAAAAAAAAAAAAAAAAAAAAAAAAAAAAAAAAAAAAAAAAAAAAAAAAAAAAAAAAAAAAAAAAAAAAAAAAAAAAAAAAAAAAAAAAAAAAAAAAAAAAAAAAAAAAAAAAAAAAAAAAAAAAAAAAAAAAAAAAAAAAAAAAAAAAAAAAAAAAAAAAAAAAAAAAAAAAAAAAAAAAAAAAAAAAAAAAAAAAAAAAAAAAAAAAAAAAAAAAAAAAAAAAAAAAAAAAAAAAAAAAAAAAAAAAAAAAAAAAAAAAAAAAAAAAAAAAAAAAAAAAAAAAAAAAAAAAAAAAAAAAAAAAAAAAAAAAAAAAAAAAAAAAAAAAAAAAAAAAAAAAAAAAAAAAAAAAAAAAAAAAAAAAAAAAAAAAAAAAAAAAAAAAAAAAAAAAAAAAAAAAAAAAAAAAAAAAAAAAAAAAAAAAAAAAAAAAAAAAAAAAAAAAAAAAAAAAAAAAAAAAAAAAAAAAAAAAAAAAAAAAAAAAAAAAAAAAAAAAAAAAAAAAAAAAAAAAAAAAAAAAAAAAAAAAAAAAAAAAAAAAAAAAAAAAAAAAAAAAAAAAAAAAAAAAAAAAAAAAAAAAAAAAAAAAAAAAAAAAAAAAAAAAAAAAAAAAAAAAAAAAAAAAAAAAAAAAAAAAAAAAAAAAAAAAAAAAAAAAAAAAAAAAAAAAAAAAAAAAAAAAAAAAAAAAAAAAAAAAAAAAAAAAAAAAAAAAAAAAAAAAAAAAAAAAAAAAAAAAAAAAAAAAAAAAAAAAAAAAAAAAAAAAAAAAAAAAAAAAAAAAAAAAAAAAAAAAAAAAAAAAAAAAAAAAAAAAAAAAAAAAAAAAAAAAAAAAAAAAAAAAAAAAAAAAAAAAAAAAAAAAAAAAAAAAAAAAAAAAAAAAAAAAAAAAAAAAAAAAAAAAAAAAAAAAAAAAAAAAAAAAAAAAAAAAAAAAAAAAAAAAAAAAAAAAAAAAAAAAAAAAAAAAAAAAAAAAAAAAAAAAAAAAAAAAAAAAAAAAAAAAAAAAAAAAAAAAAAAAAAAAAAAAAAAAAAAAAAAAAAAAAAAAAAAAAAAAAAAAAAAAAAAAAAAAAAAAAAAAAAAAAAAAAAAAAAAAAAAAAAAAAAAAAAAAAAAAAAAAAAAAAAAAAAAAAAAAAAAAAD0K16NwPRxAZmZmZmZmG0CF61G4HoUaQK5H4XoUrhlA7FG4HoXrF0A9CtejcD0XQIXrUbgehRVAmpmZmZmZF0Bcj8L1KFwYQFyPwvUoXBhA16NwPQrXF0AAAAAAAAAZQIXrUbgehRhAFK5H4XoUGUBxPQrXo3AaQNejcD0K1xpAcT0K16NwHECPwvUoXI8cQLgehetRuBxA9ihcj8L1HUBI4XoUrkceQFK4HoXrUR5A9ihcj8L1HkCF61G4HgUgQHsUrkfheiBAexSuR+H6IEA9CtejcL0gQKRwPQrXIyFAMzMzMzOzIUDXo3A9CtciQHE9CtejcCNAuB6F61G4I0BxPQrXo3AjQBSuR+F6lCNAj8L1KFyPI0CPwvUoXI8jQHE9CtejcCJASOF6FK5HIkDsUbgehesiQB+F61G4HiRAexSuR+H6JkAfhetRuJ4nQEjhehSuxyZAAAAAAAAAJ0DXo3A9CtcqQMP1KFyPwi1AAAAAAAAAKUBmZmZmZuYiQPYoXI/CdSFAj8L1KFwPIkCPwvUoXA8lQKRwPQrXIydArkfhehQuKECF61G4HgUrQClcj8L1KCxAhetRuB6FKkDXo3A9CtcrQKRwPQrXIytAzczMzMxMLEDsUbgehesuQIXrUbgeBS1AMzMzMzOzLkBI4XoUrkcwQPYoXI/CdTBAFK5H4XoUL0DD9Shcj8IpQBSuR+F6lCpApHA9CtcjLUCkcD0K16MtQOF6FK5HYSxAZmZmZmZmLECPwvUoXI8rQHE9Ctej8CxAmpmZmZmZK0CkcD0K16MoQI/C9ShcjydA4XoUrkdhJECamZmZmZkjQFK4HoXrUSNAKVyPwvWoIkBI4XoUrkcjQFK4HoXrUSNApHA9CtcjI0B7FK5H4foiQFyPwvUoXCRA4XoUrkdhJUCkcD0K1yMmQBSuR+F6lCVApHA9CtcjJUBSuB6F61ElQK5H4XoUriVASOF6FK5HJUAUrkfhepQlQB+F61G4niZA4XoUrkdhJ0BxPQrXo/AoQFK4HoXr0SlAw/UoXI/CKUBcj8L1KNwoQGZmZmZmZihAMzMzMzMzJ0DNzMzMzEwlQFyPwvUoXCRAXI/C9SjcI0DXo3A9ClckQOxRuB6FayVArkfhehQuJEBI4XoUrsciQOF6FK5HYSFACtejcD2KIUDhehSuR+EhQPYoXI/C9SFAuB6F61G4IUApXI/C9SghQM3MzMzMTCBASOF6FK5HIEDhehSuR+EfQNejcD0K1xxAzczMzMzMGkBI4XoUrkccQLgehetRuBxArkfhehSuGkBSuB6F61EZQGZmZmZmZhlAH4XrUbgeGUAfhetRuB4ZQBSuR+F6FBlA7FG4HoXrGECamZmZmZkZQK5H4XoUrhlAFK5H4XoUHEAK16NwPQofQEjhehSuRx5Aw/UoXI/CHUAAAAAAAAAfQK5H4XoUriBAzczMzMzMIEDD9Shcj8IeQHE9CtejcB9AhetRuB6FHkC4HoXrUbgcQBSuR+F6FB1AXI/C9ShcHkAAAAAAAAAgQI/C9ShcDyBAj8L1KFyPIEDD9Shcj0IhQOxRuB6F6yBAMzMzMzOzIEDXo3A9ClchQK5H4XoULiJAXI/C9ShcIkA9CtejcL0iQFyPwvUoXCNAZmZmZmbmIkAK16NwPQoiQFK4HoXr0SBASOF6FK5HH0BI4XoUrkcgQI/C9ShcjyBA7FG4HoXrH0AzMzMzMzMfQB+F61G4Hh9ArkfhehQuIEA9CtejcL0gQMP1KFyPQiFAcT0K16NwIUBI4XoUrkchQDMzMzMzsyBAUrgehetRIEAfhetRuB4gQClcj8L1KCBAhetRuB6FH0BmZmZmZmYeQD0K16NwPR1AhetRuB6FHEB7FK5H4XobQGZmZmZmZhxAzczMzMzMG0AfhetRuB4bQNejcD0K1xtArkfhehSuG0C4HoXrUbgZQLgehetRuBhApHA9CtejF0A9CtejcD0WQB+F61G4HhRA16NwPQrXE0DXo3A9CtcUQMP1KFyPwhZAXI/C9ShcFUDsUbgehesUQDMzMzMzMxRAcT0K16NwEUDD9Shcj8IQQB+F61G4Hg9AUrgehetREEBSuB6F61ESQK5H4XoUrhJAj8L1KFyPEUBmZmZmZmYQQJqZmZmZmQ9AuB6F61G4DkDXo3A9CtcPQKRwPQrXoxBASOF6FK5HEEAAAAAAAAAQQM3MzMzMzA5A9ihcj8L1DkCkcD0K16MQQNejcD0K1xBAj8L1KFyPEEDhehSuR+ERQAAAAAAAABRAMzMzMzMzFkDhehSuR+EXQLgehetRuBdAhetRuB6FGEC4HoXrUbgYQI/C9ShcjxlA7FG4HoXrGkCamZmZmZkcQFyPwvUoXB5ACtejcD0KHkBxPQrXo3AcQB+F61G4HhtASOF6FK5HGkCuR+F6FK4YQOF6FK5H4RZAH4XrUbgeF0DsUbgehesXQD0K16NwPRdAzczMzMzMFkDsUbgehesVQEjhehSuRxVAcT0K16NwFEAfhetRuB4UQKRwPQrXoxZA16NwPQrXF0BmZmZmZmYYQDMzMzMzMxlAFK5H4XoUGUAfhetRuB4YQOxRuB6F6xhApHA9CtejF0DNzMzMzMwWQB+F61G4HhdACtejcD0KGECamZmZmZkXQOF6FK5H4RhAzczMzMzMGUAfhetRuB4ZQFyPwvUoXBhAj8L1KFyPF0DD9Shcj8IXQIXrUbgehRdAFK5H4XoUF0DXo3A9CtcWQOF6FK5H4RZAcT0K16NwFUCuR+F6FK4VQD0K16NwPRZAPQrXo3A9FkBcj8L1KFwWQBSuR+F6FBZA16NwPQrXFUAUrkfhehQVQK5H4XoUrhJAXI/C9ShcEEApXI/C9SgSQArXo3A9ChJAexSuR+F6EkCF61G4HoUTQDMzMzMzMxRA7FG4HoXrE0AAAAAAAAAVQHsUrkfhehZAMzMzMzMzFkC4HoXrUbgWQKRwPQrXoxZAcT0K16NwF0BxPQrXo3AXQGZmZmZmZhhAw/UoXI/CGUBxPQrXo3AaQB+F61G4HhpAmpmZmZmZGUA9CtejcD0bQOxRuB6F6xlAXI/C9ShcGUDsUbgehesYQFK4HoXrURhApHA9CtejF0CF61G4HoUXQGZmZmZmZhVACtejcD0KE0CkcD0K16MSQFyPwvUoXBFA7FG4HoXrEEAK16NwPQoRQFK4HoXrURBAKVyPwvUoEEAUrkfhehQOQPYoXI/C9QhA16NwPQrXBUA9CtejcD0GQOF6FK5H4QhAPQrXo3A9CEApXI/C9SgIQHsUrkfhegxAXI/C9ShcC0AUrkfhehQKQOxRuB6F6wdAexSuR+F6BEAK16NwPQoBQAAAAAAAAABAj8L1KFyP/j+4HoXrUbj+P3E9CtejcP0/16NwPQrX+z8UrkfhehT6Px+F61G4Hvk/7FG4HoXr+T+4HoXrUbj2P65H4XoUrvM/hetRuB6F9z/D9Shcj8L9P1yPwvUoXPs/AAAAAAAA/D/hehSuR+H+P4/C9Shcj/4/KVyPwvUo/D/Xo3A9Ctf7P0jhehSuR/k/j8L1KFyPAEA9CtejcD0EQBSuR+F6FAZAH4XrUbgeBUAUrkfhehQEQD0K16NwPQRApHA9CtejBEDNzMzMzMwGQBSuR+F6FAhAw/UoXI/CCUAK16NwPQoLQNejcD0K1w1AMzMzMzMzDUAfhetRuB4NQB+F61G4Hg1A9ihcj8L1DkApXI/C9SgQQJqZmZmZmQ9AFK5H4XoUEUCuR+F6FK4RQJqZmZmZmRFAmpmZmZmZEUCuR+F6FK4SQOxRuB6F6xJAj8L1KFyPE0DhehSuR+ETQHsUrkfhehRAexSuR+F6FECamZmZmZkTQBSuR+F6FBNAMzMzMzMzE0D2KFyPwvUSQK5H4XoUrhJAhetRuB6FE0BmZmZmZmYTQEjhehSuRxJArkfhehSuEkAUrkfhehQTQOxRuB6F6xNASOF6FK5HE0A9CtejcD0RQArXo3A9ChBAw/UoXI/CD0C4HoXrUbgKQPYoXI/C9QhA16NwPQrXA0CF61G4HoX/P+xRuB6F6/k/ZmZmZmZmAECamZmZmZkDQClcj8L1KAZAj8L1KFyPBEBcj8L1KFwDQKRwPQrXowBAw/UoXI/C+T9cj8L1KFzzPz0K16NwPeo/7FG4HoXr6T9cj8L1KFzvP8P1KFyPwu0/w/UoXI/C7T/D9Shcj8LtP+F6FK5H4fI/UrgehetR8D/sUbgehevxP7gehetRuO4/ZmZmZmZm7j+amZmZmZnpP9ejcD0K1+s/w/UoXI/C7T+F61G4HoXrP7gehetRuO4/9ihcj8L18D+PwvUoXI/qPwrXo3A9Cuc/16NwPQrX4z+kcD0K16PgP7gehetRuN4/UrgehetR2D/NzMzMzMzcP9ejcD0K1+M/hetRuB6F4z+kcD0K16PoP2ZmZmZmZuY/XI/C9Shc5z/sUbgehevhPz0K16NwPdo/PQrXo3A92j9xPQrXo3DNP+F6FK5H4co/7FG4HoXr0T8AAAAAAADQP6RwPQrXo9A/uB6F61G4zj/sUbgehevRP8P1KFyPwtU/j8L1KFyP0j+PwvUoXI/SP4/C9Shcj9I/AAAAAAAA0D9I4XoUrkfRP6RwPQrXo9A/7FG4HoXr0T9I4XoUrkfRP6RwPQrXo9A/SOF6FK5H0T9I4XoUrkfRP6RwPQrXo9A/cT0K16NwzT8AAAAAAADQPx+F61G4HtU/w/UoXI/C1T8K16NwPQrXP5qZmZmZmdk/w/UoXI/C1T8zMzMzMzPTP8P1KFyPwtU/9ihcj8L12D8fhetRuB7VP5qZmZmZmdk/4XoUrkfh2j/2KFyPwvXYP83MzMzMzNw/UrgehetR4D8UrkfhehTePz0K16NwPeI/zczMzMzM3D/2KFyPwvXgP3sUrkfheuQ/mpmZmZmZ4T/Xo3A9CtfjP3sUrkfheuQ/SOF6FK5H4T+F61G4HoXjPxSuR+F6FOY/cT0K16Nw5T9mZmZmZmbmP7gehetRuOY/exSuR+F65D8pXI/C9SjsP1yPwvUoXO8/zczMzMzM7D9cj8L1KFznPylcj8L1KOw/pHA9Ctej6D89CtejcD3qP1yPwvUoXOc/cT0K16Nw5T+uR+F6FK7nP6RwPQrXo+g/4XoUrkfh6j9cj8L1KFzvPzMzMzMzM/M/XI/C9Shc8z8zMzMzMzPzP/YoXI/C9fQ/16NwPQrX8z/NzMzMzMz0P3E9CtejcPU/7FG4HoXr9T9xPQrXo3D1PxSuR+F6FPY/zczMzMzM+D8zMzMzMzP7P3E9CtejcP0/PQrXo3A9AEBxPQrXo3ABQD0K16NwPQJACtejcD0KA0AUrkfhehQEQD0K16NwPQRA4XoUrkfhBEAfhetRuB4FQClcj8L1KAZA4XoUrkfhBkDhehSuR+EGQHE9CtejcAVAUrgehetRBEAAAAAAAAAEQEjhehSuRwNAuB6F61G4AkCuR+F6FK4BQPYoXI/C9fw/cT0K16Nw/T8fhetRuB75P2ZmZmZmZvo/zczMzMzM+D/D9Shcj8L5P8P1KFyPwvk/UrgehetR+D9I4XoUrkf1P83MzMzMzNw/KVyPwvUozD/D9Shcj8LFP1K4HoXrUcg/MzMzMzMzwz/sUbgehevBP6RwPQrXo8A/MzMzMzMzwz/D9Shcj8LFP+xRuB6F68E/pHA9CtejwD+4HoXrUbi+PzMzMzMzM8M/exSuR+F6xD97FK5H4XrEP5qZmZmZmck/KVyPwvUozD8pXI/C9SjMP7gehetRuM4/9ihcj8L12D9SuB6F61HgP8P1KFyPwuU/XI/C9Shc7z8K16NwPQr3P4/C9Shcj/4/UrgehetRBED2KFyPwvUEQAAAAAAAAAhAUrgehetRCEAAAAAAAAAKQOF6FK5H4Q5AhetRuB6FEUAAAAAAAAASQClcj8L1KBFA16NwPQrXEEAfhetRuB4SQDMzMzMzMxFAFK5H4XoUEECF61G4HoUQQI/C9ShcjxJAUrgehetRE0CamZmZmZkTQBSuR+F6FBRASOF6FK5HFECF61G4HoUTQNejcD0K1xFASOF6FK5HEUApXI/C9SgSQFyPwvUoXBJA\"},\"shape\":[783],\"dtype\":\"float64\",\"order\":\"little\"}],[\"A_2_Years_T_Rates\",{\"type\":\"ndarray\",\"array\":{\"type\":\"bytes\",\"data\":\"AAAAAAAAAAAAAAAAAAAAAAAAAAAAAAAAAAAAAAAAAAAAAAAAAAAAAAAAAAAAAAAAAAAAAAAAAAAAAAAAAAAAAAAAAAAAAAAAAAAAAAAAAAAAAAAAAAAAAAAAAAAAAAAAAAAAAAAAAAAAAAAAAAAAAAAAAAAAAAAAAAAAAAAAAAAAAAAAAAAAAAAAAAAAAAAAAAAAAAAAAAAAAAAAAAAAAAAAAAAAAAAAAAAAAAAAAAAAAAAAAAAAAAAAAAAAAAAAAAAAAAAAAAAAAAAAAAAAAAAAAAAAAAAAAAAAAAAAAAAAAAAAAAAAAAAAAAAAAAAAAAAAAAAAAAAAAAAAAAAAAAAAAAAAAAAAAAAAAAAAAAAAAAAAAAAAAAAAAAAAAAAAAAAAAAAAAAAAAAAAAAAAAAAAAAAAAAAAAAAAAAAAAAAAAAAAAAAAAAAAAAAAAAAAAAAAAAAAAAAAAAAAAAAAAAAAAAAAAAAAAAAAAAAAAAAAAAAAAAAAAAAAAAAAAAAAAAAAAAAAAAAAAAAAAAAAAAAAAAAAAAAAAAAAAAAAAAAAAAAAAAAAAAAAAAAAAAAAAAAAAAAAAAAAAAAAAAAAAAAAAAAAAAAAAAAAAAAAAAAAAAAAAAAAAAAAAAAAAAAAAAAAAAAAAAAAAAAAAAAAAAAAAAAAAAAAAAAAAAAAAAAAAAAAAAAAAAAAAAAAAAAAAAAAAAAAAAAAAAAAAAAAAAAAAAAAAAAAAAAAAAAAAAAAAAAAAAAAAAAAAAAAAAAAAAAAAAAAAAAAAAAAAAAAAAAAAAAAAAAAAAAAAAAAAAAAAAAAAAAAAAAAAAAAAAAAAAAAAAAAAAAAAAAAAAAAAAAAAAAAAAAAAAAAAAAAAAAAAAAAAAAAAAAAAAAAAAAAAAAAAAAAAAAAAAAAAAAAAAAAAAAAAAAAAAAAAAAAAAAAAAAAAAAAAAAAAAAAAAAAAAAAAAAAAAAAAAAAAAAAAAAAAAAAAAAAAAAAAAAAAAAAAAAAAAAAAAAAAAAAAAAAAAAAAAAAAAAAAAAAAAAAAAAAAAAAAAAAAAAAAAAAAAAAAAAAAAAAAAAAAAAAAAAAAAAAAAAAAAAAAAAAAAAAAAAAAAAAAAAAAAAAAAAAAAAAAAAAAAAAAAAAAAAAAAAAAAAAAAAAAAAAAAAAAAAAAAAAAAAAAAAAAAAAAAAAAAAAAAAAAAAAAAAAAAAAAAAAAAAAAAAAAAAAAAAAAAAAAAAAAAAAAAAAAAAAAAAAAAAAAAAAAAAAAAAAAAAAAAAAAAAAAAAAAAAAAAAAAAAAAAAAAAAAAAAAAAAAAAAAAAAAAAAAAAAAAAAAAAAAAAAAAAAAAAAAAAAAAAAAAAAAAAAAAAAAAAAAAAAAAAAAAAAAAAAAAAAAAAAAAAAAAAAAAAAAAAAAAAAAAAAAAAAAAAAAAAAAAAAAAAAAAAAAAAAAAAAAAAAAAAAAAAAAAAAAAAAAAAAAAAAAAAAAAAAAAAAAAAAAAAAAAAAAAAAAAAAAAAAAAAAAAAAAAAAAAAAAAAAAAAAAAAAAAAAAAAAAAAAAAAAAAAAAAAAAAAAAAAAAAAAAAAAAAAAAAAAAAAAAAAAAAAAAAAAAAAAAAAAAAAAAAAAAAAAAAAAAAAAAAAAAAAAAAAAAAAAAAAAAAAAAAAAAAAAAAAAAAAAAAAAAAAAAAAAAAAAAAAAAAAAAAAAAAAAAAAAAAAAAAAAAAAAAAAAAAAAAAAAAAAAAAAAAAAAAAAAAAAAAAAAAAAAAAAAAAAAAAAAAAAAAAAAAAAAAAAAAAAAAAAAAAAAAAAAAAAAAAAAAAAAAAAAAAAAAAAAAAAAAAAAAAAAAAAAAAAAAAAAAAAAAAAAAAAAAAAAAAAAAAAAAAAAAAAAAAAAAAAAAAAAAAAAAAAAAAAAAAAAAAAAAAAAAAAAAAAAAAAAAAAAAAAAAAAAAAAAAAAAAAAAAAAAAAAAAAAAAAAAAAAAAAAAAAAAAAAAAAAAAAAAAAAAAAAAAAAAAAAAAAAAAAAAAAAAAAAAAAAAAAAAAAAAAAAAAAAAAAAAAAAAAAAAAAAAAAAAAAAAAAAAAAAAAAAAAAAAAAAAAAAAAAAAAAAAAAAAAAAAAAAAAAAAAAAAAAAAAAAAAAAAAAAAAAAAAAAAAAAAAAAAAAAAAAAAAAAAAAAAAAAAAAAAAAAAAAAAAAAAAAAAAAAAAAAAAAAAAAAAAAAAAAAAAAD0K16NwPRxAZmZmZmZmG0CF61G4HoUaQK5H4XoUrhlA7FG4HoXrF0A9CtejcD0XQIXrUbgehRVAmpmZmZmZF0Bcj8L1KFwYQFyPwvUoXBhA16NwPQrXF0AAAAAAAAAZQIXrUbgehRhAFK5H4XoUGUBxPQrXo3AaQNejcD0K1xpAcT0K16NwHECPwvUoXI8cQLgehetRuBxA9ihcj8L1HUBI4XoUrkceQFK4HoXrUR5A9ihcj8L1HkCF61G4HgUgQHsUrkfheiBAexSuR+H6IEA9CtejcL0gQKRwPQrXIyFAMzMzMzOzIUDXo3A9CtciQHE9CtejcCNAuB6F61G4I0BxPQrXo3AjQBSuR+F6lCNAj8L1KFyPI0CPwvUoXI8jQHE9CtejcCJASOF6FK5HIkDsUbgehesiQB+F61G4HiRAexSuR+H6JkAfhetRuJ4nQEjhehSuxyZAAAAAAAAAJ0DXo3A9CtcqQMP1KFyPwi1AAAAAAAAAKUBmZmZmZuYiQPYoXI/CdSFAj8L1KFwPIkCPwvUoXA8lQKRwPQrXIydArkfhehQuKECF61G4HgUrQClcj8L1KCxAhetRuB6FKkDXo3A9CtcrQKRwPQrXIytAzczMzMxMLEDsUbgehesuQIXrUbgeBS1AMzMzMzOzLkBI4XoUrkcwQPYoXI/CdTBAFK5H4XoUL0DD9Shcj8IpQBSuR+F6lCpApHA9CtcjLUCkcD0K16MtQOF6FK5HYSxAZmZmZmZmLECPwvUoXI8rQHE9Ctej8CxAmpmZmZmZK0CkcD0K16MoQI/C9ShcjydA4XoUrkdhJECamZmZmZkjQFK4HoXrUSNAKVyPwvWoIkBI4XoUrkcjQFK4HoXrUSNApHA9CtcjI0B7FK5H4foiQFyPwvUoXCRA4XoUrkdhJUCkcD0K1yMmQBSuR+F6lCVApHA9CtcjJUBSuB6F61ElQK5H4XoUriVASOF6FK5HJUAUrkfhepQlQB+F61G4niZA4XoUrkdhJ0BxPQrXo/AoQFK4HoXr0SlAw/UoXI/CKUBcj8L1KNwoQGZmZmZmZihAMzMzMzMzJ0DNzMzMzEwlQFyPwvUoXCRAXI/C9SjcI0DXo3A9ClckQOxRuB6FayVArkfhehQuJEBI4XoUrsciQOF6FK5HYSFACtejcD2KIUDhehSuR+EhQPYoXI/C9SFAuB6F61G4IUApXI/C9SghQM3MzMzMTCBASOF6FK5HIEDhehSuR+EfQNejcD0K1xxAzczMzMzMGkBI4XoUrkccQLgehetRuBxArkfhehSuGkBSuB6F61EZQGZmZmZmZhlAH4XrUbgeGUAfhetRuB4ZQBSuR+F6FBlA7FG4HoXrGECamZmZmZkZQK5H4XoUrhlAFK5H4XoUHEAK16NwPQofQEjhehSuRx5Aw/UoXI/CHUAAAAAAAAAfQK5H4XoUriBAzczMzMzMIEDD9Shcj8IeQHE9CtejcB9AhetRuB6FHkC4HoXrUbgcQBSuR+F6FB1AXI/C9ShcHkAAAAAAAAAgQI/C9ShcDyBAj8L1KFyPIEDD9Shcj0IhQOxRuB6F6yBAMzMzMzOzIEDXo3A9ClchQK5H4XoULiJAXI/C9ShcIkA9CtejcL0iQFyPwvUoXCNAZmZmZmbmIkAK16NwPQoiQFK4HoXr0SBASOF6FK5HH0BI4XoUrkcgQI/C9ShcjyBA7FG4HoXrH0AzMzMzMzMfQB+F61G4Hh9ArkfhehQuIEA9CtejcL0gQMP1KFyPQiFAcT0K16NwIUBI4XoUrkchQDMzMzMzsyBAUrgehetRIEAfhetRuB4gQClcj8L1KCBAhetRuB6FH0BmZmZmZmYeQD0K16NwPR1AhetRuB6FHEB7FK5H4XobQGZmZmZmZhxAzczMzMzMG0AfhetRuB4bQNejcD0K1xtArkfhehSuG0C4HoXrUbgZQLgehetRuBhApHA9CtejF0A9CtejcD0WQB+F61G4HhRA16NwPQrXE0DXo3A9CtcUQMP1KFyPwhZAXI/C9ShcFUDsUbgehesUQDMzMzMzMxRAcT0K16NwEUDD9Shcj8IQQB+F61G4Hg9AUrgehetREEBSuB6F61ESQK5H4XoUrhJAj8L1KFyPEUBmZmZmZmYQQJqZmZmZmQ9AuB6F61G4DkDXo3A9CtcPQKRwPQrXoxBASOF6FK5HEEAAAAAAAAAQQM3MzMzMzA5A9ihcj8L1DkCkcD0K16MQQNejcD0K1xBAj8L1KFyPEEDhehSuR+ERQAAAAAAAABRAMzMzMzMzFkDhehSuR+EXQLgehetRuBdAhetRuB6FGEC4HoXrUbgYQI/C9ShcjxlA7FG4HoXrGkCamZmZmZkcQFyPwvUoXB5ACtejcD0KHkBxPQrXo3AcQB+F61G4HhtASOF6FK5HGkCuR+F6FK4YQOF6FK5H4RZAH4XrUbgeF0DsUbgehesXQD0K16NwPRdAzczMzMzMFkDsUbgehesVQEjhehSuRxVAcT0K16NwFEAfhetRuB4UQKRwPQrXoxZA16NwPQrXF0BmZmZmZmYYQDMzMzMzMxlAFK5H4XoUGUAfhetRuB4YQOxRuB6F6xhApHA9CtejF0DNzMzMzMwWQB+F61G4HhdACtejcD0KGECamZmZmZkXQOF6FK5H4RhAzczMzMzMGUAfhetRuB4ZQFyPwvUoXBhAj8L1KFyPF0DD9Shcj8IXQIXrUbgehRdAFK5H4XoUF0DXo3A9CtcWQOF6FK5H4RZAcT0K16NwFUCuR+F6FK4VQD0K16NwPRZAPQrXo3A9FkBcj8L1KFwWQBSuR+F6FBZA16NwPQrXFUAUrkfhehQVQK5H4XoUrhJAXI/C9ShcEEApXI/C9SgSQArXo3A9ChJAexSuR+F6EkCF61G4HoUTQDMzMzMzMxRA7FG4HoXrE0AAAAAAAAAVQHsUrkfhehZAMzMzMzMzFkC4HoXrUbgWQKRwPQrXoxZAcT0K16NwF0BxPQrXo3AXQGZmZmZmZhhAw/UoXI/CGUBxPQrXo3AaQB+F61G4HhpAmpmZmZmZGUA9CtejcD0bQOxRuB6F6xlAXI/C9ShcGUDsUbgehesYQFK4HoXrURhApHA9CtejF0CF61G4HoUXQGZmZmZmZhVACtejcD0KE0CkcD0K16MSQFyPwvUoXBFA7FG4HoXrEEAK16NwPQoRQFK4HoXrURBAKVyPwvUoEEAUrkfhehQOQPYoXI/C9QhA16NwPQrXBUA9CtejcD0GQOF6FK5H4QhAPQrXo3A9CEApXI/C9SgIQHsUrkfhegxAXI/C9ShcC0AUrkfhehQKQOxRuB6F6wdAexSuR+F6BEAK16NwPQoBQAAAAAAAAABAj8L1KFyP/j+4HoXrUbj+P3E9CtejcP0/16NwPQrX+z8UrkfhehT6Px+F61G4Hvk/7FG4HoXr+T+4HoXrUbj2P65H4XoUrvM/hetRuB6F9z/D9Shcj8L9P1yPwvUoXPs/AAAAAAAA/D/hehSuR+H+P4/C9Shcj/4/KVyPwvUo/D/Xo3A9Ctf7P0jhehSuR/k/j8L1KFyPAEA9CtejcD0EQBSuR+F6FAZAH4XrUbgeBUAUrkfhehQEQD0K16NwPQRApHA9CtejBEDNzMzMzMwGQBSuR+F6FAhAw/UoXI/CCUAK16NwPQoLQNejcD0K1w1AMzMzMzMzDUAfhetRuB4NQB+F61G4Hg1A9ihcj8L1DkApXI/C9SgQQJqZmZmZmQ9AFK5H4XoUEUCuR+F6FK4RQJqZmZmZmRFAmpmZmZmZEUCuR+F6FK4SQOxRuB6F6xJAj8L1KFyPE0DhehSuR+ETQHsUrkfhehRAexSuR+F6FECamZmZmZkTQBSuR+F6FBNAMzMzMzMzE0D2KFyPwvUSQK5H4XoUrhJAhetRuB6FE0BmZmZmZmYTQEjhehSuRxJArkfhehSuEkAUrkfhehQTQOxRuB6F6xNASOF6FK5HE0A9CtejcD0RQArXo3A9ChBAw/UoXI/CD0C4HoXrUbgKQPYoXI/C9QhA16NwPQrXA0CF61G4HoX/P+xRuB6F6/k/ZmZmZmZmAECamZmZmZkDQClcj8L1KAZAj8L1KFyPBEBcj8L1KFwDQKRwPQrXowBAw/UoXI/C+T9cj8L1KFzzPz0K16NwPeo/7FG4HoXr6T9cj8L1KFzvP8P1KFyPwu0/w/UoXI/C7T/D9Shcj8LtP+F6FK5H4fI/UrgehetR8D/sUbgehevxP7gehetRuO4/ZmZmZmZm7j+amZmZmZnpP9ejcD0K1+s/w/UoXI/C7T+F61G4HoXrP7gehetRuO4/9ihcj8L18D+PwvUoXI/qPwrXo3A9Cuc/16NwPQrX4z+kcD0K16PgP7gehetRuN4/UrgehetR2D/NzMzMzMzcP9ejcD0K1+M/hetRuB6F4z+kcD0K16PoP2ZmZmZmZuY/XI/C9Shc5z/sUbgehevhPz0K16NwPdo/PQrXo3A92j9xPQrXo3DNP+F6FK5H4co/7FG4HoXr0T8AAAAAAADQP6RwPQrXo9A/uB6F61G4zj/sUbgehevRP8P1KFyPwtU/j8L1KFyP0j+PwvUoXI/SP4/C9Shcj9I/AAAAAAAA0D9I4XoUrkfRP6RwPQrXo9A/7FG4HoXr0T9I4XoUrkfRP6RwPQrXo9A/SOF6FK5H0T9I4XoUrkfRP6RwPQrXo9A/cT0K16NwzT8AAAAAAADQPx+F61G4HtU/w/UoXI/C1T8K16NwPQrXP5qZmZmZmdk/w/UoXI/C1T8zMzMzMzPTP8P1KFyPwtU/9ihcj8L12D8fhetRuB7VP5qZmZmZmdk/4XoUrkfh2j/2KFyPwvXYP83MzMzMzNw/UrgehetR4D8UrkfhehTePz0K16NwPeI/zczMzMzM3D/2KFyPwvXgP3sUrkfheuQ/mpmZmZmZ4T/Xo3A9CtfjP3sUrkfheuQ/SOF6FK5H4T+F61G4HoXjPxSuR+F6FOY/cT0K16Nw5T9mZmZmZmbmP7gehetRuOY/exSuR+F65D8pXI/C9SjsP1yPwvUoXO8/zczMzMzM7D9cj8L1KFznPylcj8L1KOw/pHA9Ctej6D89CtejcD3qP1yPwvUoXOc/cT0K16Nw5T+uR+F6FK7nP6RwPQrXo+g/4XoUrkfh6j9cj8L1KFzvPzMzMzMzM/M/XI/C9Shc8z8zMzMzMzPzP/YoXI/C9fQ/16NwPQrX8z/NzMzMzMz0P3E9CtejcPU/7FG4HoXr9T9xPQrXo3D1PxSuR+F6FPY/zczMzMzM+D8zMzMzMzP7P3E9CtejcP0/PQrXo3A9AEBxPQrXo3ABQD0K16NwPQJACtejcD0KA0AUrkfhehQEQD0K16NwPQRA4XoUrkfhBEAfhetRuB4FQClcj8L1KAZA4XoUrkfhBkDhehSuR+EGQHE9CtejcAVAUrgehetRBEAAAAAAAAAEQEjhehSuRwNAuB6F61G4AkCuR+F6FK4BQPYoXI/C9fw/cT0K16Nw/T8fhetRuB75P2ZmZmZmZvo/zczMzMzM+D/D9Shcj8L5P8P1KFyPwvk/UrgehetR+D9I4XoUrkf1P83MzMzMzNw/KVyPwvUozD/D9Shcj8LFP1K4HoXrUcg/MzMzMzMzwz/sUbgehevBP6RwPQrXo8A/MzMzMzMzwz/D9Shcj8LFP+xRuB6F68E/pHA9CtejwD+4HoXrUbi+PzMzMzMzM8M/exSuR+F6xD97FK5H4XrEP5qZmZmZmck/KVyPwvUozD8pXI/C9SjMP7gehetRuM4/9ihcj8L12D9SuB6F61HgP8P1KFyPwuU/XI/C9Shc7z8K16NwPQr3P4/C9Shcj/4/UrgehetRBED2KFyPwvUEQAAAAAAAAAhAUrgehetRCEAAAAAAAAAKQOF6FK5H4Q5AhetRuB6FEUAAAAAAAAASQClcj8L1KBFA16NwPQrXEEAfhetRuB4SQDMzMzMzMxFAFK5H4XoUEECF61G4HoUQQI/C9ShcjxJAUrgehetRE0CamZmZmZkTQBSuR+F6FBRASOF6FK5HFECF61G4HoUTQNejcD0K1xFASOF6FK5HEUApXI/C9SgSQFyPwvUoXBJA\"},\"shape\":[783],\"dtype\":\"float64\",\"order\":\"little\"}]]}}},\"view\":{\"type\":\"object\",\"name\":\"CDSView\",\"id\":\"p2639\",\"attributes\":{\"filter\":{\"type\":\"object\",\"name\":\"AllIndices\",\"id\":\"p2640\"}}},\"glyph\":{\"type\":\"object\",\"name\":\"Line\",\"id\":\"p2635\",\"attributes\":{\"tags\":[\"apply_ranges\"],\"x\":{\"type\":\"field\",\"field\":\"date\"},\"y\":{\"type\":\"field\",\"field\":\"2 Years T Rates\"},\"line_color\":\"#30a2da\",\"line_width\":2}},\"selection_glyph\":{\"type\":\"object\",\"name\":\"Line\",\"id\":\"p2641\",\"attributes\":{\"tags\":[\"apply_ranges\"],\"x\":{\"type\":\"field\",\"field\":\"date\"},\"y\":{\"type\":\"field\",\"field\":\"2 Years T Rates\"},\"line_color\":\"#30a2da\",\"line_width\":2}},\"nonselection_glyph\":{\"type\":\"object\",\"name\":\"Line\",\"id\":\"p2636\",\"attributes\":{\"tags\":[\"apply_ranges\"],\"x\":{\"type\":\"field\",\"field\":\"date\"},\"y\":{\"type\":\"field\",\"field\":\"2 Years T Rates\"},\"line_color\":\"#30a2da\",\"line_alpha\":0.1,\"line_width\":2}},\"muted_glyph\":{\"type\":\"object\",\"name\":\"Line\",\"id\":\"p2637\",\"attributes\":{\"tags\":[\"apply_ranges\"],\"x\":{\"type\":\"field\",\"field\":\"date\"},\"y\":{\"type\":\"field\",\"field\":\"2 Years T Rates\"},\"line_color\":\"#30a2da\",\"line_alpha\":0.2,\"line_width\":2}}}}],\"tooltips\":[[\"date\",\"@{date}{%F %T}\"],[\"2 Years T Rates\",\"@{A_2_Years_T_Rates}\"]],\"formatters\":{\"type\":\"map\",\"entries\":[[\"@{date}\",\"datetime\"]]}}},{\"type\":\"object\",\"name\":\"HoverTool\",\"id\":\"p2647\",\"attributes\":{\"tags\":[\"hv_created\"],\"renderers\":[{\"type\":\"object\",\"name\":\"GlyphRenderer\",\"id\":\"p2696\",\"attributes\":{\"data_source\":{\"type\":\"object\",\"name\":\"ColumnDataSource\",\"id\":\"p2687\",\"attributes\":{\"selected\":{\"type\":\"object\",\"name\":\"Selection\",\"id\":\"p2688\",\"attributes\":{\"indices\":[],\"line_indices\":[]}},\"selection_policy\":{\"type\":\"object\",\"name\":\"UnionRenderers\",\"id\":\"p2689\"},\"data\":{\"type\":\"map\",\"entries\":[[\"date\",{\"type\":\"ndarray\",\"array\":{\"type\":\"bytes\",\"data\":\"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\"},\"shape\":[783],\"dtype\":\"float64\",\"order\":\"little\"}],[\"1 Year T Rates\",{\"type\":\"ndarray\",\"array\":{\"type\":\"bytes\",\"data\":\"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\"},\"shape\":[783],\"dtype\":\"float64\",\"order\":\"little\"}],[\"A_1_Year_T_Rates\",{\"type\":\"ndarray\",\"array\":{\"type\":\"bytes\",\"data\":\"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\"},\"shape\":[783],\"dtype\":\"float64\",\"order\":\"little\"}]]}}},\"view\":{\"type\":\"object\",\"name\":\"CDSView\",\"id\":\"p2697\",\"attributes\":{\"filter\":{\"type\":\"object\",\"name\":\"AllIndices\",\"id\":\"p2698\"}}},\"glyph\":{\"type\":\"object\",\"name\":\"Line\",\"id\":\"p2693\",\"attributes\":{\"tags\":[\"apply_ranges\"],\"x\":{\"type\":\"field\",\"field\":\"date\"},\"y\":{\"type\":\"field\",\"field\":\"1 Year T Rates\"},\"line_color\":\"#30a2da\",\"line_width\":2}},\"selection_glyph\":{\"type\":\"object\",\"name\":\"Line\",\"id\":\"p2699\",\"attributes\":{\"tags\":[\"apply_ranges\"],\"x\":{\"type\":\"field\",\"field\":\"date\"},\"y\":{\"type\":\"field\",\"field\":\"1 Year T Rates\"},\"line_color\":\"#30a2da\",\"line_width\":2}},\"nonselection_glyph\":{\"type\":\"object\",\"name\":\"Line\",\"id\":\"p2694\",\"attributes\":{\"tags\":[\"apply_ranges\"],\"x\":{\"type\":\"field\",\"field\":\"date\"},\"y\":{\"type\":\"field\",\"field\":\"1 Year T Rates\"},\"line_color\":\"#30a2da\",\"line_alpha\":0.1,\"line_width\":2}},\"muted_glyph\":{\"type\":\"object\",\"name\":\"Line\",\"id\":\"p2695\",\"attributes\":{\"tags\":[\"apply_ranges\"],\"x\":{\"type\":\"field\",\"field\":\"date\"},\"y\":{\"type\":\"field\",\"field\":\"1 Year T Rates\"},\"line_color\":\"#30a2da\",\"line_alpha\":0.2,\"line_width\":2}}}}],\"tooltips\":[[\"date\",\"@{date}{%F %T}\"],[\"1 Year T Rates\",\"@{A_1_Year_T_Rates}\"]],\"formatters\":{\"type\":\"map\",\"entries\":[[\"@{date}\",\"datetime\"]]}}}]}},{\"type\":\"object\",\"name\":\"SaveTool\",\"id\":\"p2710\"},{\"type\":\"object\",\"name\":\"ToolProxy\",\"id\":\"p2711\",\"attributes\":{\"tools\":[{\"type\":\"object\",\"name\":\"PanTool\",\"id\":\"p2567\"},{\"type\":\"object\",\"name\":\"PanTool\",\"id\":\"p2625\"},{\"type\":\"object\",\"name\":\"PanTool\",\"id\":\"p2683\"}]}},{\"type\":\"object\",\"name\":\"ToolProxy\",\"id\":\"p2712\",\"attributes\":{\"tools\":[{\"type\":\"object\",\"name\":\"BoxZoomTool\",\"id\":\"p2568\",\"attributes\":{\"overlay\":{\"type\":\"object\",\"name\":\"BoxAnnotation\",\"id\":\"p2569\",\"attributes\":{\"syncable\":false,\"level\":\"overlay\",\"visible\":false,\"left_units\":\"canvas\",\"right_units\":\"canvas\",\"bottom_units\":\"canvas\",\"top_units\":\"canvas\",\"line_color\":\"black\",\"line_alpha\":1.0,\"line_width\":2,\"line_dash\":[4,4],\"fill_color\":\"lightgrey\",\"fill_alpha\":0.5}}}},{\"type\":\"object\",\"name\":\"BoxZoomTool\",\"id\":\"p2626\",\"attributes\":{\"overlay\":{\"type\":\"object\",\"name\":\"BoxAnnotation\",\"id\":\"p2627\",\"attributes\":{\"syncable\":false,\"level\":\"overlay\",\"visible\":false,\"left_units\":\"canvas\",\"right_units\":\"canvas\",\"bottom_units\":\"canvas\",\"top_units\":\"canvas\",\"line_color\":\"black\",\"line_alpha\":1.0,\"line_width\":2,\"line_dash\":[4,4],\"fill_color\":\"lightgrey\",\"fill_alpha\":0.5}}}},{\"type\":\"object\",\"name\":\"BoxZoomTool\",\"id\":\"p2684\",\"attributes\":{\"overlay\":{\"type\":\"object\",\"name\":\"BoxAnnotation\",\"id\":\"p2685\",\"attributes\":{\"syncable\":false,\"level\":\"overlay\",\"visible\":false,\"left_units\":\"canvas\",\"right_units\":\"canvas\",\"bottom_units\":\"canvas\",\"top_units\":\"canvas\",\"line_color\":\"black\",\"line_alpha\":1.0,\"line_width\":2,\"line_dash\":[4,4],\"fill_color\":\"lightgrey\",\"fill_alpha\":0.5}}}}]}},{\"type\":\"object\",\"name\":\"ToolProxy\",\"id\":\"p2713\",\"attributes\":{\"tools\":[{\"type\":\"object\",\"name\":\"ResetTool\",\"id\":\"p2570\"},{\"type\":\"object\",\"name\":\"ResetTool\",\"id\":\"p2628\"},{\"type\":\"object\",\"name\":\"ResetTool\",\"id\":\"p2686\"}]}}]}},\"children\":[[{\"type\":\"object\",\"name\":\"Figure\",\"id\":\"p2532\",\"attributes\":{\"width\":300,\"height\":300,\"sizing_mode\":\"fixed\",\"align\":\"start\",\"x_range\":{\"type\":\"object\",\"name\":\"Range1d\",\"id\":\"p2525\",\"attributes\":{\"tags\":[[[\"date\",\"date\",null]],[]],\"start\":-347155200000.0,\"end\":1709251200000.0,\"reset_start\":-347155200000.0,\"reset_end\":1709251200000.0}},\"y_range\":{\"type\":\"object\",\"name\":\"Range1d\",\"id\":\"p2526\",\"attributes\":{\"tags\":[[[\"10 Years T Rates\",\"10 Years T Rates\",null]],{\"type\":\"map\",\"entries\":[[\"invert_yaxis\",false],[\"autorange\",false]]}],\"start\":-0.8500000000000002,\"end\":16.79,\"reset_start\":-0.8500000000000002,\"reset_end\":16.79}},\"x_scale\":{\"type\":\"object\",\"name\":\"LinearScale\",\"id\":\"p2542\"},\"y_scale\":{\"type\":\"object\",\"name\":\"LinearScale\",\"id\":\"p2543\"},\"title\":{\"type\":\"object\",\"name\":\"Title\",\"id\":\"p2535\",\"attributes\":{\"text\":\"Treasury - 10 Years Rates\",\"text_color\":\"black\",\"text_font_size\":\"12pt\"}},\"renderers\":[{\"id\":\"p2580\"}],\"toolbar\":{\"type\":\"object\",\"name\":\"Toolbar\",\"id\":\"p2541\",\"attributes\":{\"tools\":[{\"id\":\"p2530\"},{\"id\":\"p2531\"},{\"type\":\"object\",\"name\":\"SaveTool\",\"id\":\"p2566\"},{\"id\":\"p2567\"},{\"id\":\"p2568\"},{\"id\":\"p2570\"}],\"active_drag\":{\"id\":\"p2567\"},\"active_scroll\":{\"id\":\"p2530\"}}},\"toolbar_location\":null,\"left\":[{\"type\":\"object\",\"name\":\"LinearAxis\",\"id\":\"p2561\",\"attributes\":{\"ticker\":{\"type\":\"object\",\"name\":\"BasicTicker\",\"id\":\"p2562\",\"attributes\":{\"mantissas\":[1,2,5]}},\"formatter\":{\"type\":\"object\",\"name\":\"BasicTickFormatter\",\"id\":\"p2563\"},\"axis_label\":\"10 Years T Rates\",\"major_label_policy\":{\"type\":\"object\",\"name\":\"AllLabels\",\"id\":\"p2564\"}}}],\"below\":[{\"type\":\"object\",\"name\":\"DatetimeAxis\",\"id\":\"p2544\",\"attributes\":{\"ticker\":{\"type\":\"object\",\"name\":\"DatetimeTicker\",\"id\":\"p2545\",\"attributes\":{\"num_minor_ticks\":5,\"tickers\":[{\"type\":\"object\",\"name\":\"AdaptiveTicker\",\"id\":\"p2546\",\"attributes\":{\"num_minor_ticks\":0,\"mantissas\":[1,2,5],\"max_interval\":500.0}},{\"type\":\"object\",\"name\":\"AdaptiveTicker\",\"id\":\"p2547\",\"attributes\":{\"num_minor_ticks\":0,\"base\":60,\"mantissas\":[1,2,5,10,15,20,30],\"min_interval\":1000.0,\"max_interval\":1800000.0}},{\"type\":\"object\",\"name\":\"AdaptiveTicker\",\"id\":\"p2548\",\"attributes\":{\"num_minor_ticks\":0,\"base\":24,\"mantissas\":[1,2,4,6,8,12],\"min_interval\":3600000.0,\"max_interval\":43200000.0}},{\"type\":\"object\",\"name\":\"DaysTicker\",\"id\":\"p2549\",\"attributes\":{\"days\":[1,2,3,4,5,6,7,8,9,10,11,12,13,14,15,16,17,18,19,20,21,22,23,24,25,26,27,28,29,30,31]}},{\"type\":\"object\",\"name\":\"DaysTicker\",\"id\":\"p2550\",\"attributes\":{\"days\":[1,4,7,10,13,16,19,22,25,28]}},{\"type\":\"object\",\"name\":\"DaysTicker\",\"id\":\"p2551\",\"attributes\":{\"days\":[1,8,15,22]}},{\"type\":\"object\",\"name\":\"DaysTicker\",\"id\":\"p2552\",\"attributes\":{\"days\":[1,15]}},{\"type\":\"object\",\"name\":\"MonthsTicker\",\"id\":\"p2553\",\"attributes\":{\"months\":[0,1,2,3,4,5,6,7,8,9,10,11]}},{\"type\":\"object\",\"name\":\"MonthsTicker\",\"id\":\"p2554\",\"attributes\":{\"months\":[0,2,4,6,8,10]}},{\"type\":\"object\",\"name\":\"MonthsTicker\",\"id\":\"p2555\",\"attributes\":{\"months\":[0,4,8]}},{\"type\":\"object\",\"name\":\"MonthsTicker\",\"id\":\"p2556\",\"attributes\":{\"months\":[0,6]}},{\"type\":\"object\",\"name\":\"YearsTicker\",\"id\":\"p2557\"}]}},\"formatter\":{\"type\":\"object\",\"name\":\"DatetimeTickFormatter\",\"id\":\"p2558\"},\"axis_label\":\"date\",\"major_label_policy\":{\"type\":\"object\",\"name\":\"AllLabels\",\"id\":\"p2559\"}}}],\"center\":[{\"type\":\"object\",\"name\":\"Grid\",\"id\":\"p2560\",\"attributes\":{\"axis\":{\"id\":\"p2544\"},\"grid_line_color\":null}},{\"type\":\"object\",\"name\":\"Grid\",\"id\":\"p2565\",\"attributes\":{\"dimension\":1,\"axis\":{\"id\":\"p2561\"},\"grid_line_color\":null}}],\"min_border_top\":10,\"min_border_bottom\":10,\"min_border_left\":10,\"min_border_right\":10,\"output_backend\":\"webgl\"}},0,0],[{\"type\":\"object\",\"name\":\"Figure\",\"id\":\"p2590\",\"attributes\":{\"width\":300,\"height\":300,\"sizing_mode\":\"fixed\",\"align\":\"start\",\"x_range\":{\"id\":\"p2525\"},\"y_range\":{\"type\":\"object\",\"name\":\"Range1d\",\"id\":\"p2584\",\"attributes\":{\"tags\":[[[\"2 Years T Rates\",\"2 Years T Rates\",null]],{\"type\":\"map\",\"entries\":[[\"invert_yaxis\",false],[\"autorange\",false]]}],\"start\":-1.6460000000000001,\"end\":18.106,\"reset_start\":-1.6460000000000001,\"reset_end\":18.106}},\"x_scale\":{\"type\":\"object\",\"name\":\"LinearScale\",\"id\":\"p2600\"},\"y_scale\":{\"type\":\"object\",\"name\":\"LinearScale\",\"id\":\"p2601\"},\"title\":{\"type\":\"object\",\"name\":\"Title\",\"id\":\"p2593\",\"attributes\":{\"text\":\"Treasury - 2 Years Rates\",\"text_color\":\"black\",\"text_font_size\":\"12pt\"}},\"renderers\":[{\"id\":\"p2638\"}],\"toolbar\":{\"type\":\"object\",\"name\":\"Toolbar\",\"id\":\"p2599\",\"attributes\":{\"tools\":[{\"id\":\"p2588\"},{\"id\":\"p2589\"},{\"type\":\"object\",\"name\":\"SaveTool\",\"id\":\"p2624\"},{\"id\":\"p2625\"},{\"id\":\"p2626\"},{\"id\":\"p2628\"}],\"active_drag\":{\"id\":\"p2625\"},\"active_scroll\":{\"id\":\"p2588\"}}},\"toolbar_location\":null,\"left\":[{\"type\":\"object\",\"name\":\"LinearAxis\",\"id\":\"p2619\",\"attributes\":{\"ticker\":{\"type\":\"object\",\"name\":\"BasicTicker\",\"id\":\"p2620\",\"attributes\":{\"mantissas\":[1,2,5]}},\"formatter\":{\"type\":\"object\",\"name\":\"BasicTickFormatter\",\"id\":\"p2621\"},\"axis_label\":\"2 Years T Rates\",\"major_label_policy\":{\"type\":\"object\",\"name\":\"AllLabels\",\"id\":\"p2622\"}}}],\"below\":[{\"type\":\"object\",\"name\":\"DatetimeAxis\",\"id\":\"p2602\",\"attributes\":{\"ticker\":{\"type\":\"object\",\"name\":\"DatetimeTicker\",\"id\":\"p2603\",\"attributes\":{\"num_minor_ticks\":5,\"tickers\":[{\"type\":\"object\",\"name\":\"AdaptiveTicker\",\"id\":\"p2604\",\"attributes\":{\"num_minor_ticks\":0,\"mantissas\":[1,2,5],\"max_interval\":500.0}},{\"type\":\"object\",\"name\":\"AdaptiveTicker\",\"id\":\"p2605\",\"attributes\":{\"num_minor_ticks\":0,\"base\":60,\"mantissas\":[1,2,5,10,15,20,30],\"min_interval\":1000.0,\"max_interval\":1800000.0}},{\"type\":\"object\",\"name\":\"AdaptiveTicker\",\"id\":\"p2606\",\"attributes\":{\"num_minor_ticks\":0,\"base\":24,\"mantissas\":[1,2,4,6,8,12],\"min_interval\":3600000.0,\"max_interval\":43200000.0}},{\"type\":\"object\",\"name\":\"DaysTicker\",\"id\":\"p2607\",\"attributes\":{\"days\":[1,2,3,4,5,6,7,8,9,10,11,12,13,14,15,16,17,18,19,20,21,22,23,24,25,26,27,28,29,30,31]}},{\"type\":\"object\",\"name\":\"DaysTicker\",\"id\":\"p2608\",\"attributes\":{\"days\":[1,4,7,10,13,16,19,22,25,28]}},{\"type\":\"object\",\"name\":\"DaysTicker\",\"id\":\"p2609\",\"attributes\":{\"days\":[1,8,15,22]}},{\"type\":\"object\",\"name\":\"DaysTicker\",\"id\":\"p2610\",\"attributes\":{\"days\":[1,15]}},{\"type\":\"object\",\"name\":\"MonthsTicker\",\"id\":\"p2611\",\"attributes\":{\"months\":[0,1,2,3,4,5,6,7,8,9,10,11]}},{\"type\":\"object\",\"name\":\"MonthsTicker\",\"id\":\"p2612\",\"attributes\":{\"months\":[0,2,4,6,8,10]}},{\"type\":\"object\",\"name\":\"MonthsTicker\",\"id\":\"p2613\",\"attributes\":{\"months\":[0,4,8]}},{\"type\":\"object\",\"name\":\"MonthsTicker\",\"id\":\"p2614\",\"attributes\":{\"months\":[0,6]}},{\"type\":\"object\",\"name\":\"YearsTicker\",\"id\":\"p2615\"}]}},\"formatter\":{\"type\":\"object\",\"name\":\"DatetimeTickFormatter\",\"id\":\"p2616\"},\"axis_label\":\"date\",\"major_label_policy\":{\"type\":\"object\",\"name\":\"AllLabels\",\"id\":\"p2617\"}}}],\"center\":[{\"type\":\"object\",\"name\":\"Grid\",\"id\":\"p2618\",\"attributes\":{\"axis\":{\"id\":\"p2602\"},\"grid_line_color\":null}},{\"type\":\"object\",\"name\":\"Grid\",\"id\":\"p2623\",\"attributes\":{\"dimension\":1,\"axis\":{\"id\":\"p2619\"},\"grid_line_color\":null}}],\"min_border_top\":10,\"min_border_bottom\":10,\"min_border_left\":10,\"min_border_right\":10,\"output_backend\":\"webgl\"}},0,1],[{\"type\":\"object\",\"name\":\"Figure\",\"id\":\"p2648\",\"attributes\":{\"width\":300,\"height\":300,\"sizing_mode\":\"fixed\",\"align\":\"start\",\"x_range\":{\"id\":\"p2525\"},\"y_range\":{\"type\":\"object\",\"name\":\"Range1d\",\"id\":\"p2642\",\"attributes\":{\"tags\":[[[\"1 Year T Rates\",\"1 Year T Rates\",null]],{\"type\":\"map\",\"entries\":[[\"invert_yaxis\",false],[\"autorange\",false]]}],\"start\":-1.6169999999999998,\"end\":18.387,\"reset_start\":-1.6169999999999998,\"reset_end\":18.387}},\"x_scale\":{\"type\":\"object\",\"name\":\"LinearScale\",\"id\":\"p2658\"},\"y_scale\":{\"type\":\"object\",\"name\":\"LinearScale\",\"id\":\"p2659\"},\"title\":{\"type\":\"object\",\"name\":\"Title\",\"id\":\"p2651\",\"attributes\":{\"text\":\"Treasury - 1 Years Rates\",\"text_color\":\"black\",\"text_font_size\":\"12pt\"}},\"renderers\":[{\"id\":\"p2696\"}],\"toolbar\":{\"type\":\"object\",\"name\":\"Toolbar\",\"id\":\"p2657\",\"attributes\":{\"tools\":[{\"id\":\"p2646\"},{\"id\":\"p2647\"},{\"type\":\"object\",\"name\":\"SaveTool\",\"id\":\"p2682\"},{\"id\":\"p2683\"},{\"id\":\"p2684\"},{\"id\":\"p2686\"}],\"active_drag\":{\"id\":\"p2683\"},\"active_scroll\":{\"id\":\"p2646\"}}},\"toolbar_location\":null,\"left\":[{\"type\":\"object\",\"name\":\"LinearAxis\",\"id\":\"p2677\",\"attributes\":{\"ticker\":{\"type\":\"object\",\"name\":\"BasicTicker\",\"id\":\"p2678\",\"attributes\":{\"mantissas\":[1,2,5]}},\"formatter\":{\"type\":\"object\",\"name\":\"BasicTickFormatter\",\"id\":\"p2679\"},\"axis_label\":\"1 Year T Rates\",\"major_label_policy\":{\"type\":\"object\",\"name\":\"AllLabels\",\"id\":\"p2680\"}}}],\"below\":[{\"type\":\"object\",\"name\":\"DatetimeAxis\",\"id\":\"p2660\",\"attributes\":{\"ticker\":{\"type\":\"object\",\"name\":\"DatetimeTicker\",\"id\":\"p2661\",\"attributes\":{\"num_minor_ticks\":5,\"tickers\":[{\"type\":\"object\",\"name\":\"AdaptiveTicker\",\"id\":\"p2662\",\"attributes\":{\"num_minor_ticks\":0,\"mantissas\":[1,2,5],\"max_interval\":500.0}},{\"type\":\"object\",\"name\":\"AdaptiveTicker\",\"id\":\"p2663\",\"attributes\":{\"num_minor_ticks\":0,\"base\":60,\"mantissas\":[1,2,5,10,15,20,30],\"min_interval\":1000.0,\"max_interval\":1800000.0}},{\"type\":\"object\",\"name\":\"AdaptiveTicker\",\"id\":\"p2664\",\"attributes\":{\"num_minor_ticks\":0,\"base\":24,\"mantissas\":[1,2,4,6,8,12],\"min_interval\":3600000.0,\"max_interval\":43200000.0}},{\"type\":\"object\",\"name\":\"DaysTicker\",\"id\":\"p2665\",\"attributes\":{\"days\":[1,2,3,4,5,6,7,8,9,10,11,12,13,14,15,16,17,18,19,20,21,22,23,24,25,26,27,28,29,30,31]}},{\"type\":\"object\",\"name\":\"DaysTicker\",\"id\":\"p2666\",\"attributes\":{\"days\":[1,4,7,10,13,16,19,22,25,28]}},{\"type\":\"object\",\"name\":\"DaysTicker\",\"id\":\"p2667\",\"attributes\":{\"days\":[1,8,15,22]}},{\"type\":\"object\",\"name\":\"DaysTicker\",\"id\":\"p2668\",\"attributes\":{\"days\":[1,15]}},{\"type\":\"object\",\"name\":\"MonthsTicker\",\"id\":\"p2669\",\"attributes\":{\"months\":[0,1,2,3,4,5,6,7,8,9,10,11]}},{\"type\":\"object\",\"name\":\"MonthsTicker\",\"id\":\"p2670\",\"attributes\":{\"months\":[0,2,4,6,8,10]}},{\"type\":\"object\",\"name\":\"MonthsTicker\",\"id\":\"p2671\",\"attributes\":{\"months\":[0,4,8]}},{\"type\":\"object\",\"name\":\"MonthsTicker\",\"id\":\"p2672\",\"attributes\":{\"months\":[0,6]}},{\"type\":\"object\",\"name\":\"YearsTicker\",\"id\":\"p2673\"}]}},\"formatter\":{\"type\":\"object\",\"name\":\"DatetimeTickFormatter\",\"id\":\"p2674\"},\"axis_label\":\"date\",\"major_label_policy\":{\"type\":\"object\",\"name\":\"AllLabels\",\"id\":\"p2675\"}}}],\"center\":[{\"type\":\"object\",\"name\":\"Grid\",\"id\":\"p2676\",\"attributes\":{\"axis\":{\"id\":\"p2660\"},\"grid_line_color\":null}},{\"type\":\"object\",\"name\":\"Grid\",\"id\":\"p2681\",\"attributes\":{\"dimension\":1,\"axis\":{\"id\":\"p2677\"},\"grid_line_color\":null}}],\"min_border_top\":10,\"min_border_bottom\":10,\"min_border_left\":10,\"min_border_right\":10,\"output_backend\":\"webgl\"}},0,2]]}},{\"type\":\"object\",\"name\":\"Spacer\",\"id\":\"p2716\",\"attributes\":{\"name\":\"HSpacer04279\",\"stylesheets\":[\"\\n:host(.pn-loading.pn-arc):before, .pn-loading.pn-arc:before {\\n  background-image: url(\\\"data:image/svg+xml;base64,PHN2ZyB4bWxucz0iaHR0cDovL3d3dy53My5vcmcvMjAwMC9zdmciIHN0eWxlPSJtYXJnaW46IGF1dG87IGJhY2tncm91bmQ6IG5vbmU7IGRpc3BsYXk6IGJsb2NrOyBzaGFwZS1yZW5kZXJpbmc6IGF1dG87IiB2aWV3Qm94PSIwIDAgMTAwIDEwMCIgcHJlc2VydmVBc3BlY3RSYXRpbz0ieE1pZFlNaWQiPiAgPGNpcmNsZSBjeD0iNTAiIGN5PSI1MCIgZmlsbD0ibm9uZSIgc3Ryb2tlPSIjYzNjM2MzIiBzdHJva2Utd2lkdGg9IjEwIiByPSIzNSIgc3Ryb2tlLWRhc2hhcnJheT0iMTY0LjkzMzYxNDMxMzQ2NDE1IDU2Ljk3Nzg3MTQzNzgyMTM4Ij4gICAgPGFuaW1hdGVUcmFuc2Zvcm0gYXR0cmlidXRlTmFtZT0idHJhbnNmb3JtIiB0eXBlPSJyb3RhdGUiIHJlcGVhdENvdW50PSJpbmRlZmluaXRlIiBkdXI9IjFzIiB2YWx1ZXM9IjAgNTAgNTA7MzYwIDUwIDUwIiBrZXlUaW1lcz0iMDsxIj48L2FuaW1hdGVUcmFuc2Zvcm0+ICA8L2NpcmNsZT48L3N2Zz4=\\\");\\n  background-size: auto calc(min(50%, 400px));\\n}\",{\"id\":\"p2523\"},{\"id\":\"p2521\"},{\"id\":\"p2522\"}],\"margin\":0,\"sizing_mode\":\"stretch_width\",\"align\":\"start\"}}]}}],\"defs\":[{\"type\":\"model\",\"name\":\"ReactiveHTML1\"},{\"type\":\"model\",\"name\":\"FlexBox1\",\"properties\":[{\"name\":\"align_content\",\"kind\":\"Any\",\"default\":\"flex-start\"},{\"name\":\"align_items\",\"kind\":\"Any\",\"default\":\"flex-start\"},{\"name\":\"flex_direction\",\"kind\":\"Any\",\"default\":\"row\"},{\"name\":\"flex_wrap\",\"kind\":\"Any\",\"default\":\"wrap\"},{\"name\":\"justify_content\",\"kind\":\"Any\",\"default\":\"flex-start\"}]},{\"type\":\"model\",\"name\":\"FloatPanel1\",\"properties\":[{\"name\":\"config\",\"kind\":\"Any\",\"default\":{\"type\":\"map\"}},{\"name\":\"contained\",\"kind\":\"Any\",\"default\":true},{\"name\":\"position\",\"kind\":\"Any\",\"default\":\"right-top\"},{\"name\":\"offsetx\",\"kind\":\"Any\",\"default\":null},{\"name\":\"offsety\",\"kind\":\"Any\",\"default\":null},{\"name\":\"theme\",\"kind\":\"Any\",\"default\":\"primary\"},{\"name\":\"status\",\"kind\":\"Any\",\"default\":\"normalized\"}]},{\"type\":\"model\",\"name\":\"GridStack1\",\"properties\":[{\"name\":\"mode\",\"kind\":\"Any\",\"default\":\"warn\"},{\"name\":\"ncols\",\"kind\":\"Any\",\"default\":null},{\"name\":\"nrows\",\"kind\":\"Any\",\"default\":null},{\"name\":\"allow_resize\",\"kind\":\"Any\",\"default\":true},{\"name\":\"allow_drag\",\"kind\":\"Any\",\"default\":true},{\"name\":\"state\",\"kind\":\"Any\",\"default\":[]}]},{\"type\":\"model\",\"name\":\"drag1\",\"properties\":[{\"name\":\"slider_width\",\"kind\":\"Any\",\"default\":5},{\"name\":\"slider_color\",\"kind\":\"Any\",\"default\":\"black\"},{\"name\":\"value\",\"kind\":\"Any\",\"default\":50}]},{\"type\":\"model\",\"name\":\"click1\",\"properties\":[{\"name\":\"terminal_output\",\"kind\":\"Any\",\"default\":\"\"},{\"name\":\"debug_name\",\"kind\":\"Any\",\"default\":\"\"},{\"name\":\"clears\",\"kind\":\"Any\",\"default\":0}]},{\"type\":\"model\",\"name\":\"FastWrapper1\",\"properties\":[{\"name\":\"object\",\"kind\":\"Any\",\"default\":null},{\"name\":\"style\",\"kind\":\"Any\",\"default\":null}]},{\"type\":\"model\",\"name\":\"NotificationAreaBase1\",\"properties\":[{\"name\":\"js_events\",\"kind\":\"Any\",\"default\":{\"type\":\"map\"}},{\"name\":\"position\",\"kind\":\"Any\",\"default\":\"bottom-right\"},{\"name\":\"_clear\",\"kind\":\"Any\",\"default\":0}]},{\"type\":\"model\",\"name\":\"NotificationArea1\",\"properties\":[{\"name\":\"js_events\",\"kind\":\"Any\",\"default\":{\"type\":\"map\"}},{\"name\":\"notifications\",\"kind\":\"Any\",\"default\":[]},{\"name\":\"position\",\"kind\":\"Any\",\"default\":\"bottom-right\"},{\"name\":\"_clear\",\"kind\":\"Any\",\"default\":0},{\"name\":\"types\",\"kind\":\"Any\",\"default\":[{\"type\":\"map\",\"entries\":[[\"type\",\"warning\"],[\"background\",\"#ffc107\"],[\"icon\",{\"type\":\"map\",\"entries\":[[\"className\",\"fas fa-exclamation-triangle\"],[\"tagName\",\"i\"],[\"color\",\"white\"]]}]]},{\"type\":\"map\",\"entries\":[[\"type\",\"info\"],[\"background\",\"#007bff\"],[\"icon\",{\"type\":\"map\",\"entries\":[[\"className\",\"fas fa-info-circle\"],[\"tagName\",\"i\"],[\"color\",\"white\"]]}]]}]}]},{\"type\":\"model\",\"name\":\"Notification\",\"properties\":[{\"name\":\"background\",\"kind\":\"Any\",\"default\":null},{\"name\":\"duration\",\"kind\":\"Any\",\"default\":3000},{\"name\":\"icon\",\"kind\":\"Any\",\"default\":null},{\"name\":\"message\",\"kind\":\"Any\",\"default\":\"\"},{\"name\":\"notification_type\",\"kind\":\"Any\",\"default\":null},{\"name\":\"_destroyed\",\"kind\":\"Any\",\"default\":false}]},{\"type\":\"model\",\"name\":\"TemplateActions1\",\"properties\":[{\"name\":\"open_modal\",\"kind\":\"Any\",\"default\":0},{\"name\":\"close_modal\",\"kind\":\"Any\",\"default\":0}]},{\"type\":\"model\",\"name\":\"BootstrapTemplateActions1\",\"properties\":[{\"name\":\"open_modal\",\"kind\":\"Any\",\"default\":0},{\"name\":\"close_modal\",\"kind\":\"Any\",\"default\":0}]},{\"type\":\"model\",\"name\":\"MaterialTemplateActions1\",\"properties\":[{\"name\":\"open_modal\",\"kind\":\"Any\",\"default\":0},{\"name\":\"close_modal\",\"kind\":\"Any\",\"default\":0}]}]}};\n",
       "  var render_items = [{\"docid\":\"8e9ec517-fb91-4a5e-8a40-f1a8d54f6d8b\",\"roots\":{\"p2520\":\"dfce1ff2-74a0-4422-a088-f362af347a9c\"},\"root_ids\":[\"p2520\"]}];\n",
       "  var docs = Object.values(docs_json)\n",
       "  if (!docs) {\n",
       "    return\n",
       "  }\n",
       "  const py_version = docs[0].version.replace('rc', '-rc.').replace('.dev', '-dev.')\n",
       "  const is_dev = py_version.indexOf(\"+\") !== -1 || py_version.indexOf(\"-\") !== -1\n",
       "  function embed_document(root) {\n",
       "    var Bokeh = get_bokeh(root)\n",
       "    Bokeh.embed.embed_items_notebook(docs_json, render_items);\n",
       "    for (const render_item of render_items) {\n",
       "      for (const root_id of render_item.root_ids) {\n",
       "\tconst id_el = document.getElementById(root_id)\n",
       "\tif (id_el.children.length && (id_el.children[0].className === 'bk-root')) {\n",
       "\t  const root_el = id_el.children[0]\n",
       "\t  root_el.id = root_el.id + '-rendered'\n",
       "\t}\n",
       "      }\n",
       "    }\n",
       "  }\n",
       "  function get_bokeh(root) {\n",
       "    if (root.Bokeh === undefined) {\n",
       "      return null\n",
       "    } else if (root.Bokeh.version !== py_version && !is_dev) {\n",
       "      if (root.Bokeh.versions === undefined || !root.Bokeh.versions.has(py_version)) {\n",
       "\treturn null\n",
       "      }\n",
       "      return root.Bokeh.versions.get(py_version);\n",
       "    } else if (root.Bokeh.version === py_version) {\n",
       "      return root.Bokeh\n",
       "    }\n",
       "    return null\n",
       "  }\n",
       "  function is_loaded(root) {\n",
       "    var Bokeh = get_bokeh(root)\n",
       "    return (Bokeh != null && Bokeh.Panel !== undefined)\n",
       "  }\n",
       "  if (is_loaded(root)) {\n",
       "    embed_document(root);\n",
       "  } else {\n",
       "    var attempts = 0;\n",
       "    var timer = setInterval(function(root) {\n",
       "      if (is_loaded(root)) {\n",
       "        clearInterval(timer);\n",
       "        embed_document(root);\n",
       "      } else if (document.readyState == \"complete\") {\n",
       "        attempts++;\n",
       "        if (attempts > 200) {\n",
       "          clearInterval(timer);\n",
       "\t  var Bokeh = get_bokeh(root)\n",
       "\t  if (Bokeh == null || Bokeh.Panel == null) {\n",
       "            console.warn(\"Panel: ERROR: Unable to run Panel code because Bokeh or Panel library is missing\");\n",
       "\t  } else {\n",
       "\t    console.warn(\"Panel: WARNING: Attempting to render but not all required libraries could be resolved.\")\n",
       "\t    embed_document(root)\n",
       "\t  }\n",
       "        }\n",
       "      }\n",
       "    }, 25, root)\n",
       "  }\n",
       "})(window);</script>"
      ],
      "text/plain": [
       ":Layout\n",
       "   .Curve.I   :Curve   [date]   (10 Years T Rates)\n",
       "   .Curve.II  :Curve   [date]   (2 Years T Rates)\n",
       "   .Curve.III :Curve   [date]   (1 Year T Rates)"
      ]
     },
     "execution_count": 131,
     "metadata": {
      "application/vnd.holoviews_exec.v0+json": {
       "id": "p2520"
      }
     },
     "output_type": "execute_result"
    }
   ],
   "source": [
    "# Display Treasury Securities rates for 10 Years, 2 years and 1 year\n",
    "\n",
    "plot_10_years_rates + plot_2_years_rates + plot_1_year_rates\n"
   ]
  },
  {
   "cell_type": "code",
   "execution_count": 132,
   "id": "5bf824d7",
   "metadata": {},
   "outputs": [
    {
     "data": {},
     "metadata": {},
     "output_type": "display_data"
    },
    {
     "data": {
      "application/vnd.holoviews_exec.v0+json": "",
      "text/html": [
       "<div id='p2729'>\n",
       "  <div id=\"c0e091cf-28e3-4cc0-b0a1-08e172a2cc97\" data-root-id=\"p2729\" style=\"display: contents;\"></div>\n",
       "</div>\n",
       "<script type=\"application/javascript\">(function(root) {\n",
       "  var docs_json = {\"188b5552-ba55-4d0a-adfa-948c1e9c0f21\":{\"version\":\"3.2.1\",\"title\":\"Bokeh Application\",\"roots\":[{\"type\":\"object\",\"name\":\"Row\",\"id\":\"p2729\",\"attributes\":{\"name\":\"Row04473\",\"tags\":[\"embedded\"],\"stylesheets\":[\"\\n:host(.pn-loading.pn-arc):before, .pn-loading.pn-arc:before {\\n  background-image: url(\\\"data:image/svg+xml;base64,PHN2ZyB4bWxucz0iaHR0cDovL3d3dy53My5vcmcvMjAwMC9zdmciIHN0eWxlPSJtYXJnaW46IGF1dG87IGJhY2tncm91bmQ6IG5vbmU7IGRpc3BsYXk6IGJsb2NrOyBzaGFwZS1yZW5kZXJpbmc6IGF1dG87IiB2aWV3Qm94PSIwIDAgMTAwIDEwMCIgcHJlc2VydmVBc3BlY3RSYXRpbz0ieE1pZFlNaWQiPiAgPGNpcmNsZSBjeD0iNTAiIGN5PSI1MCIgZmlsbD0ibm9uZSIgc3Ryb2tlPSIjYzNjM2MzIiBzdHJva2Utd2lkdGg9IjEwIiByPSIzNSIgc3Ryb2tlLWRhc2hhcnJheT0iMTY0LjkzMzYxNDMxMzQ2NDE1IDU2Ljk3Nzg3MTQzNzgyMTM4Ij4gICAgPGFuaW1hdGVUcmFuc2Zvcm0gYXR0cmlidXRlTmFtZT0idHJhbnNmb3JtIiB0eXBlPSJyb3RhdGUiIHJlcGVhdENvdW50PSJpbmRlZmluaXRlIiBkdXI9IjFzIiB2YWx1ZXM9IjAgNTAgNTA7MzYwIDUwIDUwIiBrZXlUaW1lcz0iMDsxIj48L2FuaW1hdGVUcmFuc2Zvcm0+ICA8L2NpcmNsZT48L3N2Zz4=\\\");\\n  background-size: auto calc(min(50%, 400px));\\n}\",{\"type\":\"object\",\"name\":\"ImportedStyleSheet\",\"id\":\"p2732\",\"attributes\":{\"url\":\"https://cdn.holoviz.org/panel/1.2.3/dist/css/loading.css\"}},{\"type\":\"object\",\"name\":\"ImportedStyleSheet\",\"id\":\"p2796\",\"attributes\":{\"url\":\"https://cdn.holoviz.org/panel/1.2.3/dist/css/listpanel.css\"}},{\"type\":\"object\",\"name\":\"ImportedStyleSheet\",\"id\":\"p2730\",\"attributes\":{\"url\":\"https://cdn.holoviz.org/panel/1.2.3/dist/bundled/theme/default.css\"}},{\"type\":\"object\",\"name\":\"ImportedStyleSheet\",\"id\":\"p2731\",\"attributes\":{\"url\":\"https://cdn.holoviz.org/panel/1.2.3/dist/bundled/theme/native.css\"}}],\"min_width\":700,\"margin\":0,\"sizing_mode\":\"stretch_width\",\"align\":\"start\",\"children\":[{\"type\":\"object\",\"name\":\"Spacer\",\"id\":\"p2733\",\"attributes\":{\"name\":\"HSpacer04484\",\"stylesheets\":[\"\\n:host(.pn-loading.pn-arc):before, .pn-loading.pn-arc:before {\\n  background-image: url(\\\"data:image/svg+xml;base64,PHN2ZyB4bWxucz0iaHR0cDovL3d3dy53My5vcmcvMjAwMC9zdmciIHN0eWxlPSJtYXJnaW46IGF1dG87IGJhY2tncm91bmQ6IG5vbmU7IGRpc3BsYXk6IGJsb2NrOyBzaGFwZS1yZW5kZXJpbmc6IGF1dG87IiB2aWV3Qm94PSIwIDAgMTAwIDEwMCIgcHJlc2VydmVBc3BlY3RSYXRpbz0ieE1pZFlNaWQiPiAgPGNpcmNsZSBjeD0iNTAiIGN5PSI1MCIgZmlsbD0ibm9uZSIgc3Ryb2tlPSIjYzNjM2MzIiBzdHJva2Utd2lkdGg9IjEwIiByPSIzNSIgc3Ryb2tlLWRhc2hhcnJheT0iMTY0LjkzMzYxNDMxMzQ2NDE1IDU2Ljk3Nzg3MTQzNzgyMTM4Ij4gICAgPGFuaW1hdGVUcmFuc2Zvcm0gYXR0cmlidXRlTmFtZT0idHJhbnNmb3JtIiB0eXBlPSJyb3RhdGUiIHJlcGVhdENvdW50PSJpbmRlZmluaXRlIiBkdXI9IjFzIiB2YWx1ZXM9IjAgNTAgNTA7MzYwIDUwIDUwIiBrZXlUaW1lcz0iMDsxIj48L2FuaW1hdGVUcmFuc2Zvcm0+ICA8L2NpcmNsZT48L3N2Zz4=\\\");\\n  background-size: auto calc(min(50%, 400px));\\n}\",{\"id\":\"p2732\"},{\"id\":\"p2730\"},{\"id\":\"p2731\"}],\"margin\":0,\"sizing_mode\":\"stretch_width\",\"align\":\"start\"}},{\"type\":\"object\",\"name\":\"Figure\",\"id\":\"p2741\",\"attributes\":{\"width\":700,\"height\":300,\"margin\":[5,10],\"sizing_mode\":\"fixed\",\"align\":\"start\",\"x_range\":{\"type\":\"object\",\"name\":\"Range1d\",\"id\":\"p2734\",\"attributes\":{\"tags\":[[[\"date\",\"date\",null]],[]],\"start\":-347155200000.0,\"end\":1709251200000.0,\"reset_start\":-347155200000.0,\"reset_end\":1709251200000.0}},\"y_range\":{\"type\":\"object\",\"name\":\"Range1d\",\"id\":\"p2735\",\"attributes\":{\"tags\":[[[\"10-2 Rate Diff\",\"10-2 Rate Diff\",null]],{\"type\":\"map\",\"entries\":[[\"invert_yaxis\",false],[\"autorange\",false]]}],\"start\":-2.626000000000001,\"end\":3.326,\"reset_start\":-2.626000000000001,\"reset_end\":3.326}},\"x_scale\":{\"type\":\"object\",\"name\":\"LinearScale\",\"id\":\"p2751\"},\"y_scale\":{\"type\":\"object\",\"name\":\"LinearScale\",\"id\":\"p2752\"},\"title\":{\"type\":\"object\",\"name\":\"Title\",\"id\":\"p2744\",\"attributes\":{\"text\":\"Treasury Securities - 10 Years Minus 2 Years Interest Rate Difference\",\"text_color\":\"black\",\"text_font_size\":\"12pt\"}},\"renderers\":[{\"type\":\"object\",\"name\":\"GlyphRenderer\",\"id\":\"p2789\",\"attributes\":{\"data_source\":{\"type\":\"object\",\"name\":\"ColumnDataSource\",\"id\":\"p2780\",\"attributes\":{\"selected\":{\"type\":\"object\",\"name\":\"Selection\",\"id\":\"p2781\",\"attributes\":{\"indices\":[],\"line_indices\":[]}},\"selection_policy\":{\"type\":\"object\",\"name\":\"UnionRenderers\",\"id\":\"p2782\"},\"data\":{\"type\":\"map\",\"entries\":[[\"date\",{\"type\":\"ndarray\",\"array\":{\"type\":\"bytes\",\"data\":\"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\"},\"shape\":[783],\"dtype\":\"float64\",\"order\":\"little\"}],[\"10-2 Rate Diff\",{\"type\":\"ndarray\",\"array\":{\"type\":\"bytes\",\"data\":\"AAAAAAAAAAAAAAAAAAAAAAAAAAAAAAAAAAAAAAAAAAAAAAAAAAAAAAAAAAAAAAAAAAAAAAAAAAAAAAAAAAAAAAAAAAAAAAAAAAAAAAAAAAAAAAAAAAAAAAAAAAAAAAAAAAAAAAAAAAAAAAAAAAAAAAAAAAAAAAAAAAAAAAAAAAAAAAAAAAAAAAAAAAAAAAAAAAAAAAAAAAAAAAAAAAAAAAAAAAAAAAAAAAAAAAAAAAAAAAAAAAAAAAAAAAAAAAAAAAAAAAAAAAAAAAAAAAAAAAAAAAAAAAAAAAAAAAAAAAAAAAAAAAAAAAAAAAAAAAAAAAAAAAAAAAAAAAAAAAAAAAAAAAAAAAAAAAAAAAAAAAAAAAAAAAAAAAAAAAAAAAAAAAAAAAAAAAAAAAAAAAAAAAAAAAAAAAAAAAAAAAAAAAAAAAAAAAAAAAAAAAAAAAAAAAAAAAAAAAAAAAAAAAAAAAAAAAAAAAAAAAAAAAAAAAAAAAAAAAAAAAAAAAAAAAAAAAAAAAAAAAAAAAAAAAAAAAAAAAAAAAAAAAAAAAAAAAAAAAAAAAAAAAAAAAAAAAAAAAAAAAAAAAAAAAAAAAAAAAAAAAAAAAAAAAAAAAAAAAAAAAAAAAAAAAAAAAAAAAAAAAAAAAAAAAAAAAAAAAAAAAAAAAAAAAAAAAAAAAAAAAAAAAAAAAAAAAAAAAAAAAAAAAAAAAAAAAAAAAAAAAAAAAAAAAAAAAAAAAAAAAAAAAAAAAAAAAAAAAAAAAAAAAAAAAAAAAAAAAAAAAAAAAAAAAAAAAAAAAAAAAAAAAAAAAAAAAAAAAAAAAAAAAAAAAAAAAAAAAAAAAAAAAAAAAAAAAAAAAAAAAAAAAAAAAAAAAAAAAAAAAAAAAAAAAAAAAAAAAAAAAAAAAAAAAAAAAAAAAAAAAAAAAAAAAAAAAAAAAAAAAAAAAAAAAAAAAAAAAAAAAAAAAAAAAAAAAAAAAAAAAAAAAAAAAAAAAAAAAAAAAAAAAAAAAAAAAAAAAAAAAAAAAAAAAAAAAAAAAAAAAAAAAAAAAAAAAAAAAAAAAAAAAAAAAAAAAAAAAAAAAAAAAAAAAAAAAAAAAAAAAAAAAAAAAAAAAAAAAAAAAAAAAAAAAAAAAAAAAAAAAAAAAAAAAAAAAAAAAAAAAAAAAAAAAAAAAAAAAAAAAAAAAAAAAAAAAAAAAAAAAAAAAAAAAAAAAAAAAAAAAAAAAAAAAAAAAAAAAAAAAAAAAAAAAAAAAAAAAAAAAAAAAAAAAAAAAAAAAAAAAAAAAAAAAAAAAAAAAAAAAAAAAAAAAAAAAAAAAAAAAAAAAAAAAAAAAAAAAAAAAAAAAAAAAAAAAAAAAAAAAAAAAAAAAAAAAAAAAAAAAAAAAAAAAAAAAAAAAAAAAAAAAAAAAAAAAAAAAAAAAAAAAAAAAAAAAAAAAAAAAAAAAAAAAAAAAAAAAAAAAAAAAAAAAAAAAAAAAAAAAAAAAAAAAAAAAAAAAAAAAAAAAAAAAAAAAAAAAAAAAAAAAAAAAAAAAAAAAAAAAAAAAAAAAAAAAAAAAAAAAAAAAAAAAAAAAAAAAAAAAAAAAAAAAAAAAAAAAAAAAAAAAAAAAAAAAAAAAAAAAAAAAAAAAAAAAAAAAAAAAAAAAAAAAAAAAAAAAAAAAAAAAAAAAAAAAAAAAAAAAAAAAAAAAAAAAAAAAAAAAAAAAAAAAAAAAAAAAAAAAAAAAAAAAAAAAAAAAAAAAAAAAAAAAAAAAAAAAAAAAAAAAAAAAAAAAAAAAAAAAAAAAAAAAAAAAAAAAAAAAAAAAAAAAAAAAAAAAAAAAAAAAAAAAAAAAAAAAAAAAAAAAAAAAAAAAAAAAAAAAAAAAAAAAAAAAAAAAAAAAAAAAAAAAAAAAAAAAAAAAAAAAAAAAAAAAAAAAAAAAAAAAAAAAAAAAAAAAAAAAAAAAAAAAAAAAAAAAAAAAAAAAAAAAAAAAAAAAAAAAAAAAAAAAAAAAAAAAAAAAAAAAAAAAAAAAAAAAAAAAAAAAAAAAAAAAAAAAAAAAAAAAAAAAAAAAAAAAAAAAAAAAAAAAAAAAAAAAAAAAAAAAAAAAAAAAAAAAAAAAAAAAAAAAAAAAAAAAAAAAAAAAAAAAAAAAAAAAAAAAAAAAAAAAAAAAAAAAAAAAAAAAAAAAAAAAAAAAAAAAAAAAAAAAAAAAAAAAAAAAAAAAAAAAAAAAAAAAAAAAAAAAAAAKCZmZmZmek/YI/C9Shc7z88CtejcD3yP7gehetRuPI/4HoUrkfh9j+wR+F6FK73P9ijcD0K1/c/9Chcj8L19D/MzMzMzMz0P+xRuB6F6/U/kML1KFyP9j9cj8L1KFzzP2hmZmZmZvI/+Chcj8L18D9I4XoUrkfpPyhcj8L1KOQ/MArXo3A92j8wXI/C9SjcP1i4HoXrUeA/EK5H4XoU3j9gPQrXo3DdP2A9CtejcN0/QArXo3A92j/A9Shcj8LVP0Bcj8L1KMw/QDMzMzMzwz8AFa5H4XqkP0AzMzMzM8O/wHoUrkfhyr+A61G4HoXjv8AehetRuOa/ULgehetR6L/go3A9Ctfjv3A9CtejcOW/MDMzMzMz47/wKFyPwvXgv+CjcD0K19O/gLgehetRyL+g61G4HoXbv2CPwvUoXOe/CNejcD0K87+QwvUoXI/yvwAAAAAAAPC/YGZmZmZm5r8oXI/C9SjwvwzXo3A9CgHAeBSuR+F68L9gj8L1KFznP8jMzMzMzPA/iOtRuB6F8z9ACtejcD3iPwAfhetRuK6/wPUoXI/C1b+QwvUoXI/qv9ijcD0K1/O/EK5H4XoU5r9gj8L1KFznv+DMzMzMzNy/IK5H4XoU3r/I9Shcj8L1v6BwPQrXo/C/IIXrUbge8b94PQrXo3D1v0AK16NwPfK/4Chcj8L12L9QuB6F61HgP6DrUbgehds/ABSuR+F6lD8AKVyPwvXYvyCF61G4HtW/IIXrUbge1b+AFK5H4XrEv8D1KFyPwsW/ADMzMzMzwz+wR+F6FK7nP/BRuB6F6+E/ENejcD0K5z8AAAAAAADoPyBcj8L1KOw/GK5H4XoU8j9I4XoUrkfxPzAzMzMzM+s/kML1KFyP6j+AFK5H4XrsP3A9CtejcOU/IK5H4XoU5j/wKFyPwvXoP5DrUbgehes/ANejcD0K7z94FK5H4XrwP7BH4XoUru8/eBSuR+F68D/QzMzMzMzwPyhcj8L1KPA/IK5H4XoU7j8QrkfhehTuP9DMzMzMzOQ/oB6F61G43j+gwvUoXI/SP4AUrkfhetQ/8FG4HoXr4T9wPQrXo3DtPyCF61G4HvU/ODMzMzMz9z9wPQrXo3D1P2BmZmZmZvI/cD0K16Nw9T9Yj8L1KFz3P4jrUbgehfc/qHA9Ctej+D9ACtejcD32PzgK16NwPfY/GK5H4XoU9j8wMzMzMzPzP8D1KFyPwvE/yMzMzMzM8D9Yj8L1KFznP0AK16NwPeI/MDMzMzMz4z94FK5H4XrkP9ijcD0K1+M/KFyPwvUo5D/gehSuR+HqP5yZmZmZmfE/ZGZmZmZm8j8I16NwPQrvP+h6FK5H4eo/MDMzMzMz6z8wMzMzMzPrP5DC9Shcj+o/AAAAAAAA8D8wMzMzMzPrP5DC9Shcj+o/JFyPwvUo8D8oXI/C9SjwP0jhehSuR/E/6FG4HoXr8T+0HoXrUbjyPxSuR+F6FPI/pHA9Ctej8D+AFK5H4XrwP5iZmZmZmfE/GK5H4XoU8j9wPQrXo3DxP4AUrkfheuw/AClcj8L16D8gXI/C9SjkP6BwPQrXo+A/4MzMzMzM3D+gwvUoXI/SPwAUrkfhepQ/ANejcD0Kt7+AmZmZmZnJv4AUrkfhetS/QOF6FK5H0b+AFK5H4XrEv8BwPQrXo8C/gJmZmZmZyT8AIIXrUbievwDXo3A9Cre/AB6F61G4nj8AUrgeheuxP4AehetRuK4/AB+F61G4vj8AmpmZmZm5PwAVrkfheqS/gFG4HoXrsT+AHoXrUbi+P8BwPQrXo8A/4KNwPQrX0z8QrkfhehTmP/BRuB6F6+k/6HoUrkfh6j9Q4XoUrkfpP6hwPQrXo+g/uB6F61G47j9Yj8L1KFzvPyhcj8L1KPA/bD0K16Nw8T+kcD0K16P0PxyF61G4HvU/mJmZmZmZ9T+I61G4HoX3P4jrUbgehfc/7FG4HoXr+T/E9Shcj8L9P3oUrkfhegBAkML1KFyPAEAK16NwPQoBQJiZmZmZmf0/IIXrUbgeAUBG4XoUrkcBQK5H4XoUrgFA1qNwPQrXA0AyMzMzMzMDQD0K16NwPQRAFK5H4XoUBEBSuB6F61ECQMzMzMzMzABArkfhehSuAUBI4XoUrkcBQD4K16NwPQBACtejcD0KAUB7FK5H4XoAQMzMzMzMzPw/1KNwPQrX+z/gehSuR+H6Pypcj8L1KPg/XI/C9Shc9z/0KFyPwvX4P/QoXI/C9fg/xPUoXI/C+T8AAAAAAAD4P7BH4XoUrvc/uB6F61G49j9cj8L1KFzzP7gehetRuPI/uB6F61G48j/4KFyPwvXwPyCF61G4HvE/KFyPwvUo8D/oUbgehevpPyBcj8L1KMw/UOF6FK5H0T8A16NwPQrXP+B6FK5H4do/UI/C9Shc3z9wPQrXo3DdP9DMzMzMzNw/AAAAAAAA4D9QuB6F61HgPwApXI/C9dg/wPUoXI/C1T/AzMzMzMzcP/AoXI/C9dg/SOF6FK5H4T/wKFyPwvXoP4DrUbgeheM/mJmZmZmZ4T+AFK5H4XrkP4jrUbgeheM/ODMzMzMz4z+A61G4HoXjPzAzMzMzM+M/2KNwPQrX4z8AAAAAAADgP6BwPQrXo+A/QArXo3A94j+gcD0K16PgPyCuR+F6FN4/IFyPwvUo3D+A61G4HoXbP6CZmZmZmdk/IIXrUbge1T8A16NwPQrXPyCF61G4HtU/sHA9Ctej0D/A9Shcj8LFPwDXo3A9Crc/ANejcD0Kxz9AMzMzMzPDP0DXo3A9Crc/gBSuR+F6tD8AH4XrUbiuPwAUrkfhepS/AAAAAAAAAAAAUrgeheuxP+BRuB6F68E/MFyPwvUo3D+QwvUoXI/SPwBSuB6F68E/gJmZmZmZuT/AHoXrUbi+PyDXo3A9Csc/gJmZmZmZyT+QwvUoXI/SP/BRuB6F69E/wB6F61G4zj+wcD0K16PQP6BwPQrXo9A/AAAAAAAA0D/A9Shcj8LFPyDXo3A9Csc/IFyPwvUozD9A16NwPQq3v1DhehSuR9G/QArXo3A92r+gR+F6FK7Xv2C4HoXrUdi/kML1KFyP0r+gmZmZmZnZv/BRuB6F69G/wPUoXI/Cxb+AFK5H4XrEvwBcj8L1KLy/oJmZmZmZ2T8gXI/C9SjcP5iZmZmZmeE/GIXrUbge7T8UrkfhehTyPzQzMzMzM/M/NDMzMzMz8z9cj8L1KFzzP8T1KFyPwvk/cj0K16Nw/T/uUbgehev9P65H4XoUrv8/Fa5H4XoUAEA+CtejcD3+P4brUbgehfs/pHA9Ctej/D9oZmZmZmb+PwjXo3A9Cv8/uR6F61G4AEAK16NwPQoBQOxRuB6F6/0/PgrXo3A9AEAK16NwPQoBQIbrUbgehQFAehSuR+F6AkApXI/C9SgCQOxRuB6F6wFAuB6F61G4AkAzMzMzMzMBQM3MzMzMzABAFK5H4XoUBEC4HoXrUbgEQHoUrkfhegRAUrgehetRBED2KFyPwvUCQOB6FK5H4QJAIIXrUbgeA0C4HoXrUbgCQAAAAAAAAAJAPQrXo3A9AkCF61G4HoUBQIjrUbgehf8/wvUoXI/C/T9UuB6F61H8P5qZmZmZmfk/ULgehetR+D9yPQrXo3D1P4jrUbgehfM//P//////7z9I4XoUrkfpP6RwPQrXo+g/FK5H4XoU5j/4///////fPwjXo3A9Ctc/0KNwPQrX0z8gXI/C9SjMPwAAAAAAANA/YLgehetRyD/AHoXrUbi+P8BRuB6F67E/ABSuR+F6lD+AmZmZmZm5vwAWrkfheoS/wJmZmZmZuT8AUrgehevBPwAUrkfheoS/AB+F61G4nr8AFa5H4XqUv4CZmZmZmam/wFG4HoXrsb8AUrgehevBv0Bcj8L1KLy/wB6F61G4vr+gcD0K16PAvwAWrkfheoS/ABWuR+F6lD8AFK5H4XqUv4AehetRuL4/ANejcD0Kxz8Q16NwPQrXP1C4HoXrUeA/7FG4HoXr4T/wUbgehevpP1iPwvUoXO8/KlyPwvUo9D9TuB6F61H8PzwK16NwPf4/Fq5H4XoU+j/gehSuR+H2P0bhehSuR/U/CtejcD0K9z+G61G4HoX3P8L1KFyPwvk/mpmZmZmZAUCPwvUoXI8CQJqZmZmZmfk/XI/C9Shc+z8+CtejcD3+PzwK16NwPf4/AAAAAAAAAEDhehSuR+ECQFK4HoXrUQRAUrgehetRBEDC9Shcj8IDQIXrUbgehQNAhutRuB6FA0DMzMzMzMwEQML1KFyPwgVAZmZmZmZmBkCkcD0K16MGQClcj8L1KAZAUrgehetRBkC4HoXrUbgEQNijcD0K1wNAHoXrUbgeA0BxPQrXo3ABQFyPwvUoXAFASOF6FK5HAUB6FK5H4XoCQFyPwvUoXAVAPgrXo3A9BkB7FK5H4XoGQK5H4XoUrgVA16NwPQrXBUDhehSuR+EEQLgehetRuARAuB6F61G4BECPwvUoXI8AQFK4HoXrUfw/61G4HoXr/T8oXI/C9Sj8P4XrUbgehfs/rkfhehSu+z8K16NwPQr7P0fhehSuR/0/KFyPwvUo/D8pXI/C9Sj4P0jhehSuR/U/exSuR+F69D+PwvUoXI/2P1yPwvUoXPc/hetRuB6F9z8UrkfhehT2P1yPwvUoXPc/PQrXo3A9+j9cj8L1KFz7PzMzMzMzM/s/exSuR+F6+D/hehSuR+H6P4TrUbgehf8/7FG4HoXrAUAL16NwPQoDQEjhehSuRwNAPgrXo3A9AkBdj8L1KFwDQHsUrkfhegRAwvUoXI/CA0AK16NwPQoDQJDC9ShcjwJAUrgehetRAkBcj8L1KFwBQDMzMzMzMwFAPgrXo3A9AEAzMzMzMzP/P1yPwvUoXP8/mZmZmZmZ/T/NzMzMzMz8Px6F61G4Hvk/R+F6FK5H9T/C9Shcj8L1P2ZmZmZmZvY/ZmZmZmZm9j9yPQrXo3D5P7gehetRuPo/ZmZmZmZm+j+F61G4HoX3P1yPwvUoXPc/4HoUrkfh9j8UrkfhehT2Pypcj8L1KPQ/CtejcD0K8z/NzMzMzMzwPyhcj8L1KPA/pHA9Ctej8D+vR+F6FK7vPx6F61G4Hu0/j8L1KFyP6j8+CtejcD3qP4TrUbgehes/cT0K16Nw7T+QwvUoXI/yP6VwPQrXo/Q/hutRuB6F8z+F61G4HoXzP7gehetRuPI/9Shcj8L18D/+///////vPzIzMzMzM+s/ZGZmZmZm7j/Wo3A9CtfrP0AK16NwPeo/6lG4HoXr6T/OzMzMzMzkP+pRuB6F6+E/nJmZmZmZ4T/A9Shcj8LlP+xRuB6F6+E/YI/C9Shc3z8YrkfhehTeP1i4HoXrUdg/8FG4HoXr0T8AAAAAAADQP3A9CtejcM0/kML1KFyP0j+ocD0K16PQPzAzMzMzM8M/wPUoXI/CxT8Q16NwPQrHP3AUrkfhesQ/ULgehetRyD9QuB6F61HIP6BwPQrXo9A/KFyPwvUozD+gHoXrUbiuP6CZmZmZmak/eBSuR+F6xD+YmZmZmZnJPwAAAAAAANA/uB6F61G4zj/A9Shcj8LFP+F6FK5H4do/KlyPwvUo3D8AAAAAAADgP0jhehSuR+E/FK5H4XoU3j9SuB6F61HgP5qZmZmZmeE/exSuR+F65D9mZmZmZmbmP0jhehSuR+k/Z2ZmZmZm7j8+CtejcD3yP12PwvUoXPc/rkfhehSu9z9dj8L1KFz3Px+F61G4HvU/mpmZmZmZ8T/2KFyPwvXwPxWuR+F6FPI/CtejcD0K8z/NzMzMzMzwP0fhehSuR+k/9ihcj8L16D9cj8L1KFzfPyhcj8L1KMw/4HoUrkfhyj/oUbgehevRP/BRuB6F68E/8FG4HoXrwb9oZmZmZmbWv8D1KFyPwtW/mJmZmZmZ2b+E61G4HoXjv3A9CtejcOW/xPUoXI/C5b/4KFyPwvXov3gUrkfheuS/6FG4HoXr4b/sUbgehevhv3gUrkfheuy/xPUoXI/C7b9gj8L1KFznv3gUrkfheuS/UOF6FK5H0b9QuB6F61HYvzBcj8L1KNy/sHA9Ctej0L8ghetRuB7Vv1C4HoXrUdi/\"},\"shape\":[783],\"dtype\":\"float64\",\"order\":\"little\"}],[\"A_10_hyphen_minus_2_Rate_Diff\",{\"type\":\"ndarray\",\"array\":{\"type\":\"bytes\",\"data\":\"AAAAAAAAAAAAAAAAAAAAAAAAAAAAAAAAAAAAAAAAAAAAAAAAAAAAAAAAAAAAAAAAAAAAAAAAAAAAAAAAAAAAAAAAAAAAAAAAAAAAAAAAAAAAAAAAAAAAAAAAAAAAAAAAAAAAAAAAAAAAAAAAAAAAAAAAAAAAAAAAAAAAAAAAAAAAAAAAAAAAAAAAAAAAAAAAAAAAAAAAAAAAAAAAAAAAAAAAAAAAAAAAAAAAAAAAAAAAAAAAAAAAAAAAAAAAAAAAAAAAAAAAAAAAAAAAAAAAAAAAAAAAAAAAAAAAAAAAAAAAAAAAAAAAAAAAAAAAAAAAAAAAAAAAAAAAAAAAAAAAAAAAAAAAAAAAAAAAAAAAAAAAAAAAAAAAAAAAAAAAAAAAAAAAAAAAAAAAAAAAAAAAAAAAAAAAAAAAAAAAAAAAAAAAAAAAAAAAAAAAAAAAAAAAAAAAAAAAAAAAAAAAAAAAAAAAAAAAAAAAAAAAAAAAAAAAAAAAAAAAAAAAAAAAAAAAAAAAAAAAAAAAAAAAAAAAAAAAAAAAAAAAAAAAAAAAAAAAAAAAAAAAAAAAAAAAAAAAAAAAAAAAAAAAAAAAAAAAAAAAAAAAAAAAAAAAAAAAAAAAAAAAAAAAAAAAAAAAAAAAAAAAAAAAAAAAAAAAAAAAAAAAAAAAAAAAAAAAAAAAAAAAAAAAAAAAAAAAAAAAAAAAAAAAAAAAAAAAAAAAAAAAAAAAAAAAAAAAAAAAAAAAAAAAAAAAAAAAAAAAAAAAAAAAAAAAAAAAAAAAAAAAAAAAAAAAAAAAAAAAAAAAAAAAAAAAAAAAAAAAAAAAAAAAAAAAAAAAAAAAAAAAAAAAAAAAAAAAAAAAAAAAAAAAAAAAAAAAAAAAAAAAAAAAAAAAAAAAAAAAAAAAAAAAAAAAAAAAAAAAAAAAAAAAAAAAAAAAAAAAAAAAAAAAAAAAAAAAAAAAAAAAAAAAAAAAAAAAAAAAAAAAAAAAAAAAAAAAAAAAAAAAAAAAAAAAAAAAAAAAAAAAAAAAAAAAAAAAAAAAAAAAAAAAAAAAAAAAAAAAAAAAAAAAAAAAAAAAAAAAAAAAAAAAAAAAAAAAAAAAAAAAAAAAAAAAAAAAAAAAAAAAAAAAAAAAAAAAAAAAAAAAAAAAAAAAAAAAAAAAAAAAAAAAAAAAAAAAAAAAAAAAAAAAAAAAAAAAAAAAAAAAAAAAAAAAAAAAAAAAAAAAAAAAAAAAAAAAAAAAAAAAAAAAAAAAAAAAAAAAAAAAAAAAAAAAAAAAAAAAAAAAAAAAAAAAAAAAAAAAAAAAAAAAAAAAAAAAAAAAAAAAAAAAAAAAAAAAAAAAAAAAAAAAAAAAAAAAAAAAAAAAAAAAAAAAAAAAAAAAAAAAAAAAAAAAAAAAAAAAAAAAAAAAAAAAAAAAAAAAAAAAAAAAAAAAAAAAAAAAAAAAAAAAAAAAAAAAAAAAAAAAAAAAAAAAAAAAAAAAAAAAAAAAAAAAAAAAAAAAAAAAAAAAAAAAAAAAAAAAAAAAAAAAAAAAAAAAAAAAAAAAAAAAAAAAAAAAAAAAAAAAAAAAAAAAAAAAAAAAAAAAAAAAAAAAAAAAAAAAAAAAAAAAAAAAAAAAAAAAAAAAAAAAAAAAAAAAAAAAAAAAAAAAAAAAAAAAAAAAAAAAAAAAAAAAAAAAAAAAAAAAAAAAAAAAAAAAAAAAAAAAAAAAAAAAAAAAAAAAAAAAAAAAAAAAAAAAAAAAAAAAAAAAAAAAAAAAAAAAAAAAAAAAAAAAAAAAAAAAAAAAAAAAAAAAAAAAAAAAAAAAAAAAAAAAAAAAAAAAAAAAAAAAAAAAAAAAAAAAAAAAAAAAAAAAAAAAAAAAAAAAAAAAAAAAAAAAAAAAAAAAAAAAAAAAAAAAAAAAAAAAAAAAAAAAAAAAAAAAAAAAAAAAAAAAAAAAAAAAAAAAAAAAAAAAAAAAAAAAAAAAAAAAAAAAAAAAAAAAAAAAAAAAAAAAAAAAAAAAAAAAAAAAAAAAAAAAAAAAAAAAAAAAAAAAAAAAAAAAAAAAAAAAAAAAAAAAAAAAAAAAAAAAAAAAAAAAAAAAAAAAAAAAAAAAAAAAAAAAAAAAAAAAAAAAAAAAAAAAAAAAAAAAAAAAAAAAAAAAAAAAAAAAAAAAAAAAAAAAAAAAAAAAAAAAAAAAAAAAAAAAAAAAAAAAAAAAAAAAAAAAAAAAAAAAAAAAAAAAAAAAAAAAAKCZmZmZmek/YI/C9Shc7z88CtejcD3yP7gehetRuPI/4HoUrkfh9j+wR+F6FK73P9ijcD0K1/c/9Chcj8L19D/MzMzMzMz0P+xRuB6F6/U/kML1KFyP9j9cj8L1KFzzP2hmZmZmZvI/+Chcj8L18D9I4XoUrkfpPyhcj8L1KOQ/MArXo3A92j8wXI/C9SjcP1i4HoXrUeA/EK5H4XoU3j9gPQrXo3DdP2A9CtejcN0/QArXo3A92j/A9Shcj8LVP0Bcj8L1KMw/QDMzMzMzwz8AFa5H4XqkP0AzMzMzM8O/wHoUrkfhyr+A61G4HoXjv8AehetRuOa/ULgehetR6L/go3A9Ctfjv3A9CtejcOW/MDMzMzMz47/wKFyPwvXgv+CjcD0K19O/gLgehetRyL+g61G4HoXbv2CPwvUoXOe/CNejcD0K87+QwvUoXI/yvwAAAAAAAPC/YGZmZmZm5r8oXI/C9SjwvwzXo3A9CgHAeBSuR+F68L9gj8L1KFznP8jMzMzMzPA/iOtRuB6F8z9ACtejcD3iPwAfhetRuK6/wPUoXI/C1b+QwvUoXI/qv9ijcD0K1/O/EK5H4XoU5r9gj8L1KFznv+DMzMzMzNy/IK5H4XoU3r/I9Shcj8L1v6BwPQrXo/C/IIXrUbge8b94PQrXo3D1v0AK16NwPfK/4Chcj8L12L9QuB6F61HgP6DrUbgehds/ABSuR+F6lD8AKVyPwvXYvyCF61G4HtW/IIXrUbge1b+AFK5H4XrEv8D1KFyPwsW/ADMzMzMzwz+wR+F6FK7nP/BRuB6F6+E/ENejcD0K5z8AAAAAAADoPyBcj8L1KOw/GK5H4XoU8j9I4XoUrkfxPzAzMzMzM+s/kML1KFyP6j+AFK5H4XrsP3A9CtejcOU/IK5H4XoU5j/wKFyPwvXoP5DrUbgehes/ANejcD0K7z94FK5H4XrwP7BH4XoUru8/eBSuR+F68D/QzMzMzMzwPyhcj8L1KPA/IK5H4XoU7j8QrkfhehTuP9DMzMzMzOQ/oB6F61G43j+gwvUoXI/SP4AUrkfhetQ/8FG4HoXr4T9wPQrXo3DtPyCF61G4HvU/ODMzMzMz9z9wPQrXo3D1P2BmZmZmZvI/cD0K16Nw9T9Yj8L1KFz3P4jrUbgehfc/qHA9Ctej+D9ACtejcD32PzgK16NwPfY/GK5H4XoU9j8wMzMzMzPzP8D1KFyPwvE/yMzMzMzM8D9Yj8L1KFznP0AK16NwPeI/MDMzMzMz4z94FK5H4XrkP9ijcD0K1+M/KFyPwvUo5D/gehSuR+HqP5yZmZmZmfE/ZGZmZmZm8j8I16NwPQrvP+h6FK5H4eo/MDMzMzMz6z8wMzMzMzPrP5DC9Shcj+o/AAAAAAAA8D8wMzMzMzPrP5DC9Shcj+o/JFyPwvUo8D8oXI/C9SjwP0jhehSuR/E/6FG4HoXr8T+0HoXrUbjyPxSuR+F6FPI/pHA9Ctej8D+AFK5H4XrwP5iZmZmZmfE/GK5H4XoU8j9wPQrXo3DxP4AUrkfheuw/AClcj8L16D8gXI/C9SjkP6BwPQrXo+A/4MzMzMzM3D+gwvUoXI/SPwAUrkfhepQ/ANejcD0Kt7+AmZmZmZnJv4AUrkfhetS/QOF6FK5H0b+AFK5H4XrEv8BwPQrXo8C/gJmZmZmZyT8AIIXrUbievwDXo3A9Cre/AB6F61G4nj8AUrgeheuxP4AehetRuK4/AB+F61G4vj8AmpmZmZm5PwAVrkfheqS/gFG4HoXrsT+AHoXrUbi+P8BwPQrXo8A/4KNwPQrX0z8QrkfhehTmP/BRuB6F6+k/6HoUrkfh6j9Q4XoUrkfpP6hwPQrXo+g/uB6F61G47j9Yj8L1KFzvPyhcj8L1KPA/bD0K16Nw8T+kcD0K16P0PxyF61G4HvU/mJmZmZmZ9T+I61G4HoX3P4jrUbgehfc/7FG4HoXr+T/E9Shcj8L9P3oUrkfhegBAkML1KFyPAEAK16NwPQoBQJiZmZmZmf0/IIXrUbgeAUBG4XoUrkcBQK5H4XoUrgFA1qNwPQrXA0AyMzMzMzMDQD0K16NwPQRAFK5H4XoUBEBSuB6F61ECQMzMzMzMzABArkfhehSuAUBI4XoUrkcBQD4K16NwPQBACtejcD0KAUB7FK5H4XoAQMzMzMzMzPw/1KNwPQrX+z/gehSuR+H6Pypcj8L1KPg/XI/C9Shc9z/0KFyPwvX4P/QoXI/C9fg/xPUoXI/C+T8AAAAAAAD4P7BH4XoUrvc/uB6F61G49j9cj8L1KFzzP7gehetRuPI/uB6F61G48j/4KFyPwvXwPyCF61G4HvE/KFyPwvUo8D/oUbgehevpPyBcj8L1KMw/UOF6FK5H0T8A16NwPQrXP+B6FK5H4do/UI/C9Shc3z9wPQrXo3DdP9DMzMzMzNw/AAAAAAAA4D9QuB6F61HgPwApXI/C9dg/wPUoXI/C1T/AzMzMzMzcP/AoXI/C9dg/SOF6FK5H4T/wKFyPwvXoP4DrUbgeheM/mJmZmZmZ4T+AFK5H4XrkP4jrUbgeheM/ODMzMzMz4z+A61G4HoXjPzAzMzMzM+M/2KNwPQrX4z8AAAAAAADgP6BwPQrXo+A/QArXo3A94j+gcD0K16PgPyCuR+F6FN4/IFyPwvUo3D+A61G4HoXbP6CZmZmZmdk/IIXrUbge1T8A16NwPQrXPyCF61G4HtU/sHA9Ctej0D/A9Shcj8LFPwDXo3A9Crc/ANejcD0Kxz9AMzMzMzPDP0DXo3A9Crc/gBSuR+F6tD8AH4XrUbiuPwAUrkfhepS/AAAAAAAAAAAAUrgeheuxP+BRuB6F68E/MFyPwvUo3D+QwvUoXI/SPwBSuB6F68E/gJmZmZmZuT/AHoXrUbi+PyDXo3A9Csc/gJmZmZmZyT+QwvUoXI/SP/BRuB6F69E/wB6F61G4zj+wcD0K16PQP6BwPQrXo9A/AAAAAAAA0D/A9Shcj8LFPyDXo3A9Csc/IFyPwvUozD9A16NwPQq3v1DhehSuR9G/QArXo3A92r+gR+F6FK7Xv2C4HoXrUdi/kML1KFyP0r+gmZmZmZnZv/BRuB6F69G/wPUoXI/Cxb+AFK5H4XrEvwBcj8L1KLy/oJmZmZmZ2T8gXI/C9SjcP5iZmZmZmeE/GIXrUbge7T8UrkfhehTyPzQzMzMzM/M/NDMzMzMz8z9cj8L1KFzzP8T1KFyPwvk/cj0K16Nw/T/uUbgehev9P65H4XoUrv8/Fa5H4XoUAEA+CtejcD3+P4brUbgehfs/pHA9Ctej/D9oZmZmZmb+PwjXo3A9Cv8/uR6F61G4AEAK16NwPQoBQOxRuB6F6/0/PgrXo3A9AEAK16NwPQoBQIbrUbgehQFAehSuR+F6AkApXI/C9SgCQOxRuB6F6wFAuB6F61G4AkAzMzMzMzMBQM3MzMzMzABAFK5H4XoUBEC4HoXrUbgEQHoUrkfhegRAUrgehetRBED2KFyPwvUCQOB6FK5H4QJAIIXrUbgeA0C4HoXrUbgCQAAAAAAAAAJAPQrXo3A9AkCF61G4HoUBQIjrUbgehf8/wvUoXI/C/T9UuB6F61H8P5qZmZmZmfk/ULgehetR+D9yPQrXo3D1P4jrUbgehfM//P//////7z9I4XoUrkfpP6RwPQrXo+g/FK5H4XoU5j/4///////fPwjXo3A9Ctc/0KNwPQrX0z8gXI/C9SjMPwAAAAAAANA/YLgehetRyD/AHoXrUbi+P8BRuB6F67E/ABSuR+F6lD+AmZmZmZm5vwAWrkfheoS/wJmZmZmZuT8AUrgehevBPwAUrkfheoS/AB+F61G4nr8AFa5H4XqUv4CZmZmZmam/wFG4HoXrsb8AUrgehevBv0Bcj8L1KLy/wB6F61G4vr+gcD0K16PAvwAWrkfheoS/ABWuR+F6lD8AFK5H4XqUv4AehetRuL4/ANejcD0Kxz8Q16NwPQrXP1C4HoXrUeA/7FG4HoXr4T/wUbgehevpP1iPwvUoXO8/KlyPwvUo9D9TuB6F61H8PzwK16NwPf4/Fq5H4XoU+j/gehSuR+H2P0bhehSuR/U/CtejcD0K9z+G61G4HoX3P8L1KFyPwvk/mpmZmZmZAUCPwvUoXI8CQJqZmZmZmfk/XI/C9Shc+z8+CtejcD3+PzwK16NwPf4/AAAAAAAAAEDhehSuR+ECQFK4HoXrUQRAUrgehetRBEDC9Shcj8IDQIXrUbgehQNAhutRuB6FA0DMzMzMzMwEQML1KFyPwgVAZmZmZmZmBkCkcD0K16MGQClcj8L1KAZAUrgehetRBkC4HoXrUbgEQNijcD0K1wNAHoXrUbgeA0BxPQrXo3ABQFyPwvUoXAFASOF6FK5HAUB6FK5H4XoCQFyPwvUoXAVAPgrXo3A9BkB7FK5H4XoGQK5H4XoUrgVA16NwPQrXBUDhehSuR+EEQLgehetRuARAuB6F61G4BECPwvUoXI8AQFK4HoXrUfw/61G4HoXr/T8oXI/C9Sj8P4XrUbgehfs/rkfhehSu+z8K16NwPQr7P0fhehSuR/0/KFyPwvUo/D8pXI/C9Sj4P0jhehSuR/U/exSuR+F69D+PwvUoXI/2P1yPwvUoXPc/hetRuB6F9z8UrkfhehT2P1yPwvUoXPc/PQrXo3A9+j9cj8L1KFz7PzMzMzMzM/s/exSuR+F6+D/hehSuR+H6P4TrUbgehf8/7FG4HoXrAUAL16NwPQoDQEjhehSuRwNAPgrXo3A9AkBdj8L1KFwDQHsUrkfhegRAwvUoXI/CA0AK16NwPQoDQJDC9ShcjwJAUrgehetRAkBcj8L1KFwBQDMzMzMzMwFAPgrXo3A9AEAzMzMzMzP/P1yPwvUoXP8/mZmZmZmZ/T/NzMzMzMz8Px6F61G4Hvk/R+F6FK5H9T/C9Shcj8L1P2ZmZmZmZvY/ZmZmZmZm9j9yPQrXo3D5P7gehetRuPo/ZmZmZmZm+j+F61G4HoX3P1yPwvUoXPc/4HoUrkfh9j8UrkfhehT2Pypcj8L1KPQ/CtejcD0K8z/NzMzMzMzwPyhcj8L1KPA/pHA9Ctej8D+vR+F6FK7vPx6F61G4Hu0/j8L1KFyP6j8+CtejcD3qP4TrUbgehes/cT0K16Nw7T+QwvUoXI/yP6VwPQrXo/Q/hutRuB6F8z+F61G4HoXzP7gehetRuPI/9Shcj8L18D/+///////vPzIzMzMzM+s/ZGZmZmZm7j/Wo3A9CtfrP0AK16NwPeo/6lG4HoXr6T/OzMzMzMzkP+pRuB6F6+E/nJmZmZmZ4T/A9Shcj8LlP+xRuB6F6+E/YI/C9Shc3z8YrkfhehTeP1i4HoXrUdg/8FG4HoXr0T8AAAAAAADQP3A9CtejcM0/kML1KFyP0j+ocD0K16PQPzAzMzMzM8M/wPUoXI/CxT8Q16NwPQrHP3AUrkfhesQ/ULgehetRyD9QuB6F61HIP6BwPQrXo9A/KFyPwvUozD+gHoXrUbiuP6CZmZmZmak/eBSuR+F6xD+YmZmZmZnJPwAAAAAAANA/uB6F61G4zj/A9Shcj8LFP+F6FK5H4do/KlyPwvUo3D8AAAAAAADgP0jhehSuR+E/FK5H4XoU3j9SuB6F61HgP5qZmZmZmeE/exSuR+F65D9mZmZmZmbmP0jhehSuR+k/Z2ZmZmZm7j8+CtejcD3yP12PwvUoXPc/rkfhehSu9z9dj8L1KFz3Px+F61G4HvU/mpmZmZmZ8T/2KFyPwvXwPxWuR+F6FPI/CtejcD0K8z/NzMzMzMzwP0fhehSuR+k/9ihcj8L16D9cj8L1KFzfPyhcj8L1KMw/4HoUrkfhyj/oUbgehevRP/BRuB6F68E/8FG4HoXrwb9oZmZmZmbWv8D1KFyPwtW/mJmZmZmZ2b+E61G4HoXjv3A9CtejcOW/xPUoXI/C5b/4KFyPwvXov3gUrkfheuS/6FG4HoXr4b/sUbgehevhv3gUrkfheuy/xPUoXI/C7b9gj8L1KFznv3gUrkfheuS/UOF6FK5H0b9QuB6F61HYvzBcj8L1KNy/sHA9Ctej0L8ghetRuB7Vv1C4HoXrUdi/\"},\"shape\":[783],\"dtype\":\"float64\",\"order\":\"little\"}]]}}},\"view\":{\"type\":\"object\",\"name\":\"CDSView\",\"id\":\"p2790\",\"attributes\":{\"filter\":{\"type\":\"object\",\"name\":\"AllIndices\",\"id\":\"p2791\"}}},\"glyph\":{\"type\":\"object\",\"name\":\"Line\",\"id\":\"p2786\",\"attributes\":{\"tags\":[\"apply_ranges\"],\"x\":{\"type\":\"field\",\"field\":\"date\"},\"y\":{\"type\":\"field\",\"field\":\"10-2 Rate Diff\"},\"line_color\":\"#30a2da\",\"line_width\":2}},\"selection_glyph\":{\"type\":\"object\",\"name\":\"Line\",\"id\":\"p2792\",\"attributes\":{\"tags\":[\"apply_ranges\"],\"x\":{\"type\":\"field\",\"field\":\"date\"},\"y\":{\"type\":\"field\",\"field\":\"10-2 Rate Diff\"},\"line_color\":\"#30a2da\",\"line_width\":2}},\"nonselection_glyph\":{\"type\":\"object\",\"name\":\"Line\",\"id\":\"p2787\",\"attributes\":{\"tags\":[\"apply_ranges\"],\"x\":{\"type\":\"field\",\"field\":\"date\"},\"y\":{\"type\":\"field\",\"field\":\"10-2 Rate Diff\"},\"line_color\":\"#30a2da\",\"line_alpha\":0.1,\"line_width\":2}},\"muted_glyph\":{\"type\":\"object\",\"name\":\"Line\",\"id\":\"p2788\",\"attributes\":{\"tags\":[\"apply_ranges\"],\"x\":{\"type\":\"field\",\"field\":\"date\"},\"y\":{\"type\":\"field\",\"field\":\"10-2 Rate Diff\"},\"line_color\":\"#30a2da\",\"line_alpha\":0.2,\"line_width\":2}}}}],\"toolbar\":{\"type\":\"object\",\"name\":\"Toolbar\",\"id\":\"p2750\",\"attributes\":{\"tools\":[{\"type\":\"object\",\"name\":\"WheelZoomTool\",\"id\":\"p2739\",\"attributes\":{\"tags\":[\"hv_created\"],\"zoom_together\":\"none\"}},{\"type\":\"object\",\"name\":\"HoverTool\",\"id\":\"p2740\",\"attributes\":{\"tags\":[\"hv_created\"],\"renderers\":[{\"id\":\"p2789\"}],\"tooltips\":[[\"date\",\"@{date}{%F %T}\"],[\"10-2 Rate Diff\",\"@{A_10_hyphen_minus_2_Rate_Diff}\"]],\"formatters\":{\"type\":\"map\",\"entries\":[[\"@{date}\",\"datetime\"]]}}},{\"type\":\"object\",\"name\":\"SaveTool\",\"id\":\"p2775\"},{\"type\":\"object\",\"name\":\"PanTool\",\"id\":\"p2776\"},{\"type\":\"object\",\"name\":\"BoxZoomTool\",\"id\":\"p2777\",\"attributes\":{\"overlay\":{\"type\":\"object\",\"name\":\"BoxAnnotation\",\"id\":\"p2778\",\"attributes\":{\"syncable\":false,\"level\":\"overlay\",\"visible\":false,\"left_units\":\"canvas\",\"right_units\":\"canvas\",\"bottom_units\":\"canvas\",\"top_units\":\"canvas\",\"line_color\":\"black\",\"line_alpha\":1.0,\"line_width\":2,\"line_dash\":[4,4],\"fill_color\":\"lightgrey\",\"fill_alpha\":0.5}}}},{\"type\":\"object\",\"name\":\"ResetTool\",\"id\":\"p2779\"}],\"active_drag\":{\"id\":\"p2776\"},\"active_scroll\":{\"id\":\"p2739\"}}},\"left\":[{\"type\":\"object\",\"name\":\"LinearAxis\",\"id\":\"p2770\",\"attributes\":{\"ticker\":{\"type\":\"object\",\"name\":\"BasicTicker\",\"id\":\"p2771\",\"attributes\":{\"mantissas\":[1,2,5]}},\"formatter\":{\"type\":\"object\",\"name\":\"BasicTickFormatter\",\"id\":\"p2772\"},\"axis_label\":\"10-2 Rate Diff\",\"major_label_policy\":{\"type\":\"object\",\"name\":\"AllLabels\",\"id\":\"p2773\"}}}],\"below\":[{\"type\":\"object\",\"name\":\"DatetimeAxis\",\"id\":\"p2753\",\"attributes\":{\"ticker\":{\"type\":\"object\",\"name\":\"DatetimeTicker\",\"id\":\"p2754\",\"attributes\":{\"num_minor_ticks\":5,\"tickers\":[{\"type\":\"object\",\"name\":\"AdaptiveTicker\",\"id\":\"p2755\",\"attributes\":{\"num_minor_ticks\":0,\"mantissas\":[1,2,5],\"max_interval\":500.0}},{\"type\":\"object\",\"name\":\"AdaptiveTicker\",\"id\":\"p2756\",\"attributes\":{\"num_minor_ticks\":0,\"base\":60,\"mantissas\":[1,2,5,10,15,20,30],\"min_interval\":1000.0,\"max_interval\":1800000.0}},{\"type\":\"object\",\"name\":\"AdaptiveTicker\",\"id\":\"p2757\",\"attributes\":{\"num_minor_ticks\":0,\"base\":24,\"mantissas\":[1,2,4,6,8,12],\"min_interval\":3600000.0,\"max_interval\":43200000.0}},{\"type\":\"object\",\"name\":\"DaysTicker\",\"id\":\"p2758\",\"attributes\":{\"days\":[1,2,3,4,5,6,7,8,9,10,11,12,13,14,15,16,17,18,19,20,21,22,23,24,25,26,27,28,29,30,31]}},{\"type\":\"object\",\"name\":\"DaysTicker\",\"id\":\"p2759\",\"attributes\":{\"days\":[1,4,7,10,13,16,19,22,25,28]}},{\"type\":\"object\",\"name\":\"DaysTicker\",\"id\":\"p2760\",\"attributes\":{\"days\":[1,8,15,22]}},{\"type\":\"object\",\"name\":\"DaysTicker\",\"id\":\"p2761\",\"attributes\":{\"days\":[1,15]}},{\"type\":\"object\",\"name\":\"MonthsTicker\",\"id\":\"p2762\",\"attributes\":{\"months\":[0,1,2,3,4,5,6,7,8,9,10,11]}},{\"type\":\"object\",\"name\":\"MonthsTicker\",\"id\":\"p2763\",\"attributes\":{\"months\":[0,2,4,6,8,10]}},{\"type\":\"object\",\"name\":\"MonthsTicker\",\"id\":\"p2764\",\"attributes\":{\"months\":[0,4,8]}},{\"type\":\"object\",\"name\":\"MonthsTicker\",\"id\":\"p2765\",\"attributes\":{\"months\":[0,6]}},{\"type\":\"object\",\"name\":\"YearsTicker\",\"id\":\"p2766\"}]}},\"formatter\":{\"type\":\"object\",\"name\":\"DatetimeTickFormatter\",\"id\":\"p2767\"},\"axis_label\":\"date\",\"major_label_policy\":{\"type\":\"object\",\"name\":\"AllLabels\",\"id\":\"p2768\"}}}],\"center\":[{\"type\":\"object\",\"name\":\"Grid\",\"id\":\"p2769\",\"attributes\":{\"axis\":{\"id\":\"p2753\"},\"grid_line_color\":null}},{\"type\":\"object\",\"name\":\"Grid\",\"id\":\"p2774\",\"attributes\":{\"dimension\":1,\"axis\":{\"id\":\"p2770\"},\"grid_line_color\":null}}],\"min_border_top\":10,\"min_border_bottom\":10,\"min_border_left\":10,\"min_border_right\":10,\"output_backend\":\"webgl\"}},{\"type\":\"object\",\"name\":\"Spacer\",\"id\":\"p2794\",\"attributes\":{\"name\":\"HSpacer04487\",\"stylesheets\":[\"\\n:host(.pn-loading.pn-arc):before, .pn-loading.pn-arc:before {\\n  background-image: url(\\\"data:image/svg+xml;base64,PHN2ZyB4bWxucz0iaHR0cDovL3d3dy53My5vcmcvMjAwMC9zdmciIHN0eWxlPSJtYXJnaW46IGF1dG87IGJhY2tncm91bmQ6IG5vbmU7IGRpc3BsYXk6IGJsb2NrOyBzaGFwZS1yZW5kZXJpbmc6IGF1dG87IiB2aWV3Qm94PSIwIDAgMTAwIDEwMCIgcHJlc2VydmVBc3BlY3RSYXRpbz0ieE1pZFlNaWQiPiAgPGNpcmNsZSBjeD0iNTAiIGN5PSI1MCIgZmlsbD0ibm9uZSIgc3Ryb2tlPSIjYzNjM2MzIiBzdHJva2Utd2lkdGg9IjEwIiByPSIzNSIgc3Ryb2tlLWRhc2hhcnJheT0iMTY0LjkzMzYxNDMxMzQ2NDE1IDU2Ljk3Nzg3MTQzNzgyMTM4Ij4gICAgPGFuaW1hdGVUcmFuc2Zvcm0gYXR0cmlidXRlTmFtZT0idHJhbnNmb3JtIiB0eXBlPSJyb3RhdGUiIHJlcGVhdENvdW50PSJpbmRlZmluaXRlIiBkdXI9IjFzIiB2YWx1ZXM9IjAgNTAgNTA7MzYwIDUwIDUwIiBrZXlUaW1lcz0iMDsxIj48L2FuaW1hdGVUcmFuc2Zvcm0+ICA8L2NpcmNsZT48L3N2Zz4=\\\");\\n  background-size: auto calc(min(50%, 400px));\\n}\",{\"id\":\"p2732\"},{\"id\":\"p2730\"},{\"id\":\"p2731\"}],\"margin\":0,\"sizing_mode\":\"stretch_width\",\"align\":\"start\"}}]}}],\"defs\":[{\"type\":\"model\",\"name\":\"ReactiveHTML1\"},{\"type\":\"model\",\"name\":\"FlexBox1\",\"properties\":[{\"name\":\"align_content\",\"kind\":\"Any\",\"default\":\"flex-start\"},{\"name\":\"align_items\",\"kind\":\"Any\",\"default\":\"flex-start\"},{\"name\":\"flex_direction\",\"kind\":\"Any\",\"default\":\"row\"},{\"name\":\"flex_wrap\",\"kind\":\"Any\",\"default\":\"wrap\"},{\"name\":\"justify_content\",\"kind\":\"Any\",\"default\":\"flex-start\"}]},{\"type\":\"model\",\"name\":\"FloatPanel1\",\"properties\":[{\"name\":\"config\",\"kind\":\"Any\",\"default\":{\"type\":\"map\"}},{\"name\":\"contained\",\"kind\":\"Any\",\"default\":true},{\"name\":\"position\",\"kind\":\"Any\",\"default\":\"right-top\"},{\"name\":\"offsetx\",\"kind\":\"Any\",\"default\":null},{\"name\":\"offsety\",\"kind\":\"Any\",\"default\":null},{\"name\":\"theme\",\"kind\":\"Any\",\"default\":\"primary\"},{\"name\":\"status\",\"kind\":\"Any\",\"default\":\"normalized\"}]},{\"type\":\"model\",\"name\":\"GridStack1\",\"properties\":[{\"name\":\"mode\",\"kind\":\"Any\",\"default\":\"warn\"},{\"name\":\"ncols\",\"kind\":\"Any\",\"default\":null},{\"name\":\"nrows\",\"kind\":\"Any\",\"default\":null},{\"name\":\"allow_resize\",\"kind\":\"Any\",\"default\":true},{\"name\":\"allow_drag\",\"kind\":\"Any\",\"default\":true},{\"name\":\"state\",\"kind\":\"Any\",\"default\":[]}]},{\"type\":\"model\",\"name\":\"drag1\",\"properties\":[{\"name\":\"slider_width\",\"kind\":\"Any\",\"default\":5},{\"name\":\"slider_color\",\"kind\":\"Any\",\"default\":\"black\"},{\"name\":\"value\",\"kind\":\"Any\",\"default\":50}]},{\"type\":\"model\",\"name\":\"click1\",\"properties\":[{\"name\":\"terminal_output\",\"kind\":\"Any\",\"default\":\"\"},{\"name\":\"debug_name\",\"kind\":\"Any\",\"default\":\"\"},{\"name\":\"clears\",\"kind\":\"Any\",\"default\":0}]},{\"type\":\"model\",\"name\":\"FastWrapper1\",\"properties\":[{\"name\":\"object\",\"kind\":\"Any\",\"default\":null},{\"name\":\"style\",\"kind\":\"Any\",\"default\":null}]},{\"type\":\"model\",\"name\":\"NotificationAreaBase1\",\"properties\":[{\"name\":\"js_events\",\"kind\":\"Any\",\"default\":{\"type\":\"map\"}},{\"name\":\"position\",\"kind\":\"Any\",\"default\":\"bottom-right\"},{\"name\":\"_clear\",\"kind\":\"Any\",\"default\":0}]},{\"type\":\"model\",\"name\":\"NotificationArea1\",\"properties\":[{\"name\":\"js_events\",\"kind\":\"Any\",\"default\":{\"type\":\"map\"}},{\"name\":\"notifications\",\"kind\":\"Any\",\"default\":[]},{\"name\":\"position\",\"kind\":\"Any\",\"default\":\"bottom-right\"},{\"name\":\"_clear\",\"kind\":\"Any\",\"default\":0},{\"name\":\"types\",\"kind\":\"Any\",\"default\":[{\"type\":\"map\",\"entries\":[[\"type\",\"warning\"],[\"background\",\"#ffc107\"],[\"icon\",{\"type\":\"map\",\"entries\":[[\"className\",\"fas fa-exclamation-triangle\"],[\"tagName\",\"i\"],[\"color\",\"white\"]]}]]},{\"type\":\"map\",\"entries\":[[\"type\",\"info\"],[\"background\",\"#007bff\"],[\"icon\",{\"type\":\"map\",\"entries\":[[\"className\",\"fas fa-info-circle\"],[\"tagName\",\"i\"],[\"color\",\"white\"]]}]]}]}]},{\"type\":\"model\",\"name\":\"Notification\",\"properties\":[{\"name\":\"background\",\"kind\":\"Any\",\"default\":null},{\"name\":\"duration\",\"kind\":\"Any\",\"default\":3000},{\"name\":\"icon\",\"kind\":\"Any\",\"default\":null},{\"name\":\"message\",\"kind\":\"Any\",\"default\":\"\"},{\"name\":\"notification_type\",\"kind\":\"Any\",\"default\":null},{\"name\":\"_destroyed\",\"kind\":\"Any\",\"default\":false}]},{\"type\":\"model\",\"name\":\"TemplateActions1\",\"properties\":[{\"name\":\"open_modal\",\"kind\":\"Any\",\"default\":0},{\"name\":\"close_modal\",\"kind\":\"Any\",\"default\":0}]},{\"type\":\"model\",\"name\":\"BootstrapTemplateActions1\",\"properties\":[{\"name\":\"open_modal\",\"kind\":\"Any\",\"default\":0},{\"name\":\"close_modal\",\"kind\":\"Any\",\"default\":0}]},{\"type\":\"model\",\"name\":\"MaterialTemplateActions1\",\"properties\":[{\"name\":\"open_modal\",\"kind\":\"Any\",\"default\":0},{\"name\":\"close_modal\",\"kind\":\"Any\",\"default\":0}]}]}};\n",
       "  var render_items = [{\"docid\":\"188b5552-ba55-4d0a-adfa-948c1e9c0f21\",\"roots\":{\"p2729\":\"c0e091cf-28e3-4cc0-b0a1-08e172a2cc97\"},\"root_ids\":[\"p2729\"]}];\n",
       "  var docs = Object.values(docs_json)\n",
       "  if (!docs) {\n",
       "    return\n",
       "  }\n",
       "  const py_version = docs[0].version.replace('rc', '-rc.').replace('.dev', '-dev.')\n",
       "  const is_dev = py_version.indexOf(\"+\") !== -1 || py_version.indexOf(\"-\") !== -1\n",
       "  function embed_document(root) {\n",
       "    var Bokeh = get_bokeh(root)\n",
       "    Bokeh.embed.embed_items_notebook(docs_json, render_items);\n",
       "    for (const render_item of render_items) {\n",
       "      for (const root_id of render_item.root_ids) {\n",
       "\tconst id_el = document.getElementById(root_id)\n",
       "\tif (id_el.children.length && (id_el.children[0].className === 'bk-root')) {\n",
       "\t  const root_el = id_el.children[0]\n",
       "\t  root_el.id = root_el.id + '-rendered'\n",
       "\t}\n",
       "      }\n",
       "    }\n",
       "  }\n",
       "  function get_bokeh(root) {\n",
       "    if (root.Bokeh === undefined) {\n",
       "      return null\n",
       "    } else if (root.Bokeh.version !== py_version && !is_dev) {\n",
       "      if (root.Bokeh.versions === undefined || !root.Bokeh.versions.has(py_version)) {\n",
       "\treturn null\n",
       "      }\n",
       "      return root.Bokeh.versions.get(py_version);\n",
       "    } else if (root.Bokeh.version === py_version) {\n",
       "      return root.Bokeh\n",
       "    }\n",
       "    return null\n",
       "  }\n",
       "  function is_loaded(root) {\n",
       "    var Bokeh = get_bokeh(root)\n",
       "    return (Bokeh != null && Bokeh.Panel !== undefined)\n",
       "  }\n",
       "  if (is_loaded(root)) {\n",
       "    embed_document(root);\n",
       "  } else {\n",
       "    var attempts = 0;\n",
       "    var timer = setInterval(function(root) {\n",
       "      if (is_loaded(root)) {\n",
       "        clearInterval(timer);\n",
       "        embed_document(root);\n",
       "      } else if (document.readyState == \"complete\") {\n",
       "        attempts++;\n",
       "        if (attempts > 200) {\n",
       "          clearInterval(timer);\n",
       "\t  var Bokeh = get_bokeh(root)\n",
       "\t  if (Bokeh == null || Bokeh.Panel == null) {\n",
       "            console.warn(\"Panel: ERROR: Unable to run Panel code because Bokeh or Panel library is missing\");\n",
       "\t  } else {\n",
       "\t    console.warn(\"Panel: WARNING: Attempting to render but not all required libraries could be resolved.\")\n",
       "\t    embed_document(root)\n",
       "\t  }\n",
       "        }\n",
       "      }\n",
       "    }, 25, root)\n",
       "  }\n",
       "})(window);</script>"
      ],
      "text/plain": [
       ":Curve   [date]   (10-2 Rate Diff)"
      ]
     },
     "execution_count": 132,
     "metadata": {
      "application/vnd.holoviews_exec.v0+json": {
       "id": "p2729"
      }
     },
     "output_type": "execute_result"
    }
   ],
   "source": [
    "# Create a plot to chart the Interest rate difference between 10 years and 2 years Treasury\n",
    "\n",
    "treasury_df.hvplot.line(x=\"date\", y=\"10-2 Rate Diff\", title = \"Treasury Securities - 10 Years Minus 2 Years Interest Rate Difference\")\n"
   ]
  },
  {
   "cell_type": "code",
   "execution_count": 133,
   "id": "9d152cbe",
   "metadata": {},
   "outputs": [
    {
     "data": {},
     "metadata": {},
     "output_type": "display_data"
    },
    {
     "data": {
      "application/vnd.holoviews_exec.v0+json": "",
      "text/html": [
       "<div id='p2801'>\n",
       "  <div id=\"c06b1a4c-8e92-481f-854d-56637b56a8f2\" data-root-id=\"p2801\" style=\"display: contents;\"></div>\n",
       "</div>\n",
       "<script type=\"application/javascript\">(function(root) {\n",
       "  var docs_json = {\"769dd1fa-e8c3-437b-9927-3912624c84c5\":{\"version\":\"3.2.1\",\"title\":\"Bokeh Application\",\"roots\":[{\"type\":\"object\",\"name\":\"Row\",\"id\":\"p2801\",\"attributes\":{\"name\":\"Row04602\",\"tags\":[\"embedded\"],\"stylesheets\":[\"\\n:host(.pn-loading.pn-arc):before, .pn-loading.pn-arc:before {\\n  background-image: url(\\\"data:image/svg+xml;base64,PHN2ZyB4bWxucz0iaHR0cDovL3d3dy53My5vcmcvMjAwMC9zdmciIHN0eWxlPSJtYXJnaW46IGF1dG87IGJhY2tncm91bmQ6IG5vbmU7IGRpc3BsYXk6IGJsb2NrOyBzaGFwZS1yZW5kZXJpbmc6IGF1dG87IiB2aWV3Qm94PSIwIDAgMTAwIDEwMCIgcHJlc2VydmVBc3BlY3RSYXRpbz0ieE1pZFlNaWQiPiAgPGNpcmNsZSBjeD0iNTAiIGN5PSI1MCIgZmlsbD0ibm9uZSIgc3Ryb2tlPSIjYzNjM2MzIiBzdHJva2Utd2lkdGg9IjEwIiByPSIzNSIgc3Ryb2tlLWRhc2hhcnJheT0iMTY0LjkzMzYxNDMxMzQ2NDE1IDU2Ljk3Nzg3MTQzNzgyMTM4Ij4gICAgPGFuaW1hdGVUcmFuc2Zvcm0gYXR0cmlidXRlTmFtZT0idHJhbnNmb3JtIiB0eXBlPSJyb3RhdGUiIHJlcGVhdENvdW50PSJpbmRlZmluaXRlIiBkdXI9IjFzIiB2YWx1ZXM9IjAgNTAgNTA7MzYwIDUwIDUwIiBrZXlUaW1lcz0iMDsxIj48L2FuaW1hdGVUcmFuc2Zvcm0+ICA8L2NpcmNsZT48L3N2Zz4=\\\");\\n  background-size: auto calc(min(50%, 400px));\\n}\",{\"type\":\"object\",\"name\":\"ImportedStyleSheet\",\"id\":\"p2804\",\"attributes\":{\"url\":\"https://cdn.holoviz.org/panel/1.2.3/dist/css/loading.css\"}},{\"type\":\"object\",\"name\":\"ImportedStyleSheet\",\"id\":\"p2868\",\"attributes\":{\"url\":\"https://cdn.holoviz.org/panel/1.2.3/dist/css/listpanel.css\"}},{\"type\":\"object\",\"name\":\"ImportedStyleSheet\",\"id\":\"p2802\",\"attributes\":{\"url\":\"https://cdn.holoviz.org/panel/1.2.3/dist/bundled/theme/default.css\"}},{\"type\":\"object\",\"name\":\"ImportedStyleSheet\",\"id\":\"p2803\",\"attributes\":{\"url\":\"https://cdn.holoviz.org/panel/1.2.3/dist/bundled/theme/native.css\"}}],\"min_width\":700,\"margin\":0,\"sizing_mode\":\"stretch_width\",\"align\":\"start\",\"children\":[{\"type\":\"object\",\"name\":\"Spacer\",\"id\":\"p2805\",\"attributes\":{\"name\":\"HSpacer04613\",\"stylesheets\":[\"\\n:host(.pn-loading.pn-arc):before, .pn-loading.pn-arc:before {\\n  background-image: url(\\\"data:image/svg+xml;base64,PHN2ZyB4bWxucz0iaHR0cDovL3d3dy53My5vcmcvMjAwMC9zdmciIHN0eWxlPSJtYXJnaW46IGF1dG87IGJhY2tncm91bmQ6IG5vbmU7IGRpc3BsYXk6IGJsb2NrOyBzaGFwZS1yZW5kZXJpbmc6IGF1dG87IiB2aWV3Qm94PSIwIDAgMTAwIDEwMCIgcHJlc2VydmVBc3BlY3RSYXRpbz0ieE1pZFlNaWQiPiAgPGNpcmNsZSBjeD0iNTAiIGN5PSI1MCIgZmlsbD0ibm9uZSIgc3Ryb2tlPSIjYzNjM2MzIiBzdHJva2Utd2lkdGg9IjEwIiByPSIzNSIgc3Ryb2tlLWRhc2hhcnJheT0iMTY0LjkzMzYxNDMxMzQ2NDE1IDU2Ljk3Nzg3MTQzNzgyMTM4Ij4gICAgPGFuaW1hdGVUcmFuc2Zvcm0gYXR0cmlidXRlTmFtZT0idHJhbnNmb3JtIiB0eXBlPSJyb3RhdGUiIHJlcGVhdENvdW50PSJpbmRlZmluaXRlIiBkdXI9IjFzIiB2YWx1ZXM9IjAgNTAgNTA7MzYwIDUwIDUwIiBrZXlUaW1lcz0iMDsxIj48L2FuaW1hdGVUcmFuc2Zvcm0+ICA8L2NpcmNsZT48L3N2Zz4=\\\");\\n  background-size: auto calc(min(50%, 400px));\\n}\",{\"id\":\"p2804\"},{\"id\":\"p2802\"},{\"id\":\"p2803\"}],\"margin\":0,\"sizing_mode\":\"stretch_width\",\"align\":\"start\"}},{\"type\":\"object\",\"name\":\"Figure\",\"id\":\"p2813\",\"attributes\":{\"width\":700,\"height\":300,\"margin\":[5,10],\"sizing_mode\":\"fixed\",\"align\":\"start\",\"x_range\":{\"type\":\"object\",\"name\":\"Range1d\",\"id\":\"p2806\",\"attributes\":{\"tags\":[[[\"date\",\"date\",null]],[]],\"start\":-347155200000.0,\"end\":1709251200000.0,\"reset_start\":-347155200000.0,\"reset_end\":1709251200000.0}},\"y_range\":{\"type\":\"object\",\"name\":\"Range1d\",\"id\":\"p2807\",\"attributes\":{\"tags\":[[[\"10-1 Rate Diff\",\"10-1 Rate Diff\",null]],{\"type\":\"map\",\"entries\":[[\"invert_yaxis\",false],[\"autorange\",false]]}],\"start\":-3.7170000000000005,\"end\":4.047,\"reset_start\":-3.7170000000000005,\"reset_end\":4.047}},\"x_scale\":{\"type\":\"object\",\"name\":\"LinearScale\",\"id\":\"p2823\"},\"y_scale\":{\"type\":\"object\",\"name\":\"LinearScale\",\"id\":\"p2824\"},\"title\":{\"type\":\"object\",\"name\":\"Title\",\"id\":\"p2816\",\"attributes\":{\"text\":\"Treasury Securities - 10 Years Minus 1 Year Interest Rate Difference\",\"text_color\":\"black\",\"text_font_size\":\"12pt\"}},\"renderers\":[{\"type\":\"object\",\"name\":\"GlyphRenderer\",\"id\":\"p2861\",\"attributes\":{\"data_source\":{\"type\":\"object\",\"name\":\"ColumnDataSource\",\"id\":\"p2852\",\"attributes\":{\"selected\":{\"type\":\"object\",\"name\":\"Selection\",\"id\":\"p2853\",\"attributes\":{\"indices\":[],\"line_indices\":[]}},\"selection_policy\":{\"type\":\"object\",\"name\":\"UnionRenderers\",\"id\":\"p2854\"},\"data\":{\"type\":\"map\",\"entries\":[[\"date\",{\"type\":\"ndarray\",\"array\":{\"type\":\"bytes\",\"data\":\"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\"},\"shape\":[783],\"dtype\":\"float64\",\"order\":\"little\"}],[\"10-1 Rate Diff\",{\"type\":\"ndarray\",\"array\":{\"type\":\"bytes\",\"data\":\"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\"},\"shape\":[783],\"dtype\":\"float64\",\"order\":\"little\"}],[\"A_10_hyphen_minus_1_Rate_Diff\",{\"type\":\"ndarray\",\"array\":{\"type\":\"bytes\",\"data\":\"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\"},\"shape\":[783],\"dtype\":\"float64\",\"order\":\"little\"}]]}}},\"view\":{\"type\":\"object\",\"name\":\"CDSView\",\"id\":\"p2862\",\"attributes\":{\"filter\":{\"type\":\"object\",\"name\":\"AllIndices\",\"id\":\"p2863\"}}},\"glyph\":{\"type\":\"object\",\"name\":\"Line\",\"id\":\"p2858\",\"attributes\":{\"tags\":[\"apply_ranges\"],\"x\":{\"type\":\"field\",\"field\":\"date\"},\"y\":{\"type\":\"field\",\"field\":\"10-1 Rate Diff\"},\"line_color\":\"#30a2da\",\"line_width\":2}},\"selection_glyph\":{\"type\":\"object\",\"name\":\"Line\",\"id\":\"p2864\",\"attributes\":{\"tags\":[\"apply_ranges\"],\"x\":{\"type\":\"field\",\"field\":\"date\"},\"y\":{\"type\":\"field\",\"field\":\"10-1 Rate Diff\"},\"line_color\":\"#30a2da\",\"line_width\":2}},\"nonselection_glyph\":{\"type\":\"object\",\"name\":\"Line\",\"id\":\"p2859\",\"attributes\":{\"tags\":[\"apply_ranges\"],\"x\":{\"type\":\"field\",\"field\":\"date\"},\"y\":{\"type\":\"field\",\"field\":\"10-1 Rate Diff\"},\"line_color\":\"#30a2da\",\"line_alpha\":0.1,\"line_width\":2}},\"muted_glyph\":{\"type\":\"object\",\"name\":\"Line\",\"id\":\"p2860\",\"attributes\":{\"tags\":[\"apply_ranges\"],\"x\":{\"type\":\"field\",\"field\":\"date\"},\"y\":{\"type\":\"field\",\"field\":\"10-1 Rate Diff\"},\"line_color\":\"#30a2da\",\"line_alpha\":0.2,\"line_width\":2}}}}],\"toolbar\":{\"type\":\"object\",\"name\":\"Toolbar\",\"id\":\"p2822\",\"attributes\":{\"tools\":[{\"type\":\"object\",\"name\":\"WheelZoomTool\",\"id\":\"p2811\",\"attributes\":{\"tags\":[\"hv_created\"],\"zoom_together\":\"none\"}},{\"type\":\"object\",\"name\":\"HoverTool\",\"id\":\"p2812\",\"attributes\":{\"tags\":[\"hv_created\"],\"renderers\":[{\"id\":\"p2861\"}],\"tooltips\":[[\"date\",\"@{date}{%F %T}\"],[\"10-1 Rate Diff\",\"@{A_10_hyphen_minus_1_Rate_Diff}\"]],\"formatters\":{\"type\":\"map\",\"entries\":[[\"@{date}\",\"datetime\"]]}}},{\"type\":\"object\",\"name\":\"SaveTool\",\"id\":\"p2847\"},{\"type\":\"object\",\"name\":\"PanTool\",\"id\":\"p2848\"},{\"type\":\"object\",\"name\":\"BoxZoomTool\",\"id\":\"p2849\",\"attributes\":{\"overlay\":{\"type\":\"object\",\"name\":\"BoxAnnotation\",\"id\":\"p2850\",\"attributes\":{\"syncable\":false,\"level\":\"overlay\",\"visible\":false,\"left_units\":\"canvas\",\"right_units\":\"canvas\",\"bottom_units\":\"canvas\",\"top_units\":\"canvas\",\"line_color\":\"black\",\"line_alpha\":1.0,\"line_width\":2,\"line_dash\":[4,4],\"fill_color\":\"lightgrey\",\"fill_alpha\":0.5}}}},{\"type\":\"object\",\"name\":\"ResetTool\",\"id\":\"p2851\"}],\"active_drag\":{\"id\":\"p2848\"},\"active_scroll\":{\"id\":\"p2811\"}}},\"left\":[{\"type\":\"object\",\"name\":\"LinearAxis\",\"id\":\"p2842\",\"attributes\":{\"ticker\":{\"type\":\"object\",\"name\":\"BasicTicker\",\"id\":\"p2843\",\"attributes\":{\"mantissas\":[1,2,5]}},\"formatter\":{\"type\":\"object\",\"name\":\"BasicTickFormatter\",\"id\":\"p2844\"},\"axis_label\":\"10-1 Rate Diff\",\"major_label_policy\":{\"type\":\"object\",\"name\":\"AllLabels\",\"id\":\"p2845\"}}}],\"below\":[{\"type\":\"object\",\"name\":\"DatetimeAxis\",\"id\":\"p2825\",\"attributes\":{\"ticker\":{\"type\":\"object\",\"name\":\"DatetimeTicker\",\"id\":\"p2826\",\"attributes\":{\"num_minor_ticks\":5,\"tickers\":[{\"type\":\"object\",\"name\":\"AdaptiveTicker\",\"id\":\"p2827\",\"attributes\":{\"num_minor_ticks\":0,\"mantissas\":[1,2,5],\"max_interval\":500.0}},{\"type\":\"object\",\"name\":\"AdaptiveTicker\",\"id\":\"p2828\",\"attributes\":{\"num_minor_ticks\":0,\"base\":60,\"mantissas\":[1,2,5,10,15,20,30],\"min_interval\":1000.0,\"max_interval\":1800000.0}},{\"type\":\"object\",\"name\":\"AdaptiveTicker\",\"id\":\"p2829\",\"attributes\":{\"num_minor_ticks\":0,\"base\":24,\"mantissas\":[1,2,4,6,8,12],\"min_interval\":3600000.0,\"max_interval\":43200000.0}},{\"type\":\"object\",\"name\":\"DaysTicker\",\"id\":\"p2830\",\"attributes\":{\"days\":[1,2,3,4,5,6,7,8,9,10,11,12,13,14,15,16,17,18,19,20,21,22,23,24,25,26,27,28,29,30,31]}},{\"type\":\"object\",\"name\":\"DaysTicker\",\"id\":\"p2831\",\"attributes\":{\"days\":[1,4,7,10,13,16,19,22,25,28]}},{\"type\":\"object\",\"name\":\"DaysTicker\",\"id\":\"p2832\",\"attributes\":{\"days\":[1,8,15,22]}},{\"type\":\"object\",\"name\":\"DaysTicker\",\"id\":\"p2833\",\"attributes\":{\"days\":[1,15]}},{\"type\":\"object\",\"name\":\"MonthsTicker\",\"id\":\"p2834\",\"attributes\":{\"months\":[0,1,2,3,4,5,6,7,8,9,10,11]}},{\"type\":\"object\",\"name\":\"MonthsTicker\",\"id\":\"p2835\",\"attributes\":{\"months\":[0,2,4,6,8,10]}},{\"type\":\"object\",\"name\":\"MonthsTicker\",\"id\":\"p2836\",\"attributes\":{\"months\":[0,4,8]}},{\"type\":\"object\",\"name\":\"MonthsTicker\",\"id\":\"p2837\",\"attributes\":{\"months\":[0,6]}},{\"type\":\"object\",\"name\":\"YearsTicker\",\"id\":\"p2838\"}]}},\"formatter\":{\"type\":\"object\",\"name\":\"DatetimeTickFormatter\",\"id\":\"p2839\"},\"axis_label\":\"date\",\"major_label_policy\":{\"type\":\"object\",\"name\":\"AllLabels\",\"id\":\"p2840\"}}}],\"center\":[{\"type\":\"object\",\"name\":\"Grid\",\"id\":\"p2841\",\"attributes\":{\"axis\":{\"id\":\"p2825\"},\"grid_line_color\":null}},{\"type\":\"object\",\"name\":\"Grid\",\"id\":\"p2846\",\"attributes\":{\"dimension\":1,\"axis\":{\"id\":\"p2842\"},\"grid_line_color\":null}}],\"min_border_top\":10,\"min_border_bottom\":10,\"min_border_left\":10,\"min_border_right\":10,\"output_backend\":\"webgl\"}},{\"type\":\"object\",\"name\":\"Spacer\",\"id\":\"p2866\",\"attributes\":{\"name\":\"HSpacer04616\",\"stylesheets\":[\"\\n:host(.pn-loading.pn-arc):before, .pn-loading.pn-arc:before {\\n  background-image: url(\\\"data:image/svg+xml;base64,PHN2ZyB4bWxucz0iaHR0cDovL3d3dy53My5vcmcvMjAwMC9zdmciIHN0eWxlPSJtYXJnaW46IGF1dG87IGJhY2tncm91bmQ6IG5vbmU7IGRpc3BsYXk6IGJsb2NrOyBzaGFwZS1yZW5kZXJpbmc6IGF1dG87IiB2aWV3Qm94PSIwIDAgMTAwIDEwMCIgcHJlc2VydmVBc3BlY3RSYXRpbz0ieE1pZFlNaWQiPiAgPGNpcmNsZSBjeD0iNTAiIGN5PSI1MCIgZmlsbD0ibm9uZSIgc3Ryb2tlPSIjYzNjM2MzIiBzdHJva2Utd2lkdGg9IjEwIiByPSIzNSIgc3Ryb2tlLWRhc2hhcnJheT0iMTY0LjkzMzYxNDMxMzQ2NDE1IDU2Ljk3Nzg3MTQzNzgyMTM4Ij4gICAgPGFuaW1hdGVUcmFuc2Zvcm0gYXR0cmlidXRlTmFtZT0idHJhbnNmb3JtIiB0eXBlPSJyb3RhdGUiIHJlcGVhdENvdW50PSJpbmRlZmluaXRlIiBkdXI9IjFzIiB2YWx1ZXM9IjAgNTAgNTA7MzYwIDUwIDUwIiBrZXlUaW1lcz0iMDsxIj48L2FuaW1hdGVUcmFuc2Zvcm0+ICA8L2NpcmNsZT48L3N2Zz4=\\\");\\n  background-size: auto calc(min(50%, 400px));\\n}\",{\"id\":\"p2804\"},{\"id\":\"p2802\"},{\"id\":\"p2803\"}],\"margin\":0,\"sizing_mode\":\"stretch_width\",\"align\":\"start\"}}]}}],\"defs\":[{\"type\":\"model\",\"name\":\"ReactiveHTML1\"},{\"type\":\"model\",\"name\":\"FlexBox1\",\"properties\":[{\"name\":\"align_content\",\"kind\":\"Any\",\"default\":\"flex-start\"},{\"name\":\"align_items\",\"kind\":\"Any\",\"default\":\"flex-start\"},{\"name\":\"flex_direction\",\"kind\":\"Any\",\"default\":\"row\"},{\"name\":\"flex_wrap\",\"kind\":\"Any\",\"default\":\"wrap\"},{\"name\":\"justify_content\",\"kind\":\"Any\",\"default\":\"flex-start\"}]},{\"type\":\"model\",\"name\":\"FloatPanel1\",\"properties\":[{\"name\":\"config\",\"kind\":\"Any\",\"default\":{\"type\":\"map\"}},{\"name\":\"contained\",\"kind\":\"Any\",\"default\":true},{\"name\":\"position\",\"kind\":\"Any\",\"default\":\"right-top\"},{\"name\":\"offsetx\",\"kind\":\"Any\",\"default\":null},{\"name\":\"offsety\",\"kind\":\"Any\",\"default\":null},{\"name\":\"theme\",\"kind\":\"Any\",\"default\":\"primary\"},{\"name\":\"status\",\"kind\":\"Any\",\"default\":\"normalized\"}]},{\"type\":\"model\",\"name\":\"GridStack1\",\"properties\":[{\"name\":\"mode\",\"kind\":\"Any\",\"default\":\"warn\"},{\"name\":\"ncols\",\"kind\":\"Any\",\"default\":null},{\"name\":\"nrows\",\"kind\":\"Any\",\"default\":null},{\"name\":\"allow_resize\",\"kind\":\"Any\",\"default\":true},{\"name\":\"allow_drag\",\"kind\":\"Any\",\"default\":true},{\"name\":\"state\",\"kind\":\"Any\",\"default\":[]}]},{\"type\":\"model\",\"name\":\"drag1\",\"properties\":[{\"name\":\"slider_width\",\"kind\":\"Any\",\"default\":5},{\"name\":\"slider_color\",\"kind\":\"Any\",\"default\":\"black\"},{\"name\":\"value\",\"kind\":\"Any\",\"default\":50}]},{\"type\":\"model\",\"name\":\"click1\",\"properties\":[{\"name\":\"terminal_output\",\"kind\":\"Any\",\"default\":\"\"},{\"name\":\"debug_name\",\"kind\":\"Any\",\"default\":\"\"},{\"name\":\"clears\",\"kind\":\"Any\",\"default\":0}]},{\"type\":\"model\",\"name\":\"FastWrapper1\",\"properties\":[{\"name\":\"object\",\"kind\":\"Any\",\"default\":null},{\"name\":\"style\",\"kind\":\"Any\",\"default\":null}]},{\"type\":\"model\",\"name\":\"NotificationAreaBase1\",\"properties\":[{\"name\":\"js_events\",\"kind\":\"Any\",\"default\":{\"type\":\"map\"}},{\"name\":\"position\",\"kind\":\"Any\",\"default\":\"bottom-right\"},{\"name\":\"_clear\",\"kind\":\"Any\",\"default\":0}]},{\"type\":\"model\",\"name\":\"NotificationArea1\",\"properties\":[{\"name\":\"js_events\",\"kind\":\"Any\",\"default\":{\"type\":\"map\"}},{\"name\":\"notifications\",\"kind\":\"Any\",\"default\":[]},{\"name\":\"position\",\"kind\":\"Any\",\"default\":\"bottom-right\"},{\"name\":\"_clear\",\"kind\":\"Any\",\"default\":0},{\"name\":\"types\",\"kind\":\"Any\",\"default\":[{\"type\":\"map\",\"entries\":[[\"type\",\"warning\"],[\"background\",\"#ffc107\"],[\"icon\",{\"type\":\"map\",\"entries\":[[\"className\",\"fas fa-exclamation-triangle\"],[\"tagName\",\"i\"],[\"color\",\"white\"]]}]]},{\"type\":\"map\",\"entries\":[[\"type\",\"info\"],[\"background\",\"#007bff\"],[\"icon\",{\"type\":\"map\",\"entries\":[[\"className\",\"fas fa-info-circle\"],[\"tagName\",\"i\"],[\"color\",\"white\"]]}]]}]}]},{\"type\":\"model\",\"name\":\"Notification\",\"properties\":[{\"name\":\"background\",\"kind\":\"Any\",\"default\":null},{\"name\":\"duration\",\"kind\":\"Any\",\"default\":3000},{\"name\":\"icon\",\"kind\":\"Any\",\"default\":null},{\"name\":\"message\",\"kind\":\"Any\",\"default\":\"\"},{\"name\":\"notification_type\",\"kind\":\"Any\",\"default\":null},{\"name\":\"_destroyed\",\"kind\":\"Any\",\"default\":false}]},{\"type\":\"model\",\"name\":\"TemplateActions1\",\"properties\":[{\"name\":\"open_modal\",\"kind\":\"Any\",\"default\":0},{\"name\":\"close_modal\",\"kind\":\"Any\",\"default\":0}]},{\"type\":\"model\",\"name\":\"BootstrapTemplateActions1\",\"properties\":[{\"name\":\"open_modal\",\"kind\":\"Any\",\"default\":0},{\"name\":\"close_modal\",\"kind\":\"Any\",\"default\":0}]},{\"type\":\"model\",\"name\":\"MaterialTemplateActions1\",\"properties\":[{\"name\":\"open_modal\",\"kind\":\"Any\",\"default\":0},{\"name\":\"close_modal\",\"kind\":\"Any\",\"default\":0}]}]}};\n",
       "  var render_items = [{\"docid\":\"769dd1fa-e8c3-437b-9927-3912624c84c5\",\"roots\":{\"p2801\":\"c06b1a4c-8e92-481f-854d-56637b56a8f2\"},\"root_ids\":[\"p2801\"]}];\n",
       "  var docs = Object.values(docs_json)\n",
       "  if (!docs) {\n",
       "    return\n",
       "  }\n",
       "  const py_version = docs[0].version.replace('rc', '-rc.').replace('.dev', '-dev.')\n",
       "  const is_dev = py_version.indexOf(\"+\") !== -1 || py_version.indexOf(\"-\") !== -1\n",
       "  function embed_document(root) {\n",
       "    var Bokeh = get_bokeh(root)\n",
       "    Bokeh.embed.embed_items_notebook(docs_json, render_items);\n",
       "    for (const render_item of render_items) {\n",
       "      for (const root_id of render_item.root_ids) {\n",
       "\tconst id_el = document.getElementById(root_id)\n",
       "\tif (id_el.children.length && (id_el.children[0].className === 'bk-root')) {\n",
       "\t  const root_el = id_el.children[0]\n",
       "\t  root_el.id = root_el.id + '-rendered'\n",
       "\t}\n",
       "      }\n",
       "    }\n",
       "  }\n",
       "  function get_bokeh(root) {\n",
       "    if (root.Bokeh === undefined) {\n",
       "      return null\n",
       "    } else if (root.Bokeh.version !== py_version && !is_dev) {\n",
       "      if (root.Bokeh.versions === undefined || !root.Bokeh.versions.has(py_version)) {\n",
       "\treturn null\n",
       "      }\n",
       "      return root.Bokeh.versions.get(py_version);\n",
       "    } else if (root.Bokeh.version === py_version) {\n",
       "      return root.Bokeh\n",
       "    }\n",
       "    return null\n",
       "  }\n",
       "  function is_loaded(root) {\n",
       "    var Bokeh = get_bokeh(root)\n",
       "    return (Bokeh != null && Bokeh.Panel !== undefined)\n",
       "  }\n",
       "  if (is_loaded(root)) {\n",
       "    embed_document(root);\n",
       "  } else {\n",
       "    var attempts = 0;\n",
       "    var timer = setInterval(function(root) {\n",
       "      if (is_loaded(root)) {\n",
       "        clearInterval(timer);\n",
       "        embed_document(root);\n",
       "      } else if (document.readyState == \"complete\") {\n",
       "        attempts++;\n",
       "        if (attempts > 200) {\n",
       "          clearInterval(timer);\n",
       "\t  var Bokeh = get_bokeh(root)\n",
       "\t  if (Bokeh == null || Bokeh.Panel == null) {\n",
       "            console.warn(\"Panel: ERROR: Unable to run Panel code because Bokeh or Panel library is missing\");\n",
       "\t  } else {\n",
       "\t    console.warn(\"Panel: WARNING: Attempting to render but not all required libraries could be resolved.\")\n",
       "\t    embed_document(root)\n",
       "\t  }\n",
       "        }\n",
       "      }\n",
       "    }, 25, root)\n",
       "  }\n",
       "})(window);</script>"
      ],
      "text/plain": [
       ":Curve   [date]   (10-1 Rate Diff)"
      ]
     },
     "execution_count": 133,
     "metadata": {
      "application/vnd.holoviews_exec.v0+json": {
       "id": "p2801"
      }
     },
     "output_type": "execute_result"
    }
   ],
   "source": [
    "# Create a plot to chart the Interest rate difference between 10 years and 1 year Treasury\n",
    "\n",
    "treasury_df.hvplot.line(x=\"date\", y=\"10-1 Rate Diff\", title = \"Treasury Securities - 10 Years Minus 1 Year Interest Rate Difference\")"
   ]
  },
  {
   "cell_type": "code",
   "execution_count": null,
   "id": "deaf69ca",
   "metadata": {},
   "outputs": [],
   "source": []
  }
 ],
 "metadata": {
  "kernelspec": {
   "display_name": "Python 3 (ipykernel)",
   "language": "python",
   "name": "python3"
  },
  "language_info": {
   "codemirror_mode": {
    "name": "ipython",
    "version": 3
   },
   "file_extension": ".py",
   "mimetype": "text/x-python",
   "name": "python",
   "nbconvert_exporter": "python",
   "pygments_lexer": "ipython3",
   "version": "3.10.13"
  }
 },
 "nbformat": 4,
 "nbformat_minor": 5
}
